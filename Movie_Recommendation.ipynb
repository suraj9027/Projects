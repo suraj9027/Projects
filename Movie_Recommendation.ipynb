{
  "nbformat": 4,
  "nbformat_minor": 0,
  "metadata": {
    "colab": {
      "provenance": [],
      "authorship_tag": "ABX9TyP9nCVdX17fvzrZlJMpOGpS",
      "include_colab_link": true
    },
    "kernelspec": {
      "name": "python3",
      "display_name": "Python 3"
    },
    "language_info": {
      "name": "python"
    }
  },
  "cells": [
    {
      "cell_type": "markdown",
      "metadata": {
        "id": "view-in-github",
        "colab_type": "text"
      },
      "source": [
        "<a href=\"https://colab.research.google.com/github/suraj9027/Projects/blob/main/Movie_Recommendation.ipynb\" target=\"_parent\"><img src=\"https://colab.research.google.com/assets/colab-badge.svg\" alt=\"Open In Colab\"/></a>"
      ]
    },
    {
      "cell_type": "markdown",
      "source": [
        "#Title:-Movies Recommendation System"
      ],
      "metadata": {
        "id": "fw2V6UQYZQgT"
      }
    },
    {
      "cell_type": "markdown",
      "source": [
        "Objective:-The primary goal of movie recommendation systems is to filter and predict only those movies that a corresponding user is most likely to want to watch."
      ],
      "metadata": {
        "id": "vZffL9sqursf"
      }
    },
    {
      "cell_type": "markdown",
      "source": [
        "Data Source:-From YBI Foundation Github"
      ],
      "metadata": {
        "id": "1CKFXrQ1ZShr"
      }
    },
    {
      "cell_type": "markdown",
      "source": [
        "Import Library"
      ],
      "metadata": {
        "id": "H6fqY2PDY9O2"
      }
    },
    {
      "cell_type": "code",
      "source": [
        "import numpy as np\n",
        "import pandas as pd"
      ],
      "metadata": {
        "id": "EgLP4Xe0ZHRq"
      },
      "execution_count": 292,
      "outputs": []
    },
    {
      "cell_type": "markdown",
      "source": [
        "Import Dataset"
      ],
      "metadata": {
        "id": "YS_usZjcaLjO"
      }
    },
    {
      "cell_type": "code",
      "source": [
        "df = pd.read_csv(r'MoviesRecommendation.csv')"
      ],
      "metadata": {
        "id": "zeNXdF2OaOQh"
      },
      "execution_count": 293,
      "outputs": []
    },
    {
      "cell_type": "code",
      "source": [
        "df.head()"
      ],
      "metadata": {
        "colab": {
          "base_uri": "https://localhost:8080/",
          "height": 672
        },
        "id": "xuidVi-Ed8mm",
        "outputId": "eff62a7f-9549-42bc-8350-7ea8b30d1a96"
      },
      "execution_count": 294,
      "outputs": [
        {
          "output_type": "execute_result",
          "data": {
            "text/plain": [
              "   Movie_ID      Movie_Title                       Movie_Genre Movie_Language  \\\n",
              "0         1       Four Rooms                      Crime Comedy             en   \n",
              "1         2        Star Wars  Adventure Action Science Fiction             en   \n",
              "2         3     Finding Nemo                  Animation Family             en   \n",
              "3         4     Forrest Gump              Comedy Drama Romance             en   \n",
              "4         5  American Beauty                             Drama             en   \n",
              "\n",
              "   Movie_Budget  Movie_Popularity Movie_Release_Date  Movie_Revenue  \\\n",
              "0       4000000         22.876230         09-12-1995        4300000   \n",
              "1      11000000        126.393695         25-05-1977      775398007   \n",
              "2      94000000         85.688789         30-05-2003      940335536   \n",
              "3      55000000        138.133331         06-07-1994      677945399   \n",
              "4      15000000         80.878605         15-09-1999      356296601   \n",
              "\n",
              "   Movie_Runtime  Movie_Vote  ...  \\\n",
              "0           98.0         6.5  ...   \n",
              "1          121.0         8.1  ...   \n",
              "2          100.0         7.6  ...   \n",
              "3          142.0         8.2  ...   \n",
              "4          122.0         7.9  ...   \n",
              "\n",
              "                                      Movie_Homepage  \\\n",
              "0                                                NaN   \n",
              "1  http://www.starwars.com/films/star-wars-episod...   \n",
              "2              http://movies.disney.com/finding-nemo   \n",
              "3                                                NaN   \n",
              "4                      http://www.dreamworks.com/ab/   \n",
              "\n",
              "                                      Movie_Keywords  \\\n",
              "0          hotel new year's eve witch bet hotel room   \n",
              "1        android galaxy hermit death star lightsaber   \n",
              "2  father son relationship harbor underwater fish...   \n",
              "3  vietnam veteran hippie mentally disabled runni...   \n",
              "4  male nudity female nudity adultery midlife cri...   \n",
              "\n",
              "                                      Movie_Overview  \\\n",
              "0  It's Ted the Bellhop's first night on the job....   \n",
              "1  Princess Leia is captured and held hostage by ...   \n",
              "2  Nemo, an adventurous young clownfish, is unexp...   \n",
              "3  A man with a low IQ has accomplished great thi...   \n",
              "4  Lester Burnham, a depressed suburban father in...   \n",
              "\n",
              "                              Movie_Production_House  \\\n",
              "0  [{\"name\": \"Miramax Films\", \"id\": 14}, {\"name\":...   \n",
              "1  [{\"name\": \"Lucasfilm\", \"id\": 1}, {\"name\": \"Twe...   \n",
              "2     [{\"name\": \"Pixar Animation Studios\", \"id\": 3}]   \n",
              "3          [{\"name\": \"Paramount Pictures\", \"id\": 4}]   \n",
              "4  [{\"name\": \"DreamWorks SKG\", \"id\": 27}, {\"name\"...   \n",
              "\n",
              "                            Movie_Production_Country  \\\n",
              "0  [{\"iso_3166_1\": \"US\", \"name\": \"United States o...   \n",
              "1  [{\"iso_3166_1\": \"US\", \"name\": \"United States o...   \n",
              "2  [{\"iso_3166_1\": \"US\", \"name\": \"United States o...   \n",
              "3  [{\"iso_3166_1\": \"US\", \"name\": \"United States o...   \n",
              "4  [{\"iso_3166_1\": \"US\", \"name\": \"United States o...   \n",
              "\n",
              "                      Movie_Spoken_Language  \\\n",
              "0  [{\"iso_639_1\": \"en\", \"name\": \"English\"}]   \n",
              "1  [{\"iso_639_1\": \"en\", \"name\": \"English\"}]   \n",
              "2  [{\"iso_639_1\": \"en\", \"name\": \"English\"}]   \n",
              "3  [{\"iso_639_1\": \"en\", \"name\": \"English\"}]   \n",
              "4  [{\"iso_639_1\": \"en\", \"name\": \"English\"}]   \n",
              "\n",
              "                                       Movie_Tagline  \\\n",
              "0  Twelve outrageous guests. Four scandalous requ...   \n",
              "1       A long time ago in a galaxy far, far away...   \n",
              "2  There are 3.7 trillion fish in the ocean, they...   \n",
              "3  The world will never be the same, once you've ...   \n",
              "4                                       Look closer.   \n",
              "\n",
              "                                          Movie_Cast  \\\n",
              "0  Tim Roth Antonio Banderas Jennifer Beals Madon...   \n",
              "1  Mark Hamill Harrison Ford Carrie Fisher Peter ...   \n",
              "2  Albert Brooks Ellen DeGeneres Alexander Gould ...   \n",
              "3  Tom Hanks Robin Wright Gary Sinise Mykelti Wil...   \n",
              "4  Kevin Spacey Annette Bening Thora Birch Wes Be...   \n",
              "\n",
              "                                          Movie_Crew   Movie_Director  \n",
              "0  [{'name': 'Allison Anders', 'gender': 1, 'depa...   Allison Anders  \n",
              "1  [{'name': 'George Lucas', 'gender': 2, 'depart...     George Lucas  \n",
              "2  [{'name': 'Andrew Stanton', 'gender': 2, 'depa...   Andrew Stanton  \n",
              "3  [{'name': 'Alan Silvestri', 'gender': 2, 'depa...  Robert Zemeckis  \n",
              "4  [{'name': 'Thomas Newman', 'gender': 2, 'depar...       Sam Mendes  \n",
              "\n",
              "[5 rows x 21 columns]"
            ],
            "text/html": [
              "\n",
              "  <div id=\"df-7d161e8c-1a8e-4d71-937c-c32d12f2a8a1\" class=\"colab-df-container\">\n",
              "    <div>\n",
              "<style scoped>\n",
              "    .dataframe tbody tr th:only-of-type {\n",
              "        vertical-align: middle;\n",
              "    }\n",
              "\n",
              "    .dataframe tbody tr th {\n",
              "        vertical-align: top;\n",
              "    }\n",
              "\n",
              "    .dataframe thead th {\n",
              "        text-align: right;\n",
              "    }\n",
              "</style>\n",
              "<table border=\"1\" class=\"dataframe\">\n",
              "  <thead>\n",
              "    <tr style=\"text-align: right;\">\n",
              "      <th></th>\n",
              "      <th>Movie_ID</th>\n",
              "      <th>Movie_Title</th>\n",
              "      <th>Movie_Genre</th>\n",
              "      <th>Movie_Language</th>\n",
              "      <th>Movie_Budget</th>\n",
              "      <th>Movie_Popularity</th>\n",
              "      <th>Movie_Release_Date</th>\n",
              "      <th>Movie_Revenue</th>\n",
              "      <th>Movie_Runtime</th>\n",
              "      <th>Movie_Vote</th>\n",
              "      <th>...</th>\n",
              "      <th>Movie_Homepage</th>\n",
              "      <th>Movie_Keywords</th>\n",
              "      <th>Movie_Overview</th>\n",
              "      <th>Movie_Production_House</th>\n",
              "      <th>Movie_Production_Country</th>\n",
              "      <th>Movie_Spoken_Language</th>\n",
              "      <th>Movie_Tagline</th>\n",
              "      <th>Movie_Cast</th>\n",
              "      <th>Movie_Crew</th>\n",
              "      <th>Movie_Director</th>\n",
              "    </tr>\n",
              "  </thead>\n",
              "  <tbody>\n",
              "    <tr>\n",
              "      <th>0</th>\n",
              "      <td>1</td>\n",
              "      <td>Four Rooms</td>\n",
              "      <td>Crime Comedy</td>\n",
              "      <td>en</td>\n",
              "      <td>4000000</td>\n",
              "      <td>22.876230</td>\n",
              "      <td>09-12-1995</td>\n",
              "      <td>4300000</td>\n",
              "      <td>98.0</td>\n",
              "      <td>6.5</td>\n",
              "      <td>...</td>\n",
              "      <td>NaN</td>\n",
              "      <td>hotel new year's eve witch bet hotel room</td>\n",
              "      <td>It's Ted the Bellhop's first night on the job....</td>\n",
              "      <td>[{\"name\": \"Miramax Films\", \"id\": 14}, {\"name\":...</td>\n",
              "      <td>[{\"iso_3166_1\": \"US\", \"name\": \"United States o...</td>\n",
              "      <td>[{\"iso_639_1\": \"en\", \"name\": \"English\"}]</td>\n",
              "      <td>Twelve outrageous guests. Four scandalous requ...</td>\n",
              "      <td>Tim Roth Antonio Banderas Jennifer Beals Madon...</td>\n",
              "      <td>[{'name': 'Allison Anders', 'gender': 1, 'depa...</td>\n",
              "      <td>Allison Anders</td>\n",
              "    </tr>\n",
              "    <tr>\n",
              "      <th>1</th>\n",
              "      <td>2</td>\n",
              "      <td>Star Wars</td>\n",
              "      <td>Adventure Action Science Fiction</td>\n",
              "      <td>en</td>\n",
              "      <td>11000000</td>\n",
              "      <td>126.393695</td>\n",
              "      <td>25-05-1977</td>\n",
              "      <td>775398007</td>\n",
              "      <td>121.0</td>\n",
              "      <td>8.1</td>\n",
              "      <td>...</td>\n",
              "      <td>http://www.starwars.com/films/star-wars-episod...</td>\n",
              "      <td>android galaxy hermit death star lightsaber</td>\n",
              "      <td>Princess Leia is captured and held hostage by ...</td>\n",
              "      <td>[{\"name\": \"Lucasfilm\", \"id\": 1}, {\"name\": \"Twe...</td>\n",
              "      <td>[{\"iso_3166_1\": \"US\", \"name\": \"United States o...</td>\n",
              "      <td>[{\"iso_639_1\": \"en\", \"name\": \"English\"}]</td>\n",
              "      <td>A long time ago in a galaxy far, far away...</td>\n",
              "      <td>Mark Hamill Harrison Ford Carrie Fisher Peter ...</td>\n",
              "      <td>[{'name': 'George Lucas', 'gender': 2, 'depart...</td>\n",
              "      <td>George Lucas</td>\n",
              "    </tr>\n",
              "    <tr>\n",
              "      <th>2</th>\n",
              "      <td>3</td>\n",
              "      <td>Finding Nemo</td>\n",
              "      <td>Animation Family</td>\n",
              "      <td>en</td>\n",
              "      <td>94000000</td>\n",
              "      <td>85.688789</td>\n",
              "      <td>30-05-2003</td>\n",
              "      <td>940335536</td>\n",
              "      <td>100.0</td>\n",
              "      <td>7.6</td>\n",
              "      <td>...</td>\n",
              "      <td>http://movies.disney.com/finding-nemo</td>\n",
              "      <td>father son relationship harbor underwater fish...</td>\n",
              "      <td>Nemo, an adventurous young clownfish, is unexp...</td>\n",
              "      <td>[{\"name\": \"Pixar Animation Studios\", \"id\": 3}]</td>\n",
              "      <td>[{\"iso_3166_1\": \"US\", \"name\": \"United States o...</td>\n",
              "      <td>[{\"iso_639_1\": \"en\", \"name\": \"English\"}]</td>\n",
              "      <td>There are 3.7 trillion fish in the ocean, they...</td>\n",
              "      <td>Albert Brooks Ellen DeGeneres Alexander Gould ...</td>\n",
              "      <td>[{'name': 'Andrew Stanton', 'gender': 2, 'depa...</td>\n",
              "      <td>Andrew Stanton</td>\n",
              "    </tr>\n",
              "    <tr>\n",
              "      <th>3</th>\n",
              "      <td>4</td>\n",
              "      <td>Forrest Gump</td>\n",
              "      <td>Comedy Drama Romance</td>\n",
              "      <td>en</td>\n",
              "      <td>55000000</td>\n",
              "      <td>138.133331</td>\n",
              "      <td>06-07-1994</td>\n",
              "      <td>677945399</td>\n",
              "      <td>142.0</td>\n",
              "      <td>8.2</td>\n",
              "      <td>...</td>\n",
              "      <td>NaN</td>\n",
              "      <td>vietnam veteran hippie mentally disabled runni...</td>\n",
              "      <td>A man with a low IQ has accomplished great thi...</td>\n",
              "      <td>[{\"name\": \"Paramount Pictures\", \"id\": 4}]</td>\n",
              "      <td>[{\"iso_3166_1\": \"US\", \"name\": \"United States o...</td>\n",
              "      <td>[{\"iso_639_1\": \"en\", \"name\": \"English\"}]</td>\n",
              "      <td>The world will never be the same, once you've ...</td>\n",
              "      <td>Tom Hanks Robin Wright Gary Sinise Mykelti Wil...</td>\n",
              "      <td>[{'name': 'Alan Silvestri', 'gender': 2, 'depa...</td>\n",
              "      <td>Robert Zemeckis</td>\n",
              "    </tr>\n",
              "    <tr>\n",
              "      <th>4</th>\n",
              "      <td>5</td>\n",
              "      <td>American Beauty</td>\n",
              "      <td>Drama</td>\n",
              "      <td>en</td>\n",
              "      <td>15000000</td>\n",
              "      <td>80.878605</td>\n",
              "      <td>15-09-1999</td>\n",
              "      <td>356296601</td>\n",
              "      <td>122.0</td>\n",
              "      <td>7.9</td>\n",
              "      <td>...</td>\n",
              "      <td>http://www.dreamworks.com/ab/</td>\n",
              "      <td>male nudity female nudity adultery midlife cri...</td>\n",
              "      <td>Lester Burnham, a depressed suburban father in...</td>\n",
              "      <td>[{\"name\": \"DreamWorks SKG\", \"id\": 27}, {\"name\"...</td>\n",
              "      <td>[{\"iso_3166_1\": \"US\", \"name\": \"United States o...</td>\n",
              "      <td>[{\"iso_639_1\": \"en\", \"name\": \"English\"}]</td>\n",
              "      <td>Look closer.</td>\n",
              "      <td>Kevin Spacey Annette Bening Thora Birch Wes Be...</td>\n",
              "      <td>[{'name': 'Thomas Newman', 'gender': 2, 'depar...</td>\n",
              "      <td>Sam Mendes</td>\n",
              "    </tr>\n",
              "  </tbody>\n",
              "</table>\n",
              "<p>5 rows × 21 columns</p>\n",
              "</div>\n",
              "    <div class=\"colab-df-buttons\">\n",
              "\n",
              "  <div class=\"colab-df-container\">\n",
              "    <button class=\"colab-df-convert\" onclick=\"convertToInteractive('df-7d161e8c-1a8e-4d71-937c-c32d12f2a8a1')\"\n",
              "            title=\"Convert this dataframe to an interactive table.\"\n",
              "            style=\"display:none;\">\n",
              "\n",
              "  <svg xmlns=\"http://www.w3.org/2000/svg\" height=\"24px\" viewBox=\"0 -960 960 960\">\n",
              "    <path d=\"M120-120v-720h720v720H120Zm60-500h600v-160H180v160Zm220 220h160v-160H400v160Zm0 220h160v-160H400v160ZM180-400h160v-160H180v160Zm440 0h160v-160H620v160ZM180-180h160v-160H180v160Zm440 0h160v-160H620v160Z\"/>\n",
              "  </svg>\n",
              "    </button>\n",
              "\n",
              "  <style>\n",
              "    .colab-df-container {\n",
              "      display:flex;\n",
              "      gap: 12px;\n",
              "    }\n",
              "\n",
              "    .colab-df-convert {\n",
              "      background-color: #E8F0FE;\n",
              "      border: none;\n",
              "      border-radius: 50%;\n",
              "      cursor: pointer;\n",
              "      display: none;\n",
              "      fill: #1967D2;\n",
              "      height: 32px;\n",
              "      padding: 0 0 0 0;\n",
              "      width: 32px;\n",
              "    }\n",
              "\n",
              "    .colab-df-convert:hover {\n",
              "      background-color: #E2EBFA;\n",
              "      box-shadow: 0px 1px 2px rgba(60, 64, 67, 0.3), 0px 1px 3px 1px rgba(60, 64, 67, 0.15);\n",
              "      fill: #174EA6;\n",
              "    }\n",
              "\n",
              "    .colab-df-buttons div {\n",
              "      margin-bottom: 4px;\n",
              "    }\n",
              "\n",
              "    [theme=dark] .colab-df-convert {\n",
              "      background-color: #3B4455;\n",
              "      fill: #D2E3FC;\n",
              "    }\n",
              "\n",
              "    [theme=dark] .colab-df-convert:hover {\n",
              "      background-color: #434B5C;\n",
              "      box-shadow: 0px 1px 3px 1px rgba(0, 0, 0, 0.15);\n",
              "      filter: drop-shadow(0px 1px 2px rgba(0, 0, 0, 0.3));\n",
              "      fill: #FFFFFF;\n",
              "    }\n",
              "  </style>\n",
              "\n",
              "    <script>\n",
              "      const buttonEl =\n",
              "        document.querySelector('#df-7d161e8c-1a8e-4d71-937c-c32d12f2a8a1 button.colab-df-convert');\n",
              "      buttonEl.style.display =\n",
              "        google.colab.kernel.accessAllowed ? 'block' : 'none';\n",
              "\n",
              "      async function convertToInteractive(key) {\n",
              "        const element = document.querySelector('#df-7d161e8c-1a8e-4d71-937c-c32d12f2a8a1');\n",
              "        const dataTable =\n",
              "          await google.colab.kernel.invokeFunction('convertToInteractive',\n",
              "                                                    [key], {});\n",
              "        if (!dataTable) return;\n",
              "\n",
              "        const docLinkHtml = 'Like what you see? Visit the ' +\n",
              "          '<a target=\"_blank\" href=https://colab.research.google.com/notebooks/data_table.ipynb>data table notebook</a>'\n",
              "          + ' to learn more about interactive tables.';\n",
              "        element.innerHTML = '';\n",
              "        dataTable['output_type'] = 'display_data';\n",
              "        await google.colab.output.renderOutput(dataTable, element);\n",
              "        const docLink = document.createElement('div');\n",
              "        docLink.innerHTML = docLinkHtml;\n",
              "        element.appendChild(docLink);\n",
              "      }\n",
              "    </script>\n",
              "  </div>\n",
              "\n",
              "\n",
              "<div id=\"df-d4753dc6-13ee-4a2b-a4bf-acd05da3711c\">\n",
              "  <button class=\"colab-df-quickchart\" onclick=\"quickchart('df-d4753dc6-13ee-4a2b-a4bf-acd05da3711c')\"\n",
              "            title=\"Suggest charts\"\n",
              "            style=\"display:none;\">\n",
              "\n",
              "<svg xmlns=\"http://www.w3.org/2000/svg\" height=\"24px\"viewBox=\"0 0 24 24\"\n",
              "     width=\"24px\">\n",
              "    <g>\n",
              "        <path d=\"M19 3H5c-1.1 0-2 .9-2 2v14c0 1.1.9 2 2 2h14c1.1 0 2-.9 2-2V5c0-1.1-.9-2-2-2zM9 17H7v-7h2v7zm4 0h-2V7h2v10zm4 0h-2v-4h2v4z\"/>\n",
              "    </g>\n",
              "</svg>\n",
              "  </button>\n",
              "\n",
              "<style>\n",
              "  .colab-df-quickchart {\n",
              "      --bg-color: #E8F0FE;\n",
              "      --fill-color: #1967D2;\n",
              "      --hover-bg-color: #E2EBFA;\n",
              "      --hover-fill-color: #174EA6;\n",
              "      --disabled-fill-color: #AAA;\n",
              "      --disabled-bg-color: #DDD;\n",
              "  }\n",
              "\n",
              "  [theme=dark] .colab-df-quickchart {\n",
              "      --bg-color: #3B4455;\n",
              "      --fill-color: #D2E3FC;\n",
              "      --hover-bg-color: #434B5C;\n",
              "      --hover-fill-color: #FFFFFF;\n",
              "      --disabled-bg-color: #3B4455;\n",
              "      --disabled-fill-color: #666;\n",
              "  }\n",
              "\n",
              "  .colab-df-quickchart {\n",
              "    background-color: var(--bg-color);\n",
              "    border: none;\n",
              "    border-radius: 50%;\n",
              "    cursor: pointer;\n",
              "    display: none;\n",
              "    fill: var(--fill-color);\n",
              "    height: 32px;\n",
              "    padding: 0;\n",
              "    width: 32px;\n",
              "  }\n",
              "\n",
              "  .colab-df-quickchart:hover {\n",
              "    background-color: var(--hover-bg-color);\n",
              "    box-shadow: 0 1px 2px rgba(60, 64, 67, 0.3), 0 1px 3px 1px rgba(60, 64, 67, 0.15);\n",
              "    fill: var(--button-hover-fill-color);\n",
              "  }\n",
              "\n",
              "  .colab-df-quickchart-complete:disabled,\n",
              "  .colab-df-quickchart-complete:disabled:hover {\n",
              "    background-color: var(--disabled-bg-color);\n",
              "    fill: var(--disabled-fill-color);\n",
              "    box-shadow: none;\n",
              "  }\n",
              "\n",
              "  .colab-df-spinner {\n",
              "    border: 2px solid var(--fill-color);\n",
              "    border-color: transparent;\n",
              "    border-bottom-color: var(--fill-color);\n",
              "    animation:\n",
              "      spin 1s steps(1) infinite;\n",
              "  }\n",
              "\n",
              "  @keyframes spin {\n",
              "    0% {\n",
              "      border-color: transparent;\n",
              "      border-bottom-color: var(--fill-color);\n",
              "      border-left-color: var(--fill-color);\n",
              "    }\n",
              "    20% {\n",
              "      border-color: transparent;\n",
              "      border-left-color: var(--fill-color);\n",
              "      border-top-color: var(--fill-color);\n",
              "    }\n",
              "    30% {\n",
              "      border-color: transparent;\n",
              "      border-left-color: var(--fill-color);\n",
              "      border-top-color: var(--fill-color);\n",
              "      border-right-color: var(--fill-color);\n",
              "    }\n",
              "    40% {\n",
              "      border-color: transparent;\n",
              "      border-right-color: var(--fill-color);\n",
              "      border-top-color: var(--fill-color);\n",
              "    }\n",
              "    60% {\n",
              "      border-color: transparent;\n",
              "      border-right-color: var(--fill-color);\n",
              "    }\n",
              "    80% {\n",
              "      border-color: transparent;\n",
              "      border-right-color: var(--fill-color);\n",
              "      border-bottom-color: var(--fill-color);\n",
              "    }\n",
              "    90% {\n",
              "      border-color: transparent;\n",
              "      border-bottom-color: var(--fill-color);\n",
              "    }\n",
              "  }\n",
              "</style>\n",
              "\n",
              "  <script>\n",
              "    async function quickchart(key) {\n",
              "      const quickchartButtonEl =\n",
              "        document.querySelector('#' + key + ' button');\n",
              "      quickchartButtonEl.disabled = true;  // To prevent multiple clicks.\n",
              "      quickchartButtonEl.classList.add('colab-df-spinner');\n",
              "      try {\n",
              "        const charts = await google.colab.kernel.invokeFunction(\n",
              "            'suggestCharts', [key], {});\n",
              "      } catch (error) {\n",
              "        console.error('Error during call to suggestCharts:', error);\n",
              "      }\n",
              "      quickchartButtonEl.classList.remove('colab-df-spinner');\n",
              "      quickchartButtonEl.classList.add('colab-df-quickchart-complete');\n",
              "    }\n",
              "    (() => {\n",
              "      let quickchartButtonEl =\n",
              "        document.querySelector('#df-d4753dc6-13ee-4a2b-a4bf-acd05da3711c button');\n",
              "      quickchartButtonEl.style.display =\n",
              "        google.colab.kernel.accessAllowed ? 'block' : 'none';\n",
              "    })();\n",
              "  </script>\n",
              "</div>\n",
              "\n",
              "    </div>\n",
              "  </div>\n"
            ],
            "application/vnd.google.colaboratory.intrinsic+json": {
              "type": "dataframe",
              "variable_name": "df"
            }
          },
          "metadata": {},
          "execution_count": 294
        }
      ]
    },
    {
      "cell_type": "code",
      "source": [
        "df.info()"
      ],
      "metadata": {
        "colab": {
          "base_uri": "https://localhost:8080/"
        },
        "id": "3hzw_eZ9eWp-",
        "outputId": "0273be0e-edc8-435c-bcfa-3221b0df4744"
      },
      "execution_count": 295,
      "outputs": [
        {
          "output_type": "stream",
          "name": "stdout",
          "text": [
            "<class 'pandas.core.frame.DataFrame'>\n",
            "RangeIndex: 4760 entries, 0 to 4759\n",
            "Data columns (total 21 columns):\n",
            " #   Column                    Non-Null Count  Dtype  \n",
            "---  ------                    --------------  -----  \n",
            " 0   Movie_ID                  4760 non-null   int64  \n",
            " 1   Movie_Title               4760 non-null   object \n",
            " 2   Movie_Genre               4760 non-null   object \n",
            " 3   Movie_Language            4760 non-null   object \n",
            " 4   Movie_Budget              4760 non-null   int64  \n",
            " 5   Movie_Popularity          4760 non-null   float64\n",
            " 6   Movie_Release_Date        4760 non-null   object \n",
            " 7   Movie_Revenue             4760 non-null   int64  \n",
            " 8   Movie_Runtime             4758 non-null   float64\n",
            " 9   Movie_Vote                4760 non-null   float64\n",
            " 10  Movie_Vote_Count          4760 non-null   int64  \n",
            " 11  Movie_Homepage            1699 non-null   object \n",
            " 12  Movie_Keywords            4373 non-null   object \n",
            " 13  Movie_Overview            4757 non-null   object \n",
            " 14  Movie_Production_House    4760 non-null   object \n",
            " 15  Movie_Production_Country  4760 non-null   object \n",
            " 16  Movie_Spoken_Language     4760 non-null   object \n",
            " 17  Movie_Tagline             3942 non-null   object \n",
            " 18  Movie_Cast                4733 non-null   object \n",
            " 19  Movie_Crew                4760 non-null   object \n",
            " 20  Movie_Director            4738 non-null   object \n",
            "dtypes: float64(3), int64(4), object(14)\n",
            "memory usage: 781.1+ KB\n"
          ]
        }
      ]
    },
    {
      "cell_type": "code",
      "source": [
        "df.shape"
      ],
      "metadata": {
        "colab": {
          "base_uri": "https://localhost:8080/"
        },
        "id": "iBawV6Y4ecBM",
        "outputId": "b96be351-a129-4053-e5f3-4d5eb08ee4d6"
      },
      "execution_count": 296,
      "outputs": [
        {
          "output_type": "execute_result",
          "data": {
            "text/plain": [
              "(4760, 21)"
            ]
          },
          "metadata": {},
          "execution_count": 296
        }
      ]
    },
    {
      "cell_type": "code",
      "source": [
        "df.columns"
      ],
      "metadata": {
        "colab": {
          "base_uri": "https://localhost:8080/"
        },
        "id": "Jm8r_KVYehvf",
        "outputId": "6f10bd08-5059-40d1-941e-1f024c754034"
      },
      "execution_count": 297,
      "outputs": [
        {
          "output_type": "execute_result",
          "data": {
            "text/plain": [
              "Index(['Movie_ID', 'Movie_Title', 'Movie_Genre', 'Movie_Language',\n",
              "       'Movie_Budget', 'Movie_Popularity', 'Movie_Release_Date',\n",
              "       'Movie_Revenue', 'Movie_Runtime', 'Movie_Vote', 'Movie_Vote_Count',\n",
              "       'Movie_Homepage', 'Movie_Keywords', 'Movie_Overview',\n",
              "       'Movie_Production_House', 'Movie_Production_Country',\n",
              "       'Movie_Spoken_Language', 'Movie_Tagline', 'Movie_Cast', 'Movie_Crew',\n",
              "       'Movie_Director'],\n",
              "      dtype='object')"
            ]
          },
          "metadata": {},
          "execution_count": 297
        }
      ]
    },
    {
      "cell_type": "markdown",
      "source": [
        "Get Feature Selection"
      ],
      "metadata": {
        "id": "UyEW5eTZetwt"
      }
    },
    {
      "cell_type": "code",
      "source": [
        "df_features = df[['Movie_Genre','Movie_Keywords','Movie_Tagline','Movie_Cast','Movie_Director']].fillna('')"
      ],
      "metadata": {
        "id": "45p1EIK0eyFa"
      },
      "execution_count": 298,
      "outputs": []
    },
    {
      "cell_type": "markdown",
      "source": [
        "Selecting five existing features to recommend movies.It may vary from one project to another.Like one can add vote counts,budget,language etc."
      ],
      "metadata": {
        "id": "8do3cMyqe6yz"
      }
    },
    {
      "cell_type": "code",
      "source": [
        "df_features.shape"
      ],
      "metadata": {
        "colab": {
          "base_uri": "https://localhost:8080/"
        },
        "id": "4Lt63SUWfWvv",
        "outputId": "926a1f58-f581-40e8-cebf-81dac9c9e9e9"
      },
      "execution_count": 299,
      "outputs": [
        {
          "output_type": "execute_result",
          "data": {
            "text/plain": [
              "(4760, 5)"
            ]
          },
          "metadata": {},
          "execution_count": 299
        }
      ]
    },
    {
      "cell_type": "code",
      "source": [
        "df_features"
      ],
      "metadata": {
        "colab": {
          "base_uri": "https://localhost:8080/",
          "height": 493
        },
        "id": "Fy_hG8rAfduG",
        "outputId": "db9369a7-de93-4010-ff3f-b557b582ffa3"
      },
      "execution_count": 300,
      "outputs": [
        {
          "output_type": "execute_result",
          "data": {
            "text/plain": [
              "                           Movie_Genre  \\\n",
              "0                         Crime Comedy   \n",
              "1     Adventure Action Science Fiction   \n",
              "2                     Animation Family   \n",
              "3                 Comedy Drama Romance   \n",
              "4                                Drama   \n",
              "...                                ...   \n",
              "4755                            Horror   \n",
              "4756               Comedy Family Drama   \n",
              "4757                    Thriller Drama   \n",
              "4758                            Family   \n",
              "4759                       Documentary   \n",
              "\n",
              "                                         Movie_Keywords  \\\n",
              "0             hotel new year's eve witch bet hotel room   \n",
              "1           android galaxy hermit death star lightsaber   \n",
              "2     father son relationship harbor underwater fish...   \n",
              "3     vietnam veteran hippie mentally disabled runni...   \n",
              "4     male nudity female nudity adultery midlife cri...   \n",
              "...                                                 ...   \n",
              "4755                                                      \n",
              "4756                                                      \n",
              "4757                     christian film sex trafficking   \n",
              "4758                                                      \n",
              "4759  music actors legendary perfomer classic hollyw...   \n",
              "\n",
              "                                          Movie_Tagline  \\\n",
              "0     Twelve outrageous guests. Four scandalous requ...   \n",
              "1          A long time ago in a galaxy far, far away...   \n",
              "2     There are 3.7 trillion fish in the ocean, they...   \n",
              "3     The world will never be the same, once you've ...   \n",
              "4                                          Look closer.   \n",
              "...                                                 ...   \n",
              "4755                The hot spot where Satan's waitin'.   \n",
              "4756           It’s better to stand out than to fit in.   \n",
              "4757           She never knew it could happen to her...   \n",
              "4758                                                      \n",
              "4759                                                      \n",
              "\n",
              "                                             Movie_Cast     Movie_Director  \n",
              "0     Tim Roth Antonio Banderas Jennifer Beals Madon...     Allison Anders  \n",
              "1     Mark Hamill Harrison Ford Carrie Fisher Peter ...       George Lucas  \n",
              "2     Albert Brooks Ellen DeGeneres Alexander Gould ...     Andrew Stanton  \n",
              "3     Tom Hanks Robin Wright Gary Sinise Mykelti Wil...    Robert Zemeckis  \n",
              "4     Kevin Spacey Annette Bening Thora Birch Wes Be...         Sam Mendes  \n",
              "...                                                 ...                ...  \n",
              "4755  Lisa Hart Carroll Michael Des Barres Paul Drak...         Pece Dingo  \n",
              "4756  Roni Akurati Brighton Sharbino Jason Lee Anjul...       Frank Lotito  \n",
              "4757  Nicole Smolen Kim Baldwin Ariana Stephens Brys...       Jaco Booyens  \n",
              "4758                                                                        \n",
              "4759                                    Tony Oppedisano  Simon Napier-Bell  \n",
              "\n",
              "[4760 rows x 5 columns]"
            ],
            "text/html": [
              "\n",
              "  <div id=\"df-b20faaaf-c382-4bab-b98d-d2d90bd2cc9c\" class=\"colab-df-container\">\n",
              "    <div>\n",
              "<style scoped>\n",
              "    .dataframe tbody tr th:only-of-type {\n",
              "        vertical-align: middle;\n",
              "    }\n",
              "\n",
              "    .dataframe tbody tr th {\n",
              "        vertical-align: top;\n",
              "    }\n",
              "\n",
              "    .dataframe thead th {\n",
              "        text-align: right;\n",
              "    }\n",
              "</style>\n",
              "<table border=\"1\" class=\"dataframe\">\n",
              "  <thead>\n",
              "    <tr style=\"text-align: right;\">\n",
              "      <th></th>\n",
              "      <th>Movie_Genre</th>\n",
              "      <th>Movie_Keywords</th>\n",
              "      <th>Movie_Tagline</th>\n",
              "      <th>Movie_Cast</th>\n",
              "      <th>Movie_Director</th>\n",
              "    </tr>\n",
              "  </thead>\n",
              "  <tbody>\n",
              "    <tr>\n",
              "      <th>0</th>\n",
              "      <td>Crime Comedy</td>\n",
              "      <td>hotel new year's eve witch bet hotel room</td>\n",
              "      <td>Twelve outrageous guests. Four scandalous requ...</td>\n",
              "      <td>Tim Roth Antonio Banderas Jennifer Beals Madon...</td>\n",
              "      <td>Allison Anders</td>\n",
              "    </tr>\n",
              "    <tr>\n",
              "      <th>1</th>\n",
              "      <td>Adventure Action Science Fiction</td>\n",
              "      <td>android galaxy hermit death star lightsaber</td>\n",
              "      <td>A long time ago in a galaxy far, far away...</td>\n",
              "      <td>Mark Hamill Harrison Ford Carrie Fisher Peter ...</td>\n",
              "      <td>George Lucas</td>\n",
              "    </tr>\n",
              "    <tr>\n",
              "      <th>2</th>\n",
              "      <td>Animation Family</td>\n",
              "      <td>father son relationship harbor underwater fish...</td>\n",
              "      <td>There are 3.7 trillion fish in the ocean, they...</td>\n",
              "      <td>Albert Brooks Ellen DeGeneres Alexander Gould ...</td>\n",
              "      <td>Andrew Stanton</td>\n",
              "    </tr>\n",
              "    <tr>\n",
              "      <th>3</th>\n",
              "      <td>Comedy Drama Romance</td>\n",
              "      <td>vietnam veteran hippie mentally disabled runni...</td>\n",
              "      <td>The world will never be the same, once you've ...</td>\n",
              "      <td>Tom Hanks Robin Wright Gary Sinise Mykelti Wil...</td>\n",
              "      <td>Robert Zemeckis</td>\n",
              "    </tr>\n",
              "    <tr>\n",
              "      <th>4</th>\n",
              "      <td>Drama</td>\n",
              "      <td>male nudity female nudity adultery midlife cri...</td>\n",
              "      <td>Look closer.</td>\n",
              "      <td>Kevin Spacey Annette Bening Thora Birch Wes Be...</td>\n",
              "      <td>Sam Mendes</td>\n",
              "    </tr>\n",
              "    <tr>\n",
              "      <th>...</th>\n",
              "      <td>...</td>\n",
              "      <td>...</td>\n",
              "      <td>...</td>\n",
              "      <td>...</td>\n",
              "      <td>...</td>\n",
              "    </tr>\n",
              "    <tr>\n",
              "      <th>4755</th>\n",
              "      <td>Horror</td>\n",
              "      <td></td>\n",
              "      <td>The hot spot where Satan's waitin'.</td>\n",
              "      <td>Lisa Hart Carroll Michael Des Barres Paul Drak...</td>\n",
              "      <td>Pece Dingo</td>\n",
              "    </tr>\n",
              "    <tr>\n",
              "      <th>4756</th>\n",
              "      <td>Comedy Family Drama</td>\n",
              "      <td></td>\n",
              "      <td>It’s better to stand out than to fit in.</td>\n",
              "      <td>Roni Akurati Brighton Sharbino Jason Lee Anjul...</td>\n",
              "      <td>Frank Lotito</td>\n",
              "    </tr>\n",
              "    <tr>\n",
              "      <th>4757</th>\n",
              "      <td>Thriller Drama</td>\n",
              "      <td>christian film sex trafficking</td>\n",
              "      <td>She never knew it could happen to her...</td>\n",
              "      <td>Nicole Smolen Kim Baldwin Ariana Stephens Brys...</td>\n",
              "      <td>Jaco Booyens</td>\n",
              "    </tr>\n",
              "    <tr>\n",
              "      <th>4758</th>\n",
              "      <td>Family</td>\n",
              "      <td></td>\n",
              "      <td></td>\n",
              "      <td></td>\n",
              "      <td></td>\n",
              "    </tr>\n",
              "    <tr>\n",
              "      <th>4759</th>\n",
              "      <td>Documentary</td>\n",
              "      <td>music actors legendary perfomer classic hollyw...</td>\n",
              "      <td></td>\n",
              "      <td>Tony Oppedisano</td>\n",
              "      <td>Simon Napier-Bell</td>\n",
              "    </tr>\n",
              "  </tbody>\n",
              "</table>\n",
              "<p>4760 rows × 5 columns</p>\n",
              "</div>\n",
              "    <div class=\"colab-df-buttons\">\n",
              "\n",
              "  <div class=\"colab-df-container\">\n",
              "    <button class=\"colab-df-convert\" onclick=\"convertToInteractive('df-b20faaaf-c382-4bab-b98d-d2d90bd2cc9c')\"\n",
              "            title=\"Convert this dataframe to an interactive table.\"\n",
              "            style=\"display:none;\">\n",
              "\n",
              "  <svg xmlns=\"http://www.w3.org/2000/svg\" height=\"24px\" viewBox=\"0 -960 960 960\">\n",
              "    <path d=\"M120-120v-720h720v720H120Zm60-500h600v-160H180v160Zm220 220h160v-160H400v160Zm0 220h160v-160H400v160ZM180-400h160v-160H180v160Zm440 0h160v-160H620v160ZM180-180h160v-160H180v160Zm440 0h160v-160H620v160Z\"/>\n",
              "  </svg>\n",
              "    </button>\n",
              "\n",
              "  <style>\n",
              "    .colab-df-container {\n",
              "      display:flex;\n",
              "      gap: 12px;\n",
              "    }\n",
              "\n",
              "    .colab-df-convert {\n",
              "      background-color: #E8F0FE;\n",
              "      border: none;\n",
              "      border-radius: 50%;\n",
              "      cursor: pointer;\n",
              "      display: none;\n",
              "      fill: #1967D2;\n",
              "      height: 32px;\n",
              "      padding: 0 0 0 0;\n",
              "      width: 32px;\n",
              "    }\n",
              "\n",
              "    .colab-df-convert:hover {\n",
              "      background-color: #E2EBFA;\n",
              "      box-shadow: 0px 1px 2px rgba(60, 64, 67, 0.3), 0px 1px 3px 1px rgba(60, 64, 67, 0.15);\n",
              "      fill: #174EA6;\n",
              "    }\n",
              "\n",
              "    .colab-df-buttons div {\n",
              "      margin-bottom: 4px;\n",
              "    }\n",
              "\n",
              "    [theme=dark] .colab-df-convert {\n",
              "      background-color: #3B4455;\n",
              "      fill: #D2E3FC;\n",
              "    }\n",
              "\n",
              "    [theme=dark] .colab-df-convert:hover {\n",
              "      background-color: #434B5C;\n",
              "      box-shadow: 0px 1px 3px 1px rgba(0, 0, 0, 0.15);\n",
              "      filter: drop-shadow(0px 1px 2px rgba(0, 0, 0, 0.3));\n",
              "      fill: #FFFFFF;\n",
              "    }\n",
              "  </style>\n",
              "\n",
              "    <script>\n",
              "      const buttonEl =\n",
              "        document.querySelector('#df-b20faaaf-c382-4bab-b98d-d2d90bd2cc9c button.colab-df-convert');\n",
              "      buttonEl.style.display =\n",
              "        google.colab.kernel.accessAllowed ? 'block' : 'none';\n",
              "\n",
              "      async function convertToInteractive(key) {\n",
              "        const element = document.querySelector('#df-b20faaaf-c382-4bab-b98d-d2d90bd2cc9c');\n",
              "        const dataTable =\n",
              "          await google.colab.kernel.invokeFunction('convertToInteractive',\n",
              "                                                    [key], {});\n",
              "        if (!dataTable) return;\n",
              "\n",
              "        const docLinkHtml = 'Like what you see? Visit the ' +\n",
              "          '<a target=\"_blank\" href=https://colab.research.google.com/notebooks/data_table.ipynb>data table notebook</a>'\n",
              "          + ' to learn more about interactive tables.';\n",
              "        element.innerHTML = '';\n",
              "        dataTable['output_type'] = 'display_data';\n",
              "        await google.colab.output.renderOutput(dataTable, element);\n",
              "        const docLink = document.createElement('div');\n",
              "        docLink.innerHTML = docLinkHtml;\n",
              "        element.appendChild(docLink);\n",
              "      }\n",
              "    </script>\n",
              "  </div>\n",
              "\n",
              "\n",
              "<div id=\"df-01ebb10a-0654-4f9a-828d-a7909e58fb00\">\n",
              "  <button class=\"colab-df-quickchart\" onclick=\"quickchart('df-01ebb10a-0654-4f9a-828d-a7909e58fb00')\"\n",
              "            title=\"Suggest charts\"\n",
              "            style=\"display:none;\">\n",
              "\n",
              "<svg xmlns=\"http://www.w3.org/2000/svg\" height=\"24px\"viewBox=\"0 0 24 24\"\n",
              "     width=\"24px\">\n",
              "    <g>\n",
              "        <path d=\"M19 3H5c-1.1 0-2 .9-2 2v14c0 1.1.9 2 2 2h14c1.1 0 2-.9 2-2V5c0-1.1-.9-2-2-2zM9 17H7v-7h2v7zm4 0h-2V7h2v10zm4 0h-2v-4h2v4z\"/>\n",
              "    </g>\n",
              "</svg>\n",
              "  </button>\n",
              "\n",
              "<style>\n",
              "  .colab-df-quickchart {\n",
              "      --bg-color: #E8F0FE;\n",
              "      --fill-color: #1967D2;\n",
              "      --hover-bg-color: #E2EBFA;\n",
              "      --hover-fill-color: #174EA6;\n",
              "      --disabled-fill-color: #AAA;\n",
              "      --disabled-bg-color: #DDD;\n",
              "  }\n",
              "\n",
              "  [theme=dark] .colab-df-quickchart {\n",
              "      --bg-color: #3B4455;\n",
              "      --fill-color: #D2E3FC;\n",
              "      --hover-bg-color: #434B5C;\n",
              "      --hover-fill-color: #FFFFFF;\n",
              "      --disabled-bg-color: #3B4455;\n",
              "      --disabled-fill-color: #666;\n",
              "  }\n",
              "\n",
              "  .colab-df-quickchart {\n",
              "    background-color: var(--bg-color);\n",
              "    border: none;\n",
              "    border-radius: 50%;\n",
              "    cursor: pointer;\n",
              "    display: none;\n",
              "    fill: var(--fill-color);\n",
              "    height: 32px;\n",
              "    padding: 0;\n",
              "    width: 32px;\n",
              "  }\n",
              "\n",
              "  .colab-df-quickchart:hover {\n",
              "    background-color: var(--hover-bg-color);\n",
              "    box-shadow: 0 1px 2px rgba(60, 64, 67, 0.3), 0 1px 3px 1px rgba(60, 64, 67, 0.15);\n",
              "    fill: var(--button-hover-fill-color);\n",
              "  }\n",
              "\n",
              "  .colab-df-quickchart-complete:disabled,\n",
              "  .colab-df-quickchart-complete:disabled:hover {\n",
              "    background-color: var(--disabled-bg-color);\n",
              "    fill: var(--disabled-fill-color);\n",
              "    box-shadow: none;\n",
              "  }\n",
              "\n",
              "  .colab-df-spinner {\n",
              "    border: 2px solid var(--fill-color);\n",
              "    border-color: transparent;\n",
              "    border-bottom-color: var(--fill-color);\n",
              "    animation:\n",
              "      spin 1s steps(1) infinite;\n",
              "  }\n",
              "\n",
              "  @keyframes spin {\n",
              "    0% {\n",
              "      border-color: transparent;\n",
              "      border-bottom-color: var(--fill-color);\n",
              "      border-left-color: var(--fill-color);\n",
              "    }\n",
              "    20% {\n",
              "      border-color: transparent;\n",
              "      border-left-color: var(--fill-color);\n",
              "      border-top-color: var(--fill-color);\n",
              "    }\n",
              "    30% {\n",
              "      border-color: transparent;\n",
              "      border-left-color: var(--fill-color);\n",
              "      border-top-color: var(--fill-color);\n",
              "      border-right-color: var(--fill-color);\n",
              "    }\n",
              "    40% {\n",
              "      border-color: transparent;\n",
              "      border-right-color: var(--fill-color);\n",
              "      border-top-color: var(--fill-color);\n",
              "    }\n",
              "    60% {\n",
              "      border-color: transparent;\n",
              "      border-right-color: var(--fill-color);\n",
              "    }\n",
              "    80% {\n",
              "      border-color: transparent;\n",
              "      border-right-color: var(--fill-color);\n",
              "      border-bottom-color: var(--fill-color);\n",
              "    }\n",
              "    90% {\n",
              "      border-color: transparent;\n",
              "      border-bottom-color: var(--fill-color);\n",
              "    }\n",
              "  }\n",
              "</style>\n",
              "\n",
              "  <script>\n",
              "    async function quickchart(key) {\n",
              "      const quickchartButtonEl =\n",
              "        document.querySelector('#' + key + ' button');\n",
              "      quickchartButtonEl.disabled = true;  // To prevent multiple clicks.\n",
              "      quickchartButtonEl.classList.add('colab-df-spinner');\n",
              "      try {\n",
              "        const charts = await google.colab.kernel.invokeFunction(\n",
              "            'suggestCharts', [key], {});\n",
              "      } catch (error) {\n",
              "        console.error('Error during call to suggestCharts:', error);\n",
              "      }\n",
              "      quickchartButtonEl.classList.remove('colab-df-spinner');\n",
              "      quickchartButtonEl.classList.add('colab-df-quickchart-complete');\n",
              "    }\n",
              "    (() => {\n",
              "      let quickchartButtonEl =\n",
              "        document.querySelector('#df-01ebb10a-0654-4f9a-828d-a7909e58fb00 button');\n",
              "      quickchartButtonEl.style.display =\n",
              "        google.colab.kernel.accessAllowed ? 'block' : 'none';\n",
              "    })();\n",
              "  </script>\n",
              "</div>\n",
              "\n",
              "  <div id=\"id_94dacdb9-5c10-4380-bc9d-8ca9d13f7ed0\">\n",
              "    <style>\n",
              "      .colab-df-generate {\n",
              "        background-color: #E8F0FE;\n",
              "        border: none;\n",
              "        border-radius: 50%;\n",
              "        cursor: pointer;\n",
              "        display: none;\n",
              "        fill: #1967D2;\n",
              "        height: 32px;\n",
              "        padding: 0 0 0 0;\n",
              "        width: 32px;\n",
              "      }\n",
              "\n",
              "      .colab-df-generate:hover {\n",
              "        background-color: #E2EBFA;\n",
              "        box-shadow: 0px 1px 2px rgba(60, 64, 67, 0.3), 0px 1px 3px 1px rgba(60, 64, 67, 0.15);\n",
              "        fill: #174EA6;\n",
              "      }\n",
              "\n",
              "      [theme=dark] .colab-df-generate {\n",
              "        background-color: #3B4455;\n",
              "        fill: #D2E3FC;\n",
              "      }\n",
              "\n",
              "      [theme=dark] .colab-df-generate:hover {\n",
              "        background-color: #434B5C;\n",
              "        box-shadow: 0px 1px 3px 1px rgba(0, 0, 0, 0.15);\n",
              "        filter: drop-shadow(0px 1px 2px rgba(0, 0, 0, 0.3));\n",
              "        fill: #FFFFFF;\n",
              "      }\n",
              "    </style>\n",
              "    <button class=\"colab-df-generate\" onclick=\"generateWithVariable('df_features')\"\n",
              "            title=\"Generate code using this dataframe.\"\n",
              "            style=\"display:none;\">\n",
              "\n",
              "  <svg xmlns=\"http://www.w3.org/2000/svg\" height=\"24px\"viewBox=\"0 0 24 24\"\n",
              "       width=\"24px\">\n",
              "    <path d=\"M7,19H8.4L18.45,9,17,7.55,7,17.6ZM5,21V16.75L18.45,3.32a2,2,0,0,1,2.83,0l1.4,1.43a1.91,1.91,0,0,1,.58,1.4,1.91,1.91,0,0,1-.58,1.4L9.25,21ZM18.45,9,17,7.55Zm-12,3A5.31,5.31,0,0,0,4.9,8.1,5.31,5.31,0,0,0,1,6.5,5.31,5.31,0,0,0,4.9,4.9,5.31,5.31,0,0,0,6.5,1,5.31,5.31,0,0,0,8.1,4.9,5.31,5.31,0,0,0,12,6.5,5.46,5.46,0,0,0,6.5,12Z\"/>\n",
              "  </svg>\n",
              "    </button>\n",
              "    <script>\n",
              "      (() => {\n",
              "      const buttonEl =\n",
              "        document.querySelector('#id_94dacdb9-5c10-4380-bc9d-8ca9d13f7ed0 button.colab-df-generate');\n",
              "      buttonEl.style.display =\n",
              "        google.colab.kernel.accessAllowed ? 'block' : 'none';\n",
              "\n",
              "      buttonEl.onclick = () => {\n",
              "        google.colab.notebook.generateWithVariable('df_features');\n",
              "      }\n",
              "      })();\n",
              "    </script>\n",
              "  </div>\n",
              "\n",
              "    </div>\n",
              "  </div>\n"
            ],
            "application/vnd.google.colaboratory.intrinsic+json": {
              "type": "dataframe",
              "variable_name": "df_features",
              "summary": "{\n  \"name\": \"df_features\",\n  \"rows\": 4760,\n  \"fields\": [\n    {\n      \"column\": \"Movie_Genre\",\n      \"properties\": {\n        \"dtype\": \"category\",\n        \"num_unique_values\": 1164,\n        \"samples\": [\n          \"Family Animation Adventure\",\n          \"Adventure Science Fiction Action\",\n          \"Action Crime Drama Romance Thriller\"\n        ],\n        \"semantic_type\": \"\",\n        \"description\": \"\"\n      }\n    },\n    {\n      \"column\": \"Movie_Keywords\",\n      \"properties\": {\n        \"dtype\": \"string\",\n        \"num_unique_values\": 4203,\n        \"samples\": [\n          \"canada nazis sequel spin off ancient evil\",\n          \"sex professor wedding woman director columbia university\",\n          \"prophecy sea beach gold small town\"\n        ],\n        \"semantic_type\": \"\",\n        \"description\": \"\"\n      }\n    },\n    {\n      \"column\": \"Movie_Tagline\",\n      \"properties\": {\n        \"dtype\": \"string\",\n        \"num_unique_values\": 3928,\n        \"samples\": [\n          \"The messenger must be silenced.\",\n          \"It's not the house that's haunted.\",\n          \"The final hunt begins.\"\n        ],\n        \"semantic_type\": \"\",\n        \"description\": \"\"\n      }\n    },\n    {\n      \"column\": \"Movie_Cast\",\n      \"properties\": {\n        \"dtype\": \"string\",\n        \"num_unique_values\": 4715,\n        \"samples\": [\n          \"Robin Tunney Fairuza Balk Neve Campbell Rachel True Skeet Ulrich\",\n          \"Peter Sellers Christopher Plummer Herbert Lom Catherine Schell Peter Arne\",\n          \"John Wayne Laraine Day Cedric Hardwicke Judith Anderson Anthony Quinn\"\n        ],\n        \"semantic_type\": \"\",\n        \"description\": \"\"\n      }\n    },\n    {\n      \"column\": \"Movie_Director\",\n      \"properties\": {\n        \"dtype\": \"category\",\n        \"num_unique_values\": 2332,\n        \"samples\": [\n          \"Rob McKittrick\",\n          \"Terron R. Parsons\",\n          \"Cyrus Nowrasteh\"\n        ],\n        \"semantic_type\": \"\",\n        \"description\": \"\"\n      }\n    }\n  ]\n}"
            }
          },
          "metadata": {},
          "execution_count": 300
        }
      ]
    },
    {
      "cell_type": "code",
      "source": [
        "x=df_features['Movie_Genre']+' '+df_features['Movie_Keywords']+' '+df_features['Movie_Tagline']+' '+df_features['Movie_Cast']+' '+df_features['Movie_Director']\n"
      ],
      "metadata": {
        "id": "-GXZtFoEfzkx"
      },
      "execution_count": 301,
      "outputs": []
    },
    {
      "cell_type": "code",
      "source": [
        "x"
      ],
      "metadata": {
        "colab": {
          "base_uri": "https://localhost:8080/"
        },
        "id": "jtysVyB1f7Ob",
        "outputId": "7efb83db-34e3-4fd1-c6a1-4901f9b3009c"
      },
      "execution_count": 302,
      "outputs": [
        {
          "output_type": "execute_result",
          "data": {
            "text/plain": [
              "0       Crime Comedy hotel new year's eve witch bet ho...\n",
              "1       Adventure Action Science Fiction android galax...\n",
              "2       Animation Family father son relationship harbo...\n",
              "3       Comedy Drama Romance vietnam veteran hippie me...\n",
              "4       Drama male nudity female nudity adultery midli...\n",
              "                              ...                        \n",
              "4755    Horror  The hot spot where Satan's waitin'. Li...\n",
              "4756    Comedy Family Drama  It’s better to stand out ...\n",
              "4757    Thriller Drama christian film sex trafficking ...\n",
              "4758                                           Family    \n",
              "4759    Documentary music actors legendary perfomer cl...\n",
              "Length: 4760, dtype: object"
            ]
          },
          "metadata": {},
          "execution_count": 302
        }
      ]
    },
    {
      "cell_type": "code",
      "source": [
        "x.shape"
      ],
      "metadata": {
        "colab": {
          "base_uri": "https://localhost:8080/"
        },
        "id": "_YddViSaf-Xw",
        "outputId": "ea7cbc6e-fa7b-42a0-fd52-26fd25446f93"
      },
      "execution_count": 303,
      "outputs": [
        {
          "output_type": "execute_result",
          "data": {
            "text/plain": [
              "(4760,)"
            ]
          },
          "metadata": {},
          "execution_count": 303
        }
      ]
    },
    {
      "cell_type": "markdown",
      "source": [
        "Get Feature Text Conversion to tokens"
      ],
      "metadata": {
        "id": "BmbvNZfgf_5n"
      }
    },
    {
      "cell_type": "code",
      "source": [
        "from sklearn.feature_extraction.text import TfidfVectorizer"
      ],
      "metadata": {
        "id": "J43kpL50gNey"
      },
      "execution_count": 304,
      "outputs": []
    },
    {
      "cell_type": "code",
      "source": [
        "tfidf=TfidfVectorizer()"
      ],
      "metadata": {
        "id": "VdQm-JiGgOtb"
      },
      "execution_count": 305,
      "outputs": []
    },
    {
      "cell_type": "code",
      "source": [
        "x=tfidf.fit_transform(x)"
      ],
      "metadata": {
        "id": "jZjABL8BgWkK"
      },
      "execution_count": 306,
      "outputs": []
    },
    {
      "cell_type": "code",
      "source": [
        "x.shape"
      ],
      "metadata": {
        "colab": {
          "base_uri": "https://localhost:8080/"
        },
        "id": "_w5DZ5GEgc0u",
        "outputId": "2e0f2478-ed68-48ef-d175-4f9311384508"
      },
      "execution_count": 307,
      "outputs": [
        {
          "output_type": "execute_result",
          "data": {
            "text/plain": [
              "(4760, 17258)"
            ]
          },
          "metadata": {},
          "execution_count": 307
        }
      ]
    },
    {
      "cell_type": "code",
      "source": [
        "print(x)"
      ],
      "metadata": {
        "colab": {
          "base_uri": "https://localhost:8080/"
        },
        "id": "6sjZe26wgiuH",
        "outputId": "2aec29e2-df2f-4895-d21f-67b59dc32c8d"
      },
      "execution_count": 308,
      "outputs": [
        {
          "output_type": "stream",
          "name": "stdout",
          "text": [
            "  (0, 617)\t0.1633382144407513\n",
            "  (0, 492)\t0.1432591540388685\n",
            "  (0, 15413)\t0.1465525095337543\n",
            "  (0, 9675)\t0.14226057295252661\n",
            "  (0, 9465)\t0.1659841367820977\n",
            "  (0, 1390)\t0.16898383612799558\n",
            "  (0, 7825)\t0.09799561597509843\n",
            "  (0, 1214)\t0.13865857545144072\n",
            "  (0, 729)\t0.13415063359531618\n",
            "  (0, 13093)\t0.1432591540388685\n",
            "  (0, 15355)\t0.10477815972666779\n",
            "  (0, 9048)\t0.0866842116160778\n",
            "  (0, 11161)\t0.06250380151644369\n",
            "  (0, 16773)\t0.17654247479915475\n",
            "  (0, 5612)\t0.08603537588547631\n",
            "  (0, 16735)\t0.10690083751525419\n",
            "  (0, 7904)\t0.13348000542112332\n",
            "  (0, 15219)\t0.09800472886453934\n",
            "  (0, 11242)\t0.07277788238484746\n",
            "  (0, 3878)\t0.11998399582562203\n",
            "  (0, 5499)\t0.11454057510303811\n",
            "  (0, 7071)\t0.19822417598406614\n",
            "  (0, 7454)\t0.14745635785412262\n",
            "  (0, 1495)\t0.19712637387361423\n",
            "  (0, 9206)\t0.15186283580984414\n",
            "  :\t:\n",
            "  (4757, 5455)\t0.12491480594769522\n",
            "  (4757, 2967)\t0.16273475835631626\n",
            "  (4757, 8464)\t0.23522565554066333\n",
            "  (4757, 6938)\t0.17088173678136628\n",
            "  (4757, 8379)\t0.17480603856721913\n",
            "  (4757, 15303)\t0.07654356007668191\n",
            "  (4757, 15384)\t0.09754322497537371\n",
            "  (4757, 7649)\t0.11479421494340192\n",
            "  (4757, 10896)\t0.14546473055066447\n",
            "  (4757, 4494)\t0.05675298448720501\n",
            "  (4758, 5238)\t1.0\n",
            "  (4759, 11264)\t0.33947721804318337\n",
            "  (4759, 11708)\t0.33947721804318337\n",
            "  (4759, 205)\t0.3237911628497312\n",
            "  (4759, 8902)\t0.3040290704566037\n",
            "  (4759, 14062)\t0.3237911628497312\n",
            "  (4759, 3058)\t0.2812896191863103\n",
            "  (4759, 7130)\t0.26419662449963793\n",
            "  (4759, 10761)\t0.3126617295732147\n",
            "  (4759, 4358)\t0.18306542312175342\n",
            "  (4759, 14051)\t0.20084315377640435\n",
            "  (4759, 5690)\t0.19534291014627303\n",
            "  (4759, 15431)\t0.19628653185946862\n",
            "  (4759, 1490)\t0.21197258705292082\n",
            "  (4759, 10666)\t0.15888268987343043\n"
          ]
        }
      ]
    },
    {
      "cell_type": "markdown",
      "source": [
        "Get Simarity Score using Cosine Similarity"
      ],
      "metadata": {
        "id": "-xsHSeSag6cf"
      }
    },
    {
      "cell_type": "code",
      "source": [
        "from sklearn.metrics.pairwise import cosine_similarity"
      ],
      "metadata": {
        "id": "zyftCo1UhCmu"
      },
      "execution_count": 309,
      "outputs": []
    },
    {
      "cell_type": "code",
      "source": [
        "similarity_score=cosine_similarity(x)"
      ],
      "metadata": {
        "id": "MYMKN41ChI_F"
      },
      "execution_count": 310,
      "outputs": []
    },
    {
      "cell_type": "code",
      "source": [
        "similarity_score"
      ],
      "metadata": {
        "colab": {
          "base_uri": "https://localhost:8080/"
        },
        "id": "jqzJXRDvhWki",
        "outputId": "05735b63-017c-4148-da91-2e204990ccf3"
      },
      "execution_count": 311,
      "outputs": [
        {
          "output_type": "execute_result",
          "data": {
            "text/plain": [
              "array([[1.        , 0.01351235, 0.03570468, ..., 0.        , 0.        ,\n",
              "        0.        ],\n",
              "       [0.01351235, 1.        , 0.00806674, ..., 0.        , 0.        ,\n",
              "        0.        ],\n",
              "       [0.03570468, 0.00806674, 1.        , ..., 0.        , 0.08014876,\n",
              "        0.        ],\n",
              "       ...,\n",
              "       [0.        , 0.        , 0.        , ..., 1.        , 0.        ,\n",
              "        0.        ],\n",
              "       [0.        , 0.        , 0.08014876, ..., 0.        , 1.        ,\n",
              "        0.        ],\n",
              "       [0.        , 0.        , 0.        , ..., 0.        , 0.        ,\n",
              "        1.        ]])"
            ]
          },
          "metadata": {},
          "execution_count": 311
        }
      ]
    },
    {
      "cell_type": "code",
      "source": [
        "similarity_score.shape"
      ],
      "metadata": {
        "colab": {
          "base_uri": "https://localhost:8080/"
        },
        "id": "JzRGCaD_hY3i",
        "outputId": "b5554b0a-3f93-487d-a4ba-7c74497daba8"
      },
      "execution_count": 312,
      "outputs": [
        {
          "output_type": "execute_result",
          "data": {
            "text/plain": [
              "(4760, 4760)"
            ]
          },
          "metadata": {},
          "execution_count": 312
        }
      ]
    },
    {
      "cell_type": "markdown",
      "source": [
        "Get Movie Name as Input from User and Validate for Closet Spelling"
      ],
      "metadata": {
        "id": "s3e86gL_heYI"
      }
    },
    {
      "cell_type": "code",
      "source": [
        "Favorite_movie_name=input('Enter your favorite movie name:')"
      ],
      "metadata": {
        "colab": {
          "base_uri": "https://localhost:8080/"
        },
        "id": "im2IZOaHhnMj",
        "outputId": "aaef800b-2f31-480e-de1c-4577063b5791"
      },
      "execution_count": 313,
      "outputs": [
        {
          "name": "stdout",
          "output_type": "stream",
          "text": [
            "Enter your favorite movie name:Robot\n"
          ]
        }
      ]
    },
    {
      "cell_type": "code",
      "source": [
        "All_movies_title_list=df['Movie_Title'].tolist()"
      ],
      "metadata": {
        "id": "iyFeZHxOiVo4"
      },
      "execution_count": 314,
      "outputs": []
    },
    {
      "cell_type": "code",
      "source": [
        "import difflib"
      ],
      "metadata": {
        "id": "WSj6P3SqiXwC"
      },
      "execution_count": 315,
      "outputs": []
    },
    {
      "cell_type": "code",
      "source": [
        "Movie_recommendation=difflib.get_close_matches(Favorite_movie_name,All_movies_title_list)\n",
        "print(Movie_recommendation)"
      ],
      "metadata": {
        "colab": {
          "base_uri": "https://localhost:8080/"
        },
        "id": "H7yWC1_xibaG",
        "outputId": "c6a168ce-1315-4873-ed19-32309824ff85"
      },
      "execution_count": 316,
      "outputs": [
        {
          "output_type": "stream",
          "name": "stdout",
          "text": [
            "['Robots', 'I, Robot', 'Room']\n"
          ]
        }
      ]
    },
    {
      "cell_type": "code",
      "source": [
        "get_close_match=Movie_recommendation[0]\n",
        "print(get_close_match)"
      ],
      "metadata": {
        "colab": {
          "base_uri": "https://localhost:8080/"
        },
        "id": "BDODkVA8iqPl",
        "outputId": "e97bc3df-4021-4f9f-d838-aa71dcbbee65"
      },
      "execution_count": 317,
      "outputs": [
        {
          "output_type": "stream",
          "name": "stdout",
          "text": [
            "Robots\n"
          ]
        }
      ]
    },
    {
      "cell_type": "code",
      "source": [
        "Index_of_close_match_movie=df[df.Movie_Title==get_close_match]['Movie_ID'].values[0]\n",
        "print(Index_of_close_match_movie)"
      ],
      "metadata": {
        "colab": {
          "base_uri": "https://localhost:8080/"
        },
        "id": "UGptIlXOiw3D",
        "outputId": "f5f26d76-8ade-40f6-90a9-5930856e97d0"
      },
      "execution_count": 318,
      "outputs": [
        {
          "output_type": "stream",
          "name": "stdout",
          "text": [
            "1506\n"
          ]
        }
      ]
    },
    {
      "cell_type": "code",
      "source": [
        "#getting a list of similar movies\n",
        "Recommendation_score=list(enumerate(similarity_score[Index_of_close_match_movie]))\n",
        "print(Recommendation_score)"
      ],
      "metadata": {
        "colab": {
          "base_uri": "https://localhost:8080/"
        },
        "id": "UmsndueCjW91",
        "outputId": "3aadf02b-5c71-491d-f163-9211a8c36f3f"
      },
      "execution_count": 319,
      "outputs": [
        {
          "output_type": "stream",
          "name": "stdout",
          "text": [
            "[(0, 0.13141165719938272), (1, 0.0), (2, 0.008196171474980174), (3, 0.07191585463890196), (4, 0.017470166740872123), (5, 0.01912429274077209), (6, 0.03168058305474179), (7, 0.04470153240148957), (8, 0.015752305656312585), (9, 0.043418362736888164), (10, 0.07926796520621249), (11, 0.01808112176394392), (12, 0.021893434423287297), (13, 0.03639405277635712), (14, 0.018314717439056914), (15, 0.03560591607805722), (16, 0.004699468756487135), (17, 0.0), (18, 0.03562109166206711), (19, 0.01440054646465375), (20, 0.002092026169084497), (21, 0.017962930327643213), (22, 0.01672817197440543), (23, 0.016370194630340344), (24, 0.014872241297276882), (25, 0.03301844969463235), (26, 0.001956984559713861), (27, 0.014996791778015073), (28, 0.01245753685333188), (29, 0.03652676292096733), (30, 0.003666180684707788), (31, 0.04216066685653616), (32, 0.013088817215290548), (33, 0.027325895668464047), (34, 0.005867059788524352), (35, 0.03836866917533109), (36, 0.022717769131094162), (37, 0.04512122978889383), (38, 0.034800951845817496), (39, 0.03460389420332888), (40, 0.021377268079987577), (41, 0.002225543380210363), (42, 0.0202374275957384), (43, 0.08684809668888269), (44, 0.04023273602458272), (45, 0.025746074107292828), (46, 0.021831588971504574), (47, 0.020008875014356636), (48, 0.055718797363427414), (49, 0.05371021003833989), (50, 0.013703968373546706), (51, 0.03874547006856869), (52, 0.044866736198712426), (53, 0.01656961175943055), (54, 0.006000210863489622), (55, 0.007338641141527236), (56, 0.03187588508181572), (57, 0.044358475175455554), (58, 0.012963423022167998), (59, 0.0027999054961761432), (60, 0.05153916810850949), (61, 0.013926138315760072), (62, 0.018901647675399834), (63, 0.039786632621509645), (64, 0.01294877306358518), (65, 0.018347332096744308), (66, 0.04801399493980012), (67, 0.038679466930334985), (68, 0.029649346402379928), (69, 0.003994783444709513), (70, 0.0321069941622385), (71, 0.02026922116905967), (72, 0.02361485775206288), (73, 0.01010084667491204), (74, 0.03684654182785386), (75, 0.05706559234361712), (76, 0.01352016016626562), (77, 0.022376084489588034), (78, 0.0219525655148079), (79, 0.025602001182251567), (80, 0.024125498214287076), (81, 0.018015109529548913), (82, 0.031816990214926004), (83, 0.029924127853491342), (84, 0.023488266739767442), (85, 0.022221493901210997), (86, 0.09456182976454226), (87, 0.0162153581865266), (88, 0.0681991813505132), (89, 0.07114029964817464), (90, 0.010425630477199112), (91, 0.01878532513472915), (92, 0.0017601585680683245), (93, 0.0034846559321249173), (94, 0.024179581701599034), (95, 0.0037424982986892555), (96, 0.029302908845828618), (97, 0.033451831829549514), (98, 0.01072178975868767), (99, 0.012797441599381416), (100, 0.012818051089017693), (101, 0.02118230556487183), (102, 0.028641277993018986), (103, 0.008208548953441003), (104, 0.023905857985112543), (105, 0.04000748717248049), (106, 0.03541294265840254), (107, 0.006394777844083552), (108, 0.07219034568528608), (109, 0.05040045571110952), (110, 0.04562461351826895), (111, 0.057894507773531854), (112, 0.04378355336584154), (113, 0.027026080708416417), (114, 0.01723863490855695), (115, 0.01690677073017637), (116, 0.02360139332282446), (117, 0.00691689732872083), (118, 0.0037330566091011955), (119, 0.025787647435159863), (120, 0.013571443396652089), (121, 0.019786057623178803), (122, 0.027878012489146217), (123, 0.03705686020668542), (124, 0.08740901728786943), (125, 0.010095586306932853), (126, 0.03525893880127916), (127, 0.012462157841275127), (128, 0.013964485437501036), (129, 0.031537823439530044), (130, 0.03542116089665398), (131, 0.0516168337716907), (132, 0.005992808957897231), (133, 0.0), (134, 0.0027761242633400894), (135, 0.022722918060956214), (136, 0.016151585428632424), (137, 0.036485498398015834), (138, 0.03686696422748737), (139, 0.015569335484242216), (140, 0.0018735438193062627), (141, 0.014846171010470362), (142, 0.04462645850271085), (143, 0.011706124170194069), (144, 0.05683182813782485), (145, 0.026460755191364524), (146, 0.008065245648036845), (147, 0.019014323563752322), (148, 0.02846969306455068), (149, 0.019670861483860977), (150, 0.00935055699291155), (151, 0.013573372665602221), (152, 0.012809434520454688), (153, 0.014420792959996247), (154, 0.019283820585737382), (155, 0.02287187817595223), (156, 0.02537227744069375), (157, 0.013016544425667435), (158, 0.018428078770795157), (159, 0.04429114994410151), (160, 0.024328686904116638), (161, 0.023141993201369216), (162, 0.04373083598624069), (163, 0.0), (164, 0.02447774135814489), (165, 0.024315293196661855), (166, 0.0438169548968902), (167, 0.02179852663415571), (168, 0.0562768771285761), (169, 0.02630567687036723), (170, 0.08636390589789526), (171, 0.009067211050970664), (172, 0.020246535461653944), (173, 0.01922077730703902), (174, 0.014477896159012503), (175, 0.05433826957369475), (176, 0.0020551771384483015), (177, 0.03992294880013731), (178, 0.0071107757676066525), (179, 0.028562334978824246), (180, 0.04767065298833942), (181, 0.029863234123611575), (182, 0.029233521436297594), (183, 0.030477236424232224), (184, 0.0101726924849285), (185, 0.0074666884057682185), (186, 0.007988110049668392), (187, 0.015960323209966612), (188, 0.011590955882798227), (189, 0.025795658351637496), (190, 0.020327724638519666), (191, 0.04228618790364528), (192, 0.017642197213010656), (193, 0.03431662418693853), (194, 0.0054233428417969015), (195, 0.025927028054241845), (196, 0.03892134365583159), (197, 0.01383971773945197), (198, 0.006858353973321102), (199, 0.02710178875430865), (200, 0.01533788604090881), (201, 0.02540455570885581), (202, 0.03540367157747018), (203, 0.013346595030436588), (204, 0.035992333163232165), (205, 0.009133947940831465), (206, 0.032864453473447575), (207, 0.0761734026694587), (208, 0.035422904562308025), (209, 0.02814432101508651), (210, 0.01810341046458521), (211, 0.02273087776089746), (212, 0.06252801798453235), (213, 0.01545835894980679), (214, 0.04050132603800427), (215, 0.019823547222553053), (216, 0.0328239630566848), (217, 0.020370953375088627), (218, 0.02363484139311201), (219, 0.009910950910510613), (220, 0.024043875394863308), (221, 0.024590887330916734), (222, 0.050768494035053596), (223, 0.023216338731694035), (224, 0.013709540192643647), (225, 0.022710156619389445), (226, 0.001999817568469159), (227, 0.09678939829992915), (228, 0.03305938415833096), (229, 0.009085406492050299), (230, 0.005044861055774636), (231, 0.010864456083478658), (232, 0.015862071398828267), (233, 0.010522591350264522), (234, 0.011352263303761694), (235, 0.014446169681310825), (236, 0.015778089647855837), (237, 0.03237023807547008), (238, 0.008522430586367782), (239, 0.02348371933170556), (240, 0.01767780344797575), (241, 0.0113553939467852), (242, 0.027560337214026433), (243, 0.025226298060676913), (244, 0.014475767640819575), (245, 0.0027875330910215775), (246, 0.025661553501928423), (247, 0.0019775907878647374), (248, 0.004792383980092298), (249, 0.042430364586424005), (250, 0.03470270048721983), (251, 0.032093139397152956), (252, 0.010948956406317113), (253, 0.016964479124062792), (254, 0.0321095198439709), (255, 0.04403562296169673), (256, 0.00983105717419831), (257, 0.007813755389561642), (258, 0.011799929488922103), (259, 0.024869389059449964), (260, 0.012510931352978814), (261, 0.05217568916456384), (262, 0.050396648099522705), (263, 0.03459226710153437), (264, 0.012286596184777482), (265, 0.007763359641745559), (266, 0.052286349088165054), (267, 0.0016949626014791034), (268, 0.013401445616786734), (269, 0.053351706467626894), (270, 0.019941593550844922), (271, 0.023095286953105254), (272, 0.014307295166248997), (273, 0.021308563813916704), (274, 0.03344949895147502), (275, 0.0246431464610359), (276, 0.032577148599506445), (277, 0.03271376800418979), (278, 0.029376156801645528), (279, 0.03639768857789044), (280, 0.03858928070722865), (281, 0.014855400553480683), (282, 0.07083036584260587), (283, 0.03739416942672612), (284, 0.04118938039699331), (285, 0.011917988363659735), (286, 0.014819198298759384), (287, 0.07346077363030931), (288, 0.08567018023751692), (289, 0.002920040551499653), (290, 0.03932816926444825), (291, 0.022194731703002922), (292, 0.01623417692143009), (293, 0.008213937557659926), (294, 0.021373657249699075), (295, 0.01483884167344507), (296, 0.01779570599380018), (297, 0.031635925230074795), (298, 0.009978240535023055), (299, 0.009550583843784089), (300, 0.019692927345382014), (301, 0.027981655081833638), (302, 0.015065868171502194), (303, 0.003947980875898895), (304, 0.013642353924579865), (305, 0.043454715801800714), (306, 0.02639763578106092), (307, 0.0318468725649378), (308, 0.012244223093359987), (309, 0.029390980335800024), (310, 0.029291935042451037), (311, 0.01302480516070031), (312, 0.016540226469887634), (313, 0.009139114727626643), (314, 0.01935365588307695), (315, 0.009575945626599781), (316, 0.0033718920181512817), (317, 0.05807887726681165), (318, 0.015558188718143125), (319, 0.017880113199244683), (320, 0.03124474564436943), (321, 0.014294056036978111), (322, 0.047681782324506844), (323, 0.00325441366112126), (324, 0.034571902947319176), (325, 0.03989766454037481), (326, 0.008278082270657013), (327, 0.01647955698588988), (328, 0.05421504939574827), (329, 0.015520255044241035), (330, 0.03298227946839302), (331, 0.005398174233456923), (332, 0.02803293845159065), (333, 0.02530645759836208), (334, 0.06200643359335393), (335, 0.008830775100965579), (336, 0.024920313027062227), (337, 0.008669690510294151), (338, 0.025299638594448285), (339, 0.009426410287516099), (340, 0.01716854308057733), (341, 0.030065442563622938), (342, 0.06253526995833372), (343, 0.03947400412332986), (344, 0.04290492024151181), (345, 0.049490067178021444), (346, 0.02630576095114149), (347, 0.035823623718051124), (348, 0.02432996549691171), (349, 0.02956127553009306), (350, 0.017528558223229945), (351, 0.003599295172873306), (352, 0.01849654265894233), (353, 0.027961540748109547), (354, 0.04426508739902763), (355, 0.013374687068655106), (356, 0.023970616818861364), (357, 0.037437485967907545), (358, 0.016650604489321805), (359, 0.0018354956964203735), (360, 0.01964708514846508), (361, 0.013024497907793085), (362, 0.022601196739424255), (363, 0.041746978515884256), (364, 0.02033101756901997), (365, 0.0030178480866425756), (366, 0.02064910458800001), (367, 0.0245210040546246), (368, 0.03886501294060826), (369, 0.02385819911319077), (370, 0.025705257674412542), (371, 0.0327908965433889), (372, 0.09765460715353055), (373, 0.006406162037750057), (374, 0.012195444994928835), (375, 0.0035955842637595157), (376, 0.0), (377, 0.012840953864297087), (378, 0.002008657758811388), (379, 0.0), (380, 0.015153136748394691), (381, 0.014127618845942297), (382, 0.0), (383, 0.029419322009963007), (384, 0.03754529329551096), (385, 0.0271709216435381), (386, 0.01663875044136859), (387, 0.03126415131777956), (388, 0.015398529025948382), (389, 0.003622062363317908), (390, 0.012536793071169797), (391, 0.017310936750864925), (392, 0.02450424016856412), (393, 0.0024065933644268757), (394, 0.016278574585677892), (395, 0.00214589554631483), (396, 0.01264554596785527), (397, 0.014042351153628806), (398, 0.04121280189464445), (399, 0.0018532944357642152), (400, 0.01084909200026457), (401, 0.00275431039520112), (402, 0.14046525251342057), (403, 0.04542319482301175), (404, 0.03468373437220658), (405, 0.030719192898961304), (406, 0.015893809231907103), (407, 0.0596097717684167), (408, 0.0670488416934675), (409, 0.03187677087961683), (410, 0.020672208652163224), (411, 0.02119640187661393), (412, 0.051143396857261055), (413, 0.011335501826165226), (414, 0.0284952043609089), (415, 0.02177597883605318), (416, 0.015566782055477926), (417, 0.05625856439120415), (418, 0.046163011553464126), (419, 0.0022526297702260135), (420, 0.014183620295720052), (421, 0.009489246045590382), (422, 0.07880940163663401), (423, 0.0), (424, 0.044575357277830546), (425, 0.027214439408778757), (426, 0.022437971563746988), (427, 0.023010475733790132), (428, 0.03549067915811876), (429, 0.017604158518719992), (430, 0.021260722118335136), (431, 0.011176604672346293), (432, 0.015289910473237061), (433, 0.03325197497895798), (434, 0.05905376942229628), (435, 0.029259046723843322), (436, 0.016321303559811682), (437, 0.011728657898305616), (438, 0.012870575579570137), (439, 0.015369495478984103), (440, 0.011793857056107533), (441, 0.021720727597501974), (442, 0.024708812295140156), (443, 0.015479766261812456), (444, 0.002228538195744243), (445, 0.02123801025143968), (446, 0.007004557784425045), (447, 0.04201115036334026), (448, 0.018827687266808977), (449, 0.006494056247975451), (450, 0.018431624060106178), (451, 0.036915581612491755), (452, 0.036726196821454546), (453, 0.0015294046419493564), (454, 0.02140966742458906), (455, 0.009780357215449587), (456, 0.019179946336645836), (457, 0.010049676874722356), (458, 0.018742668695424063), (459, 0.015535269186982368), (460, 0.022636766773150588), (461, 0.01643299779292346), (462, 0.0), (463, 0.03235307217942899), (464, 0.029226709327805304), (465, 0.02668164952445161), (466, 0.020696365328732737), (467, 0.06749031069635023), (468, 0.008252086471387764), (469, 0.04520651128278817), (470, 0.011410257911163218), (471, 0.01608309978698476), (472, 0.0282087460318466), (473, 0.004268119374256433), (474, 0.01958191905741463), (475, 0.04872176152703285), (476, 0.01895673361954244), (477, 0.02985244405156839), (478, 0.002263592724174153), (479, 0.02287308253840639), (480, 0.0017550763507607986), (481, 0.018267330486525665), (482, 0.011292191515030706), (483, 0.04279658533930252), (484, 0.04218100868422603), (485, 0.02043376331816545), (486, 0.014847032604553785), (487, 0.0019146446682310053), (488, 0.016983312310529897), (489, 0.008086101803254805), (490, 0.00669350409683594), (491, 0.011167042946034187), (492, 0.014434515772310613), (493, 0.011039734800728018), (494, 0.013940394113799437), (495, 0.01021749862088607), (496, 0.07366916698722416), (497, 0.02084905701383867), (498, 0.01169728166151944), (499, 0.002176634332333965), (500, 0.07103377566324663), (501, 0.06974076357106528), (502, 0.028890162585986916), (503, 0.013498769061496614), (504, 0.019144249960531576), (505, 0.004481700417862498), (506, 0.016487896436576027), (507, 0.013398943466710894), (508, 0.016407833884796132), (509, 0.02574404661266429), (510, 0.053823478141445995), (511, 0.06719957258580406), (512, 0.0156774664675691), (513, 0.003954968358724789), (514, 0.011562010853448948), (515, 0.052682029983482134), (516, 0.0), (517, 0.006139989425617075), (518, 0.01283656936346505), (519, 0.020240762866480896), (520, 0.09316600396768472), (521, 0.03679898572023374), (522, 0.00875904244435961), (523, 0.02935246680756702), (524, 0.023726786463543745), (525, 0.01220401845013051), (526, 0.02483910024261108), (527, 0.015917123147934115), (528, 0.008783130541445765), (529, 0.026139257346222286), (530, 0.056562381342918445), (531, 0.03355495425518894), (532, 0.03176643579259897), (533, 0.018892885684175232), (534, 0.025429331304932048), (535, 0.008511256700164246), (536, 0.022627110784441764), (537, 0.01003805229466368), (538, 0.030473193738530562), (539, 0.010919752695296244), (540, 0.020989805933452593), (541, 0.03124868817154611), (542, 0.01592234659094109), (543, 0.017494746521739064), (544, 0.020481058294978385), (545, 0.06352178356607496), (546, 0.010094868839594847), (547, 0.027528454054978314), (548, 0.00895745145723979), (549, 0.015378780024792628), (550, 0.0040185985793642276), (551, 0.022757475430588855), (552, 0.0), (553, 0.032523817280643755), (554, 0.07124531790702646), (555, 0.06462367830088148), (556, 0.005711326380795136), (557, 0.0), (558, 0.012134336618829858), (559, 0.0032413106842110358), (560, 0.031467679852089044), (561, 0.04339571379895152), (562, 0.011524230109332349), (563, 0.03808085286716921), (564, 0.007081625469345256), (565, 0.006559845753446728), (566, 0.05128213910332091), (567, 0.008727229823411476), (568, 0.02252323047289762), (569, 0.09244984594065389), (570, 0.03665384753035423), (571, 0.03447606570412366), (572, 0.0), (573, 0.014810979789921536), (574, 0.0), (575, 0.008013363460379546), (576, 0.0076199280250712365), (577, 0.016280619679533204), (578, 0.02024384704958752), (579, 0.016726519947979746), (580, 0.019622350440063854), (581, 0.005081028287119828), (582, 0.014911403262557122), (583, 0.027954006886323976), (584, 0.017380670593883443), (585, 0.011803318182430812), (586, 0.02764913495523658), (587, 0.007434019579205313), (588, 0.040378911282320976), (589, 0.015961088755464578), (590, 0.027464973798664475), (591, 0.00771298381452595), (592, 0.0), (593, 0.002040029935871035), (594, 0.021292444939522957), (595, 0.004001291032832104), (596, 0.0022410053280573806), (597, 0.06131817721750889), (598, 0.009079843061892882), (599, 0.010049229444861378), (600, 0.023651831629987706), (601, 0.03362789519373553), (602, 0.0), (603, 0.010159851241419037), (604, 0.03183928781381134), (605, 0.02196925270170889), (606, 0.029885859415889227), (607, 0.02509439199554718), (608, 0.0157917422364363), (609, 0.11256068371068832), (610, 0.009497238786780578), (611, 0.0032134360452794443), (612, 0.02727946922902086), (613, 0.03234658636373522), (614, 0.013254483191923818), (615, 0.01526110807569581), (616, 0.016838572362833478), (617, 0.014655428642326945), (618, 0.029571260363099306), (619, 0.021292018550721294), (620, 0.056027017947272675), (621, 0.03043797895184451), (622, 0.05613953794084056), (623, 0.058051356938911336), (624, 0.00182943156697297), (625, 0.003130907190705684), (626, 0.027118294048131177), (627, 0.0027082902732190636), (628, 0.01893249580655009), (629, 0.0635568795352211), (630, 0.015907114871628363), (631, 0.01720421963558402), (632, 0.0396549201071079), (633, 0.0035642375735817993), (634, 0.015087296758262557), (635, 0.03048550452151228), (636, 0.005694253609646992), (637, 0.011957089517977276), (638, 0.06297989154375297), (639, 0.011138171458006356), (640, 0.029864791758851667), (641, 0.010688161798670097), (642, 0.03463553875942797), (643, 0.0632345112012298), (644, 0.018951544073756814), (645, 0.029719493490221835), (646, 0.0019233932709796203), (647, 0.008550468869919906), (648, 0.024395534477665157), (649, 0.007086214238376874), (650, 0.0), (651, 0.0069323489600776195), (652, 0.017181192119433517), (653, 0.10752303594044255), (654, 0.025663549942683286), (655, 0.0183882315928956), (656, 0.025898680517997055), (657, 0.056363827196070804), (658, 0.021087218170804375), (659, 0.019957034638553053), (660, 0.010861299194622023), (661, 0.02470003709563063), (662, 0.058588586041568115), (663, 0.029996483235080293), (664, 0.03742335122874255), (665, 0.023901337570731235), (666, 0.045914481189867254), (667, 0.018414403179574136), (668, 0.019263795945969615), (669, 0.06402290097672159), (670, 0.06986756818361156), (671, 0.013069796568318227), (672, 0.03123116289599662), (673, 0.03499320074247269), (674, 0.0), (675, 0.04350204461383436), (676, 0.023793440345271717), (677, 0.04537751540050935), (678, 0.019094200473253775), (679, 0.0202553297121059), (680, 0.012285585161425583), (681, 0.030913442489301023), (682, 0.01664214778056379), (683, 0.055784542947809164), (684, 0.0493439040025981), (685, 0.030577158214684645), (686, 0.0), (687, 0.025441417962112904), (688, 0.04007665079342214), (689, 0.04140895210845571), (690, 0.020298019007235348), (691, 0.03524745683738783), (692, 0.09399297759889386), (693, 0.006579010331550825), (694, 0.005302118197891836), (695, 0.01362930086599536), (696, 0.08727259036960305), (697, 0.059770331074360306), (698, 0.006395370415846965), (699, 0.01718017076696502), (700, 0.033226334663941315), (701, 0.03725337979525321), (702, 0.029165040077830544), (703, 0.025960274913244066), (704, 0.010328505544802417), (705, 0.02628705836393504), (706, 0.05490816322417965), (707, 0.02653963718722949), (708, 0.018557652885098794), (709, 0.016156025925587854), (710, 0.03420651846619346), (711, 0.02112774244059762), (712, 0.009388029384453305), (713, 0.0056250817309794815), (714, 0.01689214348663372), (715, 0.016470228297241967), (716, 0.005912549189934013), (717, 0.01204703345414681), (718, 0.0), (719, 0.03646004174831635), (720, 0.002613695146592779), (721, 0.0022916805861115217), (722, 0.010380137400023548), (723, 0.042367590349940094), (724, 0.04981681041585194), (725, 0.021713584183324645), (726, 0.032106672974925), (727, 0.04621120237441236), (728, 0.030125376931655255), (729, 0.01411917378554962), (730, 0.016327888804077265), (731, 0.029325141108296426), (732, 0.021285764256852108), (733, 0.040293182276208275), (734, 0.024091593228758715), (735, 0.012941027535896897), (736, 0.0820459099769374), (737, 0.040465097577439935), (738, 0.03920029950211411), (739, 0.04452881110174422), (740, 0.02987693055687838), (741, 0.04780075467690254), (742, 0.05998794372679255), (743, 0.011865265563774539), (744, 0.034370200118719205), (745, 0.012830097186459773), (746, 0.014215778074758056), (747, 0.01064966364588632), (748, 0.01563295443198405), (749, 0.021117028907051572), (750, 0.005744180658092277), (751, 0.06804538864741486), (752, 0.022409147656767527), (753, 0.03437641818212558), (754, 0.008010507897808506), (755, 0.004584768559824302), (756, 0.018383745964624342), (757, 0.09177484495183302), (758, 0.012755548109500008), (759, 0.004295303625330507), (760, 0.025552716401452083), (761, 0.005639156423905454), (762, 0.04901034058898686), (763, 0.04166649864248216), (764, 0.010912298827444855), (765, 0.01394037609053935), (766, 0.0066438645461383335), (767, 0.04589842338992896), (768, 0.04479243602427027), (769, 0.014991585922775028), (770, 0.002510062218435597), (771, 0.002927790272938264), (772, 0.0026070869892007584), (773, 0.01647363337584376), (774, 0.007003873997845404), (775, 0.03125034735903448), (776, 0.034081762169673395), (777, 0.011712669336719994), (778, 0.0207549279013257), (779, 0.03038364398888347), (780, 0.03103605918424934), (781, 0.02536616833157909), (782, 0.024644057056639843), (783, 0.0071206177610842105), (784, 0.007752707404560861), (785, 0.03250889135983724), (786, 0.011210984764708137), (787, 0.04575918196695575), (788, 0.056409910759875344), (789, 0.06433277672978226), (790, 0.02360028236539111), (791, 0.002148643007751998), (792, 0.024158666622034287), (793, 0.06395346281208329), (794, 0.013358246820510712), (795, 0.0352161549487113), (796, 0.03498485252636891), (797, 0.01834250867324124), (798, 0.0268422593367902), (799, 0.029184209489033927), (800, 0.009724156606088535), (801, 0.055338704499144395), (802, 0.040746861433903186), (803, 0.028864011426615238), (804, 0.03232962948828748), (805, 0.01717729818119406), (806, 0.01967726612604423), (807, 0.02273997479618674), (808, 0.0693942311879534), (809, 0.015119121588090301), (810, 0.017843734493975513), (811, 0.0036885296761182797), (812, 0.004898190146781071), (813, 0.04117728426700498), (814, 0.019503818151324064), (815, 0.008706327938142196), (816, 0.010710413897875476), (817, 0.006948620315011367), (818, 0.0455155180246059), (819, 0.004511100433535103), (820, 0.03186846296786475), (821, 0.01598139242711425), (822, 0.04418906484543315), (823, 0.002305408570620924), (824, 0.033897586548479505), (825, 0.02698454401710363), (826, 0.002133080366283184), (827, 0.030761319692095883), (828, 0.02569996158048228), (829, 0.04600495636711429), (830, 0.03423345304360318), (831, 0.019897522809300933), (832, 0.030299484844437043), (833, 0.027588879120278458), (834, 0.018170949164212014), (835, 0.01732163961624327), (836, 0.002395757248095654), (837, 0.002089024313039323), (838, 0.011102406464686965), (839, 0.00307036594008447), (840, 0.030375141722690367), (841, 0.0029839956227075823), (842, 0.021416369720571635), (843, 0.015594757341315706), (844, 0.020155230170648932), (845, 0.04381648632515852), (846, 0.05304894032973572), (847, 0.04445544920863293), (848, 0.0020170969634631685), (849, 0.0063516185132521785), (850, 0.024184345623953933), (851, 0.06803789058276523), (852, 0.04059635383950229), (853, 0.04724075425687781), (854, 0.016663556897004085), (855, 0.004154191004255885), (856, 0.10184072567058591), (857, 0.019389329845918356), (858, 0.0013504573219888353), (859, 0.012652686358937505), (860, 0.019462159908829033), (861, 0.004855298562124341), (862, 0.02873233230919705), (863, 0.005153892531471801), (864, 0.0631702129657662), (865, 0.039259794826324024), (866, 0.06356532519578631), (867, 0.03389808966252981), (868, 0.0052349598491599585), (869, 0.06240846214479183), (870, 0.030830506166377954), (871, 0.006945301634781816), (872, 0.005050542853703785), (873, 0.020969727058398214), (874, 0.05927770482250432), (875, 0.06392518542190731), (876, 0.031498690002276813), (877, 0.002909502326513602), (878, 0.024887494031116536), (879, 0.025325159740511194), (880, 0.010248457668106642), (881, 0.036250104391969365), (882, 0.008467336939931925), (883, 0.047128085387835555), (884, 0.0049083001146577165), (885, 0.017068346500471822), (886, 0.004422850160792045), (887, 0.04452547057013142), (888, 0.030584928277838846), (889, 0.002574052509802192), (890, 0.05232372910016908), (891, 0.06438746932455193), (892, 0.007472827314557111), (893, 0.011350705212618105), (894, 0.02835083397356536), (895, 0.05093437384776394), (896, 0.05438943363164113), (897, 0.02165544698195034), (898, 0.028257922691692566), (899, 0.020199618827282953), (900, 0.010115273283740013), (901, 0.0016566272106625804), (902, 0.05303169511742178), (903, 0.029931559305294845), (904, 0.040129523276899316), (905, 0.02026099659697843), (906, 0.037417497593963574), (907, 0.03154133493614822), (908, 0.052946630788134955), (909, 0.019959748711408903), (910, 0.025749042490356734), (911, 0.04637770691801857), (912, 0.033501632212746754), (913, 0.017582115923164335), (914, 0.013370644092844703), (915, 0.023430404957200335), (916, 0.03988644905791078), (917, 0.0017902672500146643), (918, 0.058946615641307855), (919, 0.0253146596571864), (920, 0.007918753913250592), (921, 0.01111224395953388), (922, 0.0022439740257372766), (923, 0.020700816598780154), (924, 0.025466906851778714), (925, 0.005424535940269369), (926, 0.036985074234390146), (927, 0.0035687160152497238), (928, 0.02540993420615293), (929, 0.033457651645372295), (930, 0.03131380089774478), (931, 0.027048360007027768), (932, 0.0032523077949412785), (933, 0.004818051123567108), (934, 0.04900268834480635), (935, 0.042716773477201486), (936, 0.05485356193374241), (937, 0.0354451196664258), (938, 0.06010259963624533), (939, 0.028989353767709482), (940, 0.010258117235576238), (941, 0.004418571852559642), (942, 0.023497069629923234), (943, 0.002724098237151128), (944, 0.025649409237718277), (945, 0.026134905965671945), (946, 0.0748078917120412), (947, 0.022658565205246346), (948, 0.03549246765515531), (949, 0.016894813645536393), (950, 0.0055606721664915575), (951, 0.003982604954201938), (952, 0.03126698713324412), (953, 0.03369838903303018), (954, 0.0), (955, 0.0032042294987054657), (956, 0.02229142614354767), (957, 0.02249053532518074), (958, 0.007218838308385961), (959, 0.013387362862809036), (960, 0.023869152153750753), (961, 0.010078312216121337), (962, 0.024923551885300477), (963, 0.04177553564014558), (964, 0.008722199056061192), (965, 0.0027116408120535437), (966, 0.03135796150071858), (967, 0.04808217325508855), (968, 0.014492704684242), (969, 0.0481464951102692), (970, 0.035366186769917096), (971, 0.02360977290806747), (972, 0.008014062258785228), (973, 0.03578940552537233), (974, 0.01234785076551339), (975, 0.006327965677134716), (976, 0.02835551683017139), (977, 0.0), (978, 0.029315799140749183), (979, 0.01464658404326073), (980, 0.005827348807966242), (981, 0.03456708725696754), (982, 0.029240508878902532), (983, 0.043705898695583056), (984, 0.02249757681376611), (985, 0.010841127053361155), (986, 0.016784607521602588), (987, 0.008202755292487707), (988, 0.026171892166720532), (989, 0.01652153554201371), (990, 0.0029853162016125383), (991, 0.020587547828057527), (992, 0.017949460587267672), (993, 0.027727523878170856), (994, 0.013372926045141478), (995, 0.030735079452519437), (996, 0.008968648942062118), (997, 0.0032720984956817784), (998, 0.010743571862888709), (999, 0.010734778998104556), (1000, 0.023699833672956347), (1001, 0.023581570299552334), (1002, 0.06693598573749641), (1003, 0.016092323536149398), (1004, 0.02280235313856455), (1005, 0.039356596845962974), (1006, 0.02032042208365786), (1007, 0.018799453194249745), (1008, 0.0023286637013336027), (1009, 0.04633715166549034), (1010, 0.01794703455424744), (1011, 0.010787657260084073), (1012, 0.00873596443220559), (1013, 0.037560866272354304), (1014, 0.006001748766880323), (1015, 0.02375734768822819), (1016, 0.026946893268862782), (1017, 0.03452349419386175), (1018, 0.03906601130133428), (1019, 0.015376400738821655), (1020, 0.01145498053896686), (1021, 0.025068741844592932), (1022, 0.012213590837965718), (1023, 0.013421235446226832), (1024, 0.018242353432651626), (1025, 0.017835857247359612), (1026, 0.03538792328127628), (1027, 0.013869835597416552), (1028, 0.00961377105876135), (1029, 0.04107213101265136), (1030, 0.019599127798366443), (1031, 0.010156034123024743), (1032, 0.0018891000204864915), (1033, 0.042549403682163214), (1034, 0.012131484221884115), (1035, 0.03133776230333765), (1036, 0.019743920090152713), (1037, 0.005841012451230065), (1038, 0.006828755523639006), (1039, 0.04197989746350967), (1040, 0.007402040392640452), (1041, 0.02877125219520718), (1042, 0.01639333377592219), (1043, 0.042713560168985226), (1044, 0.043924745130285756), (1045, 0.02443062342264517), (1046, 0.04733630087649347), (1047, 0.04962638179996207), (1048, 0.03145915185214205), (1049, 0.011237692278261121), (1050, 0.01121065088009131), (1051, 0.021711699084191502), (1052, 0.02862558951507757), (1053, 0.02107581646205306), (1054, 0.03144309858802355), (1055, 0.016210282106991252), (1056, 0.0103928296591181), (1057, 0.0), (1058, 0.0552835425393086), (1059, 0.024441982602209956), (1060, 0.03763182986599829), (1061, 0.03169488560554144), (1062, 0.024324872793934253), (1063, 0.04674281401260279), (1064, 0.041858938614635105), (1065, 0.00950351206962671), (1066, 0.0240635884645091), (1067, 0.0), (1068, 0.038504253908242525), (1069, 0.013653957184757258), (1070, 0.002322716113738545), (1071, 0.04679130902104931), (1072, 0.001980997481456994), (1073, 0.0071085397416800755), (1074, 0.02980987460748536), (1075, 0.01759155907344004), (1076, 0.041030696589509655), (1077, 0.06527318975949806), (1078, 0.013221914294872936), (1079, 0.015204917996801678), (1080, 0.014141820254377064), (1081, 0.03252973159204488), (1082, 0.04094470280784475), (1083, 0.013924923248873974), (1084, 0.015075765152605267), (1085, 0.0027704542377704738), (1086, 0.02223640767770393), (1087, 0.060042044270400705), (1088, 0.015167660807504748), (1089, 0.0115030351829986), (1090, 0.06178304011348978), (1091, 0.0), (1092, 0.03689938380377608), (1093, 0.0024562224740189804), (1094, 0.012386949076080083), (1095, 0.03344510746988317), (1096, 0.02425673366464681), (1097, 0.0), (1098, 0.007946657147261418), (1099, 0.012232634144726749), (1100, 0.004639597755193177), (1101, 0.04456825837465306), (1102, 0.015026015421861999), (1103, 0.0029284153803792318), (1104, 0.03988144155162384), (1105, 0.02214584891224166), (1106, 0.0561606060149588), (1107, 0.031161304023251624), (1108, 0.00993903338139216), (1109, 0.034705960511511764), (1110, 0.009578929340958801), (1111, 0.04530376935038575), (1112, 0.02842895555020673), (1113, 0.03149070178744693), (1114, 0.020183141579548182), (1115, 0.05905810536471026), (1116, 0.03100966391207213), (1117, 0.004532057759446103), (1118, 0.03818817903510017), (1119, 0.035771704694182456), (1120, 0.011245654917050938), (1121, 0.016034980229875068), (1122, 0.029893730061236287), (1123, 0.017846522648120425), (1124, 0.01954013592410355), (1125, 0.013334786258249276), (1126, 0.007383254935605406), (1127, 0.016401316213741687), (1128, 0.044240643128992785), (1129, 0.03311563839259988), (1130, 0.01781255682284987), (1131, 0.022122618309833357), (1132, 0.03564691742507347), (1133, 0.04574108427979131), (1134, 0.04273819832781308), (1135, 0.020026342953827086), (1136, 0.04280984359014998), (1137, 0.038812028382341), (1138, 0.005703553668314961), (1139, 0.027671964973524706), (1140, 0.02259100280088144), (1141, 0.023487020598148643), (1142, 0.0028469982426366225), (1143, 0.0), (1144, 0.019515242405737085), (1145, 0.009347153310487227), (1146, 0.053085836139268025), (1147, 0.0), (1148, 0.0189654093974895), (1149, 0.04681015022194351), (1150, 0.01422695461186621), (1151, 0.0), (1152, 0.013742437158134346), (1153, 0.004456307642878585), (1154, 0.012868138423811126), (1155, 0.012725636370376336), (1156, 0.0022309104340151047), (1157, 0.03765855387742255), (1158, 0.004064782466030064), (1159, 0.012375131369296235), (1160, 0.01249026078746238), (1161, 0.0018054662753297468), (1162, 0.11243462820786196), (1163, 0.0019965665993890184), (1164, 0.002958332884675512), (1165, 0.029918457983862334), (1166, 0.0027701623031187706), (1167, 0.01882083775223614), (1168, 0.022306064902171845), (1169, 0.015995572799281727), (1170, 0.049391257112897165), (1171, 0.008652652921827328), (1172, 0.005186627073674837), (1173, 0.07448364183674087), (1174, 0.005764055885480881), (1175, 0.028070407586474465), (1176, 0.002041630361865773), (1177, 0.005311312864891647), (1178, 0.01700253085934691), (1179, 0.024136630196297745), (1180, 0.01499915989289409), (1181, 0.0107172905525093), (1182, 0.007325977945128036), (1183, 0.015591362009846269), (1184, 0.024592726647911498), (1185, 0.025653319728826042), (1186, 0.03587397282967792), (1187, 0.011134714724014564), (1188, 0.04318175605995276), (1189, 0.0), (1190, 0.013786020498786054), (1191, 0.030771809378912843), (1192, 0.038709540976286545), (1193, 0.0028476805838228677), (1194, 0.08945761681239013), (1195, 0.03837924407324868), (1196, 0.02833811487872156), (1197, 0.03200346645790253), (1198, 0.03238565219491161), (1199, 0.044621079998615934), (1200, 0.006796154045217352), (1201, 0.02377557319864481), (1202, 0.02818985286061193), (1203, 0.06622182958721641), (1204, 0.004786547944119192), (1205, 0.016872501172515708), (1206, 0.02288207994283897), (1207, 0.009120283252376361), (1208, 0.024260577043089957), (1209, 0.0016667267490453456), (1210, 0.03606116292855856), (1211, 0.006022476218863615), (1212, 0.009026071140644364), (1213, 0.012189821774983123), (1214, 0.03414957486311223), (1215, 0.022493975477043043), (1216, 0.045556626856268635), (1217, 0.03557166294187288), (1218, 0.023679148458303236), (1219, 0.02304975169034923), (1220, 0.03666266455988332), (1221, 0.03443375733272273), (1222, 0.030662393850832286), (1223, 0.021180408297164045), (1224, 0.02770255532030467), (1225, 0.012181082534430066), (1226, 0.019776533223110467), (1227, 0.0027148260576776097), (1228, 0.0), (1229, 0.02139793745942147), (1230, 0.014203022025212009), (1231, 0.01329737114226788), (1232, 0.019665552649295828), (1233, 0.015567635977705573), (1234, 0.0675338859686215), (1235, 0.017468879071300673), (1236, 0.03167188125823235), (1237, 0.031860365736420156), (1238, 0.017331085471408932), (1239, 0.03902016999462318), (1240, 0.0), (1241, 0.029359054976083418), (1242, 0.002486070355039113), (1243, 0.03422757175700889), (1244, 0.01623880770634371), (1245, 0.03832217866481832), (1246, 0.013254987978623987), (1247, 0.04414833829482252), (1248, 0.04397311876521041), (1249, 0.03420378400607359), (1250, 0.015015737324882223), (1251, 0.0041746485218106645), (1252, 0.03895301418550868), (1253, 0.012956402796543906), (1254, 0.04018586694222938), (1255, 0.024396639232562505), (1256, 0.0365792416462519), (1257, 0.04041317790527234), (1258, 0.0), (1259, 0.04613610790934265), (1260, 0.01547935201417213), (1261, 0.030818907977535365), (1262, 0.03142646856499283), (1263, 0.02580259057113673), (1264, 0.015851245759119826), (1265, 0.0), (1266, 0.01874210115924895), (1267, 0.016868945681147357), (1268, 0.0021756107371804488), (1269, 0.03647345652488184), (1270, 0.06576778025965516), (1271, 0.0), (1272, 0.0274396943196974), (1273, 0.022895288801419902), (1274, 0.022945339912426123), (1275, 0.027485663715437605), (1276, 0.058903231394852484), (1277, 0.03653078934983147), (1278, 0.04164395200905551), (1279, 0.020441443851012802), (1280, 0.016354105773854218), (1281, 0.014017808033901513), (1282, 0.025047264625894995), (1283, 0.006811178519804163), (1284, 0.04756037778417245), (1285, 0.0), (1286, 0.019877477215880988), (1287, 0.0), (1288, 0.01116374670176367), (1289, 0.0022326879710220546), (1290, 0.021544330332901103), (1291, 0.026719246096768436), (1292, 0.031036844064300254), (1293, 0.01257045576356256), (1294, 0.06191650896926377), (1295, 0.011605077083362957), (1296, 0.02779391019874141), (1297, 0.0573304188772462), (1298, 0.004691538965853025), (1299, 0.0028527697053754657), (1300, 0.019806105905880448), (1301, 0.010092584570602438), (1302, 0.030261414121889357), (1303, 0.013543065083706188), (1304, 0.03676583227224326), (1305, 0.050448993888766), (1306, 0.05848260566243067), (1307, 0.022853273009416194), (1308, 0.0232654144496385), (1309, 0.012822165780578213), (1310, 0.04725435478751938), (1311, 0.0030487316443599177), (1312, 0.03282715566213407), (1313, 0.009338821584503297), (1314, 0.04348034533108976), (1315, 0.0), (1316, 0.0116306255373072), (1317, 0.037499208921190165), (1318, 0.03650537076505232), (1319, 0.03767578789035321), (1320, 0.010893227963147614), (1321, 0.02442111783098449), (1322, 0.012490210668249149), (1323, 0.0023349229050990865), (1324, 0.023498290176420432), (1325, 0.0182064212024129), (1326, 0.0022184527581564067), (1327, 0.007510332871563456), (1328, 0.03773693293061226), (1329, 0.06317710445733617), (1330, 0.01942201561514599), (1331, 0.07022076990202313), (1332, 0.0040536047962265965), (1333, 0.002898007143198926), (1334, 0.01350862683647433), (1335, 0.04390942597067142), (1336, 0.026679936116135033), (1337, 0.027819142909723985), (1338, 0.02233763113037668), (1339, 0.013987161873066888), (1340, 0.01160678660760732), (1341, 0.037861730826494154), (1342, 0.010108660227168968), (1343, 0.028945774220709694), (1344, 0.04430094551322482), (1345, 0.012629304270590936), (1346, 0.014393334294006441), (1347, 0.012740554417451685), (1348, 0.03379756698671758), (1349, 0.013016396026402005), (1350, 0.006584381911110411), (1351, 0.04185314379941811), (1352, 0.009812891351834614), (1353, 0.01455068742858048), (1354, 0.028524296223625865), (1355, 0.014050036364104844), (1356, 0.023468335972768616), (1357, 0.007288008619830892), (1358, 0.02321818595985384), (1359, 0.013556097290307708), (1360, 0.02398124899049498), (1361, 0.015057161202926213), (1362, 0.005556353750654738), (1363, 0.007096017482354594), (1364, 0.03487502678054824), (1365, 0.05832814063730217), (1366, 0.07074454673171815), (1367, 0.055393134109479485), (1368, 0.011838300334405133), (1369, 0.030046222245876594), (1370, 0.004067799249732949), (1371, 0.024018120691931148), (1372, 0.008890118279343169), (1373, 0.01869107315037648), (1374, 0.014743105951688831), (1375, 0.021799009598746737), (1376, 0.012418517359827692), (1377, 0.04341698826173986), (1378, 0.03513875360997824), (1379, 0.023175256106365234), (1380, 0.0139109809362971), (1381, 0.01513669879976523), (1382, 0.05062372743795416), (1383, 0.11808861630026388), (1384, 0.05668912813137698), (1385, 0.03729391272481632), (1386, 0.022726423274512363), (1387, 0.01721309517951229), (1388, 0.013937117243695788), (1389, 0.014233145323249303), (1390, 0.013200533702369534), (1391, 0.004058959214968632), (1392, 0.021989663818143372), (1393, 0.027002674338499517), (1394, 0.016859505798487433), (1395, 0.010617493830951513), (1396, 0.029201077694372506), (1397, 0.0040796795161139945), (1398, 0.007824958694310177), (1399, 0.0), (1400, 0.01979419096801449), (1401, 0.013809985121140579), (1402, 0.03250853949678455), (1403, 0.019221777255607846), (1404, 0.05095310549920258), (1405, 0.021261491557647956), (1406, 0.014462004929073844), (1407, 0.009371517525122964), (1408, 0.009230049584417213), (1409, 0.005047075920020776), (1410, 0.009578405262359507), (1411, 0.06881883292725839), (1412, 0.04775321701856611), (1413, 0.03036813599352776), (1414, 0.024926754676787073), (1415, 0.0055381479237446045), (1416, 0.03394409654084375), (1417, 0.01715572726583208), (1418, 0.022648578637240666), (1419, 0.02184667581002357), (1420, 0.04002891344303138), (1421, 0.024928235698246332), (1422, 0.025253586627838092), (1423, 0.005999032194002923), (1424, 0.008536345249315885), (1425, 0.0796498761495589), (1426, 0.013974718943869084), (1427, 0.01662094660336564), (1428, 0.02748632267385298), (1429, 0.006778251847543653), (1430, 0.019466659107235475), (1431, 0.01955677475837123), (1432, 0.01824443568728229), (1433, 0.0052455569255252035), (1434, 0.009996981486410593), (1435, 0.00976009534194508), (1436, 0.025763420025926742), (1437, 0.0030793911831625918), (1438, 0.017745569466966572), (1439, 0.015852040613301095), (1440, 0.013362349913417566), (1441, 0.00806037179745485), (1442, 0.025879024804501525), (1443, 0.041399485574914276), (1444, 0.002704185139003021), (1445, 0.020460418636599188), (1446, 0.018639038446636377), (1447, 0.012102133015864424), (1448, 0.033213339938733884), (1449, 0.015198673112116323), (1450, 0.02192318109405866), (1451, 0.021362313224080616), (1452, 0.003845561783420534), (1453, 0.02555540549265449), (1454, 0.006192958053432824), (1455, 0.014779356981721987), (1456, 0.12905129605996066), (1457, 0.012465484516449325), (1458, 0.03246589085872624), (1459, 0.02462046831447565), (1460, 0.0), (1461, 0.03490373004026107), (1462, 0.0051715833550258225), (1463, 0.0327235246655228), (1464, 0.05489631266891173), (1465, 0.02963561354918451), (1466, 0.009029009188201164), (1467, 0.03586741555043168), (1468, 0.010875721330417993), (1469, 0.006579804664940941), (1470, 0.0), (1471, 0.03951457483347839), (1472, 0.045485242118395455), (1473, 0.0027525971500952117), (1474, 0.012883167674699648), (1475, 0.012447100351686901), (1476, 0.015587560457015539), (1477, 0.10827974863155448), (1478, 0.0359751421408072), (1479, 0.03605410269739889), (1480, 0.049628752613430124), (1481, 0.02491953156118383), (1482, 0.02787195336312796), (1483, 0.023636004897964163), (1484, 0.005964211551976797), (1485, 0.0067458609475416105), (1486, 0.019217504397462483), (1487, 0.02734854477289549), (1488, 0.011101327817384135), (1489, 0.03454556989005065), (1490, 0.0025965360284386394), (1491, 0.0029615106468759474), (1492, 0.024590220489563108), (1493, 0.030172315547548373), (1494, 0.029877859073147196), (1495, 0.029346514984069542), (1496, 0.020505830688363747), (1497, 0.0022826432702895056), (1498, 0.006268401447345438), (1499, 0.002238953564043552), (1500, 0.05749552447289306), (1501, 0.02218137356227686), (1502, 0.02134593544581424), (1503, 0.05639027794873884), (1504, 0.011052234182662999), (1505, 0.020061262619445557), (1506, 1.0), (1507, 0.026139485999247467), (1508, 0.023614892468548494), (1509, 0.09080579795221196), (1510, 0.032885087517289864), (1511, 0.03485572592690943), (1512, 0.08403131665903711), (1513, 0.10373360717973977), (1514, 0.006645250238559594), (1515, 0.027012774607083193), (1516, 0.004858554926238018), (1517, 0.029436974719682873), (1518, 0.01657018394449018), (1519, 0.017166488830471074), (1520, 0.013171298082361123), (1521, 0.01059692747046054), (1522, 0.019291658378343627), (1523, 0.05260509932932469), (1524, 0.032793423083445634), (1525, 0.012580143163577782), (1526, 0.0166753850991998), (1527, 0.059513064750455494), (1528, 0.004284980042167052), (1529, 0.0), (1530, 0.043671587447539954), (1531, 0.003844130500231359), (1532, 0.0025796020246799645), (1533, 0.009613427014789552), (1534, 0.024776967342119836), (1535, 0.01393799622933602), (1536, 0.016553369228831265), (1537, 0.025498557696617886), (1538, 0.08952509455319672), (1539, 0.024010630323710022), (1540, 0.013035744422018103), (1541, 0.004644097401972752), (1542, 0.01813407102238478), (1543, 0.0718365576001951), (1544, 0.027344565648405546), (1545, 0.002605986799791351), (1546, 0.021513020094715254), (1547, 0.0023294895485878645), (1548, 0.0120911512073367), (1549, 0.015015406071594508), (1550, 0.020257753478861534), (1551, 0.03306271553699023), (1552, 0.04176551419531772), (1553, 0.03514848875671406), (1554, 0.01051081380769551), (1555, 0.026373361247786543), (1556, 0.026984281673954127), (1557, 0.04579295610107457), (1558, 0.006283525332947629), (1559, 0.01141571950233409), (1560, 0.003062385391580102), (1561, 0.04973961261213862), (1562, 0.011659460432696481), (1563, 0.025192260472271136), (1564, 0.012566236950134145), (1565, 0.018010795414520567), (1566, 0.027885141524704376), (1567, 0.017262808760700812), (1568, 0.02439389925514395), (1569, 0.006713384535353838), (1570, 0.002103441371794521), (1571, 0.03646173492028184), (1572, 0.04868768154811698), (1573, 0.012400912541707308), (1574, 0.011657720148613718), (1575, 0.03634520079661096), (1576, 0.009117772928517752), (1577, 0.01237681905641171), (1578, 0.02031990793052759), (1579, 0.05568201731807905), (1580, 0.002207025213132748), (1581, 0.01871497463008512), (1582, 0.015242375744466866), (1583, 0.01911772163547684), (1584, 0.026170275593024026), (1585, 0.03423890489922169), (1586, 0.03888421120516931), (1587, 0.022207122080736344), (1588, 0.013152516078388837), (1589, 0.013111828856081914), (1590, 0.0031720786560291646), (1591, 0.01713751366273085), (1592, 0.036778102478748034), (1593, 0.0024238623932993685), (1594, 0.03200037709367614), (1595, 0.023845560631806803), (1596, 0.0028867317376280624), (1597, 0.019437411805005075), (1598, 0.004657028420517901), (1599, 0.04641167418187772), (1600, 0.0), (1601, 0.002412203805648278), (1602, 0.014023687943954179), (1603, 0.011332493382900929), (1604, 0.0), (1605, 0.04242389921331901), (1606, 0.010961111105554127), (1607, 0.008715352899393807), (1608, 0.021839849980420024), (1609, 0.015818072893629073), (1610, 0.02455850948169248), (1611, 0.011790710708388148), (1612, 0.01960215285678081), (1613, 0.012762412286733051), (1614, 0.04879477523375496), (1615, 0.03910771831658551), (1616, 0.031911417103629), (1617, 0.021820416109645635), (1618, 0.007239914802692052), (1619, 0.022903726414604482), (1620, 0.03783639489524874), (1621, 0.016559276730128223), (1622, 0.03632753447857876), (1623, 0.0159079570789458), (1624, 0.06119342553481158), (1625, 0.015727543916572398), (1626, 0.024308200201685514), (1627, 0.012469811436489005), (1628, 0.006184946548563053), (1629, 0.027599406354582384), (1630, 0.05090569229145638), (1631, 0.0034517848334600955), (1632, 0.012646738074114323), (1633, 0.01603168558234953), (1634, 0.017942326468425862), (1635, 0.02175432453778985), (1636, 0.02191725281190489), (1637, 0.016643904561238147), (1638, 0.011621866258790003), (1639, 0.018907943216425745), (1640, 0.01325208937224342), (1641, 0.001854726310498613), (1642, 0.03407431177155495), (1643, 0.02332128986961162), (1644, 0.03633621602125464), (1645, 0.011160127196107707), (1646, 0.013172297587491614), (1647, 0.00489686121751823), (1648, 0.04691826379286814), (1649, 0.012051856031327992), (1650, 0.03806781629869866), (1651, 0.006373262948461479), (1652, 0.0024105055680625318), (1653, 0.014813253867462147), (1654, 0.032019023999229436), (1655, 0.014523889492229259), (1656, 0.005408770454524873), (1657, 0.015089152558651824), (1658, 0.010958428407424354), (1659, 0.015388175951401038), (1660, 0.05275809564897983), (1661, 0.0039178700463402705), (1662, 0.0377094068237107), (1663, 0.016823017993917496), (1664, 0.011558011800777753), (1665, 0.07598720709576588), (1666, 0.03314313232980505), (1667, 0.015480635629276094), (1668, 0.02101058758768266), (1669, 0.029664934709718618), (1670, 0.011524590182332916), (1671, 0.0401766326644164), (1672, 0.038321656345355386), (1673, 0.008030390081809696), (1674, 0.020621849482787724), (1675, 0.06659625549124215), (1676, 0.04052459606164844), (1677, 0.04277371256230474), (1678, 0.06911483707957623), (1679, 0.023644105105811393), (1680, 0.02228946681748175), (1681, 0.026732632804754547), (1682, 0.0572997530412785), (1683, 0.021387887261882222), (1684, 0.006918223386816668), (1685, 0.09061649873731126), (1686, 0.0), (1687, 0.02793757568312124), (1688, 0.029573915180111675), (1689, 0.02289485956585137), (1690, 0.015654306518008795), (1691, 0.018007457475526584), (1692, 0.023431563206260858), (1693, 0.008898212038652207), (1694, 0.015550849360834538), (1695, 0.023688505422474165), (1696, 0.0231294078313022), (1697, 0.002797298250824121), (1698, 0.04714416615037669), (1699, 0.003147770237538139), (1700, 0.020796895682811394), (1701, 0.044201671442076124), (1702, 0.012752648262303877), (1703, 0.0020694112497360423), (1704, 0.009737079013759567), (1705, 0.040543492810677054), (1706, 0.00798047722442234), (1707, 0.06194199881954188), (1708, 0.0077121312035609915), (1709, 0.029411923109129445), (1710, 0.023186700307349574), (1711, 0.024857501304598278), (1712, 0.00767514672347611), (1713, 0.010013720045253846), (1714, 0.046654828095102074), (1715, 0.04015669596832485), (1716, 0.02955081446986308), (1717, 0.0020598739502310907), (1718, 0.023279671525351295), (1719, 0.02416373903456856), (1720, 0.0), (1721, 0.04674427732088133), (1722, 0.018607668639669186), (1723, 0.02958066810025998), (1724, 0.015544720323657972), (1725, 0.030262982611071403), (1726, 0.012590743674579996), (1727, 0.0480180638516245), (1728, 0.0), (1729, 0.014338844533119026), (1730, 0.006546306672965677), (1731, 0.023623548943996184), (1732, 0.00679303287668536), (1733, 0.015646256264188214), (1734, 0.012224959657092884), (1735, 0.014310566895032168), (1736, 0.025080640546814803), (1737, 0.03025575377616013), (1738, 0.029594254541429207), (1739, 0.03259123719574611), (1740, 0.02909063318976441), (1741, 0.03363691163189909), (1742, 0.010922973175283195), (1743, 0.024886342581522263), (1744, 0.033246757124922734), (1745, 0.005057093647164419), (1746, 0.02964269259073418), (1747, 0.009291921573836593), (1748, 0.01498484915199339), (1749, 0.0034123448987412636), (1750, 0.026303075388525013), (1751, 0.012413909389601126), (1752, 0.023024818790668478), (1753, 0.009784774688436235), (1754, 0.08809472591738035), (1755, 0.01817934520910795), (1756, 0.026494728086965815), (1757, 0.03655267781801983), (1758, 0.014188149715169279), (1759, 0.02953693595012533), (1760, 0.0052129899781230464), (1761, 0.009011839830193847), (1762, 0.040044095656733336), (1763, 0.005788504278881266), (1764, 0.07762447165943126), (1765, 0.004879320160288311), (1766, 0.03644234971951745), (1767, 0.03898742389520836), (1768, 0.022845305334315162), (1769, 0.016024459561581474), (1770, 0.00557023640030456), (1771, 0.007289632847088279), (1772, 0.02274926130445673), (1773, 0.008640076775854787), (1774, 0.12606343404867937), (1775, 0.0), (1776, 0.03616734673682621), (1777, 0.05392290541670495), (1778, 0.01586156983761751), (1779, 0.023996081139574674), (1780, 0.0280247604330857), (1781, 0.031157943509004686), (1782, 0.021342453824470135), (1783, 0.008116273599571745), (1784, 0.07288588627978355), (1785, 0.002571500255847939), (1786, 0.033021199201320614), (1787, 0.07653136255719986), (1788, 0.061390938787802676), (1789, 0.013664062419193417), (1790, 0.020083721680489476), (1791, 0.006766366225441567), (1792, 0.005544089340784309), (1793, 0.03638638284619929), (1794, 0.011227173392910158), (1795, 0.024487678863834357), (1796, 0.06729575485891479), (1797, 0.04735301901451393), (1798, 0.03268008131190736), (1799, 0.03058227325752919), (1800, 0.0), (1801, 0.009195612841103129), (1802, 0.04567916504602243), (1803, 0.07907946944020297), (1804, 0.017080843463699053), (1805, 0.013944608861131998), (1806, 0.028801260545702787), (1807, 0.025190981647546594), (1808, 0.010360396703093563), (1809, 0.023602123514741224), (1810, 0.0), (1811, 0.0055929771471264905), (1812, 0.029828288931571585), (1813, 0.0019417826853124207), (1814, 0.0018415898518455097), (1815, 0.01712922524753415), (1816, 0.027859473756263575), (1817, 0.03351999469766506), (1818, 0.125798090225945), (1819, 0.03322104635775154), (1820, 0.040403141246658815), (1821, 0.021654990040006608), (1822, 0.004980078422704245), (1823, 0.017675719727245368), (1824, 0.024367380573449306), (1825, 0.018274585767211325), (1826, 0.001808607224559258), (1827, 0.013912809863957655), (1828, 0.009967973341510764), (1829, 0.003960224095394887), (1830, 0.004180161033249169), (1831, 0.0019775909472290747), (1832, 0.015112678082950283), (1833, 0.012551001191491978), (1834, 0.0026941244804212787), (1835, 0.0), (1836, 0.0030173536323338467), (1837, 0.010360024471450742), (1838, 0.021777705132791057), (1839, 0.002595210497373998), (1840, 0.026382040124308146), (1841, 0.02262768252946572), (1842, 0.0026589476675162663), (1843, 0.014019700554060944), (1844, 0.0029836035786560706), (1845, 0.04961666733378111), (1846, 0.009299840990223514), (1847, 0.029410431060933134), (1848, 0.012639088706224166), (1849, 0.018406004526311096), (1850, 0.02612038867579053), (1851, 0.04946054908528422), (1852, 0.03569083096641609), (1853, 0.017779852417702507), (1854, 0.012563964581798277), (1855, 0.03387541841288088), (1856, 0.0028900654167443966), (1857, 0.018801937467281874), (1858, 0.03859725831995974), (1859, 0.04428776300008316), (1860, 0.012279136942746922), (1861, 0.03690926320754788), (1862, 0.0022400211492731316), (1863, 0.03602487404354616), (1864, 0.019013418934079505), (1865, 0.03813750214218474), (1866, 0.011353560953242203), (1867, 0.05984043824995852), (1868, 0.005090274307944892), (1869, 0.006120086435870895), (1870, 0.011689065935986117), (1871, 0.060100179225165834), (1872, 0.02612043731388041), (1873, 0.04692945530434077), (1874, 0.014221307130084626), (1875, 0.01973607407454884), (1876, 0.019881746079386482), (1877, 0.02615536603756658), (1878, 0.02610239517589362), (1879, 0.0027493219696973596), (1880, 0.030519219360929304), (1881, 0.12290948247949035), (1882, 0.01483383556810819), (1883, 0.04128225017539894), (1884, 0.001869423397976762), (1885, 0.007920147456997524), (1886, 0.014764252591184326), (1887, 0.013091407171847654), (1888, 0.01939783761681855), (1889, 0.0027590171278277795), (1890, 0.0022193226181453137), (1891, 0.022270999399391325), (1892, 0.0051198517481116125), (1893, 0.022936983423616445), (1894, 0.0), (1895, 0.03514375873762159), (1896, 0.012255227583808441), (1897, 0.01689045970274045), (1898, 0.01681877435076367), (1899, 0.02066498518645044), (1900, 0.02265867582770729), (1901, 0.003728678255418831), (1902, 0.014993216715501296), (1903, 0.031739293751578815), (1904, 0.0038475881507977583), (1905, 0.010332251230880538), (1906, 0.014873315561607993), (1907, 0.05882150476306388), (1908, 0.01481075232413251), (1909, 0.016463327505870817), (1910, 0.01768629709971675), (1911, 0.03135201934306047), (1912, 0.0026018424074345597), (1913, 0.021267859246618285), (1914, 0.04893780797111032), (1915, 0.0422603249541956), (1916, 0.0021076867057197783), (1917, 0.002789609840334988), (1918, 0.012196516706202334), (1919, 0.0670073340806227), (1920, 0.006639115825870055), (1921, 0.0017874832429817754), (1922, 0.013283886969213201), (1923, 0.0776991226490294), (1924, 0.01446521409415167), (1925, 0.09974826753791982), (1926, 0.01684995153314438), (1927, 0.015509812227013031), (1928, 0.021811523089255436), (1929, 0.038223101518114054), (1930, 0.022933626208839826), (1931, 0.029664188300421647), (1932, 0.006135115371448905), (1933, 0.01109603901236621), (1934, 0.015931110980472236), (1935, 0.04291718761306861), (1936, 0.0073387007367388185), (1937, 0.03428667976653472), (1938, 0.02417460515054281), (1939, 0.008434888240720974), (1940, 0.011157654146197737), (1941, 0.007607136679420048), (1942, 0.02720229364511839), (1943, 0.0041062901391062615), (1944, 0.0022570889780576197), (1945, 0.06064386021266256), (1946, 0.006946036105457008), (1947, 0.00547659213591902), (1948, 0.03204232326562888), (1949, 0.029353396986110503), (1950, 0.04000863084388668), (1951, 0.028569084507778515), (1952, 0.025832191174486645), (1953, 0.003535030061171553), (1954, 0.009412825583865615), (1955, 0.007853875146519352), (1956, 0.03636943406467543), (1957, 0.027036985883839015), (1958, 0.040461038933408716), (1959, 0.0021635376824807443), (1960, 0.006242698690870348), (1961, 0.012640049058308643), (1962, 0.021063377478041805), (1963, 0.010829792139425943), (1964, 0.03405591392883602), (1965, 0.04214855128593481), (1966, 0.020293642559794885), (1967, 0.030460392604934234), (1968, 0.02477775171421514), (1969, 0.011148479420175529), (1970, 0.07110098855514799), (1971, 0.07411796519685535), (1972, 0.0), (1973, 0.050760185842001065), (1974, 0.006833098978603654), (1975, 0.003832135276387781), (1976, 0.004064275793960572), (1977, 0.012914258300029307), (1978, 0.007688145826607257), (1979, 0.0054364228461955), (1980, 0.004231420044696744), (1981, 0.02943391894014559), (1982, 0.035830989067915237), (1983, 0.09543361922333254), (1984, 0.02968580348003319), (1985, 0.031860048426105486), (1986, 0.02829370951238821), (1987, 0.03569772307425666), (1988, 0.018870088291522605), (1989, 0.01349147363340579), (1990, 0.012017162705709575), (1991, 0.02598339787649655), (1992, 0.05813286602186109), (1993, 0.012018490960020702), (1994, 0.03308822709992543), (1995, 0.018569477962605007), (1996, 0.02879398965542659), (1997, 0.051129937629516384), (1998, 0.010790208300014923), (1999, 0.0030697837061019065), (2000, 0.04978260269141722), (2001, 0.006438434074366858), (2002, 0.0028443206251877965), (2003, 0.016451799042604385), (2004, 0.012954133372783084), (2005, 0.03425086550859581), (2006, 0.0515128734241981), (2007, 0.06289851640635334), (2008, 0.0513172557304136), (2009, 0.00885570157642976), (2010, 0.0015795013671436465), (2011, 0.02414085672291431), (2012, 0.10121544589429993), (2013, 0.03255065583613927), (2014, 0.021703929706838546), (2015, 0.013773287827712461), (2016, 0.023577208877982602), (2017, 0.02863029342856451), (2018, 0.0022166196557004943), (2019, 0.010390951856179382), (2020, 0.012566690957521557), (2021, 0.017164559301746676), (2022, 0.023945103807822207), (2023, 0.056046710250474474), (2024, 0.027308118723091458), (2025, 0.007115660913139265), (2026, 0.030717150030777754), (2027, 0.03724116161435241), (2028, 0.0), (2029, 0.04501368443266643), (2030, 0.0), (2031, 0.04280399772947386), (2032, 0.05338111063233246), (2033, 0.025945972773740517), (2034, 0.016171319975122618), (2035, 0.028112940516078423), (2036, 0.024197138207305943), (2037, 0.054763563378396544), (2038, 0.0), (2039, 0.011540853668729065), (2040, 0.0392398138579984), (2041, 0.013707743727297916), (2042, 0.0028357728538190357), (2043, 0.03376107612938028), (2044, 0.023303337732022845), (2045, 0.03549685225105717), (2046, 0.019989889713287638), (2047, 0.08216120595033852), (2048, 0.006957291103288991), (2049, 0.016159039894892684), (2050, 0.0171509719309705), (2051, 0.021545255218563434), (2052, 0.012196738104052529), (2053, 0.027203806769337063), (2054, 0.0062039487442977275), (2055, 0.04926614385493064), (2056, 0.030843666669422568), (2057, 0.01435031340603649), (2058, 0.02436723117383302), (2059, 0.0023701023610306813), (2060, 0.004669771145462017), (2061, 0.02506051446971371), (2062, 0.02703730634628938), (2063, 0.0024637373584634388), (2064, 0.00581729416306021), (2065, 0.028986147782839554), (2066, 0.0314278832108032), (2067, 0.009803814101124329), (2068, 0.02939191187747247), (2069, 0.005539743273764195), (2070, 0.19759493731357083), (2071, 0.02030102108114533), (2072, 0.05264807987295861), (2073, 0.002038426474375217), (2074, 0.052613785461190964), (2075, 0.013624194507871203), (2076, 0.021446721832587064), (2077, 0.016923459481583525), (2078, 0.015189335734512227), (2079, 0.020751354309075307), (2080, 0.012714154023641656), (2081, 0.03305909306939823), (2082, 0.029185111176957525), (2083, 0.0020931257140020436), (2084, 0.003926422348147432), (2085, 0.0), (2086, 0.01813700104660175), (2087, 0.009680947277919107), (2088, 0.021380325171497287), (2089, 0.022536502551309418), (2090, 0.0028362607408752107), (2091, 0.005716796353525372), (2092, 0.0027916891914479464), (2093, 0.031983652420531056), (2094, 0.028839504771271833), (2095, 0.0050030222300577265), (2096, 0.02342543858363945), (2097, 0.014319830990917097), (2098, 0.01920804805556075), (2099, 0.014502903965898048), (2100, 0.012434907298326614), (2101, 0.022326737053380896), (2102, 0.025284702409079), (2103, 0.023834575085727942), (2104, 0.02232868831132596), (2105, 0.007197911025477144), (2106, 0.024004240281699774), (2107, 0.02632808885077641), (2108, 0.01051888574564162), (2109, 0.016866873484098745), (2110, 0.01832976890916555), (2111, 0.053816568582671406), (2112, 0.05626681315150989), (2113, 0.006180384244659611), (2114, 0.05419943521966217), (2115, 0.0), (2116, 0.015819537861379726), (2117, 0.008655393304104857), (2118, 0.02854521438228077), (2119, 0.01853257457051803), (2120, 0.0337462605444863), (2121, 0.010299522184979995), (2122, 0.03586102395459673), (2123, 0.0020702232077180007), (2124, 0.011212789712887096), (2125, 0.035214217825818225), (2126, 0.03697278100128828), (2127, 0.019536851658796848), (2128, 0.018971998142038475), (2129, 0.020817069856631374), (2130, 0.07395440355898587), (2131, 0.030702953430598715), (2132, 0.01058316812926246), (2133, 0.04969507143544295), (2134, 0.002237184747468082), (2135, 0.005387954645242081), (2136, 0.018183777799387783), (2137, 0.006686478164389617), (2138, 0.0030800874575262157), (2139, 0.024711755603318415), (2140, 0.0025840058042921835), (2141, 0.0019117188570519953), (2142, 0.00233267830746201), (2143, 0.08303685094980763), (2144, 0.0307487042468446), (2145, 0.037233122099713495), (2146, 0.03016580256882423), (2147, 0.03324181810401346), (2148, 0.007706601414310145), (2149, 0.017626441903175867), (2150, 0.013981067404376449), (2151, 0.0079273788498763), (2152, 0.0), (2153, 0.0027324374096032353), (2154, 0.04549577493628062), (2155, 0.01214859016391463), (2156, 0.019776416067589172), (2157, 0.008935026730183395), (2158, 0.05970448349609399), (2159, 0.01732236712527158), (2160, 0.040048801982381844), (2161, 0.05207827827410731), (2162, 0.01413138536715478), (2163, 0.017514137575744007), (2164, 0.0030417776452501483), (2165, 0.0), (2166, 0.014613130897881924), (2167, 0.06324936666420804), (2168, 0.012408379044838396), (2169, 0.023485840825422953), (2170, 0.021478281189284437), (2171, 0.0), (2172, 0.007931587132580084), (2173, 0.001969517976884961), (2174, 0.029461798650636462), (2175, 0.039509687941898755), (2176, 0.00996113430977843), (2177, 0.04582133556866856), (2178, 0.04221190987432741), (2179, 0.002552956118225551), (2180, 0.024316023942533172), (2181, 0.004129656386180229), (2182, 0.03741245521245106), (2183, 0.03425413106112603), (2184, 0.022825552116735873), (2185, 0.06831421848465527), (2186, 0.008475004557127453), (2187, 0.017657770444049706), (2188, 0.047030012013027235), (2189, 0.0028075995597272385), (2190, 0.002155912934539763), (2191, 0.0398710042302597), (2192, 0.004750953849184181), (2193, 0.0691103361612672), (2194, 0.01644647278024873), (2195, 0.016268655448331754), (2196, 0.04278495307337692), (2197, 0.007458579140226271), (2198, 0.014760525556085716), (2199, 0.01779086980992843), (2200, 0.002777093931204691), (2201, 0.008816057593753755), (2202, 0.02323382580719593), (2203, 0.07204671133848012), (2204, 0.010401110738661975), (2205, 0.029628570746154447), (2206, 0.028058546803539544), (2207, 0.01586256135289218), (2208, 0.012998526498874733), (2209, 0.04422535382283412), (2210, 0.10777835106254761), (2211, 0.020285558259715845), (2212, 0.029574361342779174), (2213, 0.015400180222592007), (2214, 0.03100631557047531), (2215, 0.020482624063416992), (2216, 0.06366937898033932), (2217, 0.002844980853987292), (2218, 0.013640602424810421), (2219, 0.01845739550197977), (2220, 0.020314403981197916), (2221, 0.051180729067782184), (2222, 0.012673453139455716), (2223, 0.005364033385281046), (2224, 0.05540876386525014), (2225, 0.002489118151910405), (2226, 0.00882332401618549), (2227, 0.014354688610229253), (2228, 0.017960054304816675), (2229, 0.03993838754588908), (2230, 0.006941948362598614), (2231, 0.023715090764678204), (2232, 0.01639156968388067), (2233, 0.01048254464883981), (2234, 0.04891249048482771), (2235, 0.03837353491061275), (2236, 0.03334566228791566), (2237, 0.035514147623683066), (2238, 0.0), (2239, 0.06751868609432042), (2240, 0.02378637927780705), (2241, 0.01275894532446159), (2242, 0.009007977571923325), (2243, 0.0), (2244, 0.017574026311441837), (2245, 0.018446823274313823), (2246, 0.020175707170479618), (2247, 0.010554715965674283), (2248, 0.0017981249784145476), (2249, 0.007819338194702572), (2250, 0.05099985385397962), (2251, 0.002782866867435704), (2252, 0.03652709578159555), (2253, 0.005671904310692349), (2254, 0.018025249617059643), (2255, 0.0072743794254714784), (2256, 0.0), (2257, 0.0025750830834352324), (2258, 0.021234540512199546), (2259, 0.009930130763474957), (2260, 0.005046700193915942), (2261, 0.0031500309777834795), (2262, 0.02976646424512685), (2263, 0.010251955205579108), (2264, 0.027305008554108785), (2265, 0.022201189430091695), (2266, 0.008323152793036562), (2267, 0.0), (2268, 0.01115689266606413), (2269, 0.043289729700806745), (2270, 0.010768087561703622), (2271, 0.014810096328673281), (2272, 0.002524226045327045), (2273, 0.011267797425876934), (2274, 0.01872068184862278), (2275, 0.028039949069723354), (2276, 0.062123719193551655), (2277, 0.016961576005926904), (2278, 0.013381602786143486), (2279, 0.026124850005244123), (2280, 0.017350288606427094), (2281, 0.025770554295881175), (2282, 0.003491568309965956), (2283, 0.02154122458455083), (2284, 0.01962030592568038), (2285, 0.07194626458553179), (2286, 0.013993166903114484), (2287, 0.04814624303843617), (2288, 0.002115574276211098), (2289, 0.0019862415570434814), (2290, 0.029981662143634315), (2291, 0.01925735168065589), (2292, 0.004804918633414788), (2293, 0.09672132651155814), (2294, 0.04724221026849427), (2295, 0.032576565005494496), (2296, 0.03219082826382277), (2297, 0.018320233487730972), (2298, 0.014627314102692955), (2299, 0.0031983627211629906), (2300, 0.0), (2301, 0.037874862759030195), (2302, 0.044838623484803275), (2303, 0.018344086893959423), (2304, 0.04573606477587548), (2305, 0.003108142649410563), (2306, 0.009084623547433248), (2307, 0.002787511080080642), (2308, 0.009357271297348226), (2309, 0.023562760964769287), (2310, 0.0026741750262935216), (2311, 0.011541908759414835), (2312, 0.003912506524388775), (2313, 0.006862765304657556), (2314, 0.004002298155125941), (2315, 0.007950718513947339), (2316, 0.019475591537577396), (2317, 0.01615573278240713), (2318, 0.04148258655672281), (2319, 0.007022105775944195), (2320, 0.03322649613694297), (2321, 0.0472496157752327), (2322, 0.025251807211265596), (2323, 0.0071367714359170924), (2324, 0.00516116255471946), (2325, 0.0028212002234761445), (2326, 0.014996874878797544), (2327, 0.027875258080035874), (2328, 0.029048079025616798), (2329, 0.0196316682638166), (2330, 0.02019302129537402), (2331, 0.010982526528379099), (2332, 0.0), (2333, 0.008900784774537622), (2334, 0.04431706962204334), (2335, 0.030196900477003), (2336, 0.01741661259344614), (2337, 0.009475108180410478), (2338, 0.02336747400873246), (2339, 0.019819301423240197), (2340, 0.012493680553370797), (2341, 0.0), (2342, 0.0), (2343, 0.0), (2344, 0.010419379821770188), (2345, 0.0), (2346, 0.014961894271101806), (2347, 0.012966779955958664), (2348, 0.007870577094058548), (2349, 0.009359187453100552), (2350, 0.0025701080759695026), (2351, 0.05463111262615394), (2352, 0.014278374662267215), (2353, 0.020161806182726547), (2354, 0.002002085835210981), (2355, 0.004700641154815775), (2356, 0.0022358795967469067), (2357, 0.0030851488685591155), (2358, 0.0), (2359, 0.0016693869822667416), (2360, 0.015267273128003682), (2361, 0.0021214979266561797), (2362, 0.01958770996882993), (2363, 0.02895318725247701), (2364, 0.0234724250687729), (2365, 0.0), (2366, 0.01314555425260739), (2367, 0.027358868949440195), (2368, 0.02333977026223298), (2369, 0.0), (2370, 0.036934126393538436), (2371, 0.010552028221020257), (2372, 0.00861232876258524), (2373, 0.0022663680230558887), (2374, 0.005714226979261737), (2375, 0.01690245180070591), (2376, 0.03449783053879072), (2377, 0.015315169109187097), (2378, 0.0023538060392790804), (2379, 0.006808492846014942), (2380, 0.014137991383854265), (2381, 0.003029922958405849), (2382, 0.0017133238758347707), (2383, 0.01645306659520659), (2384, 0.003026673700863084), (2385, 0.00998179262590931), (2386, 0.006910835725317591), (2387, 0.004707416292955131), (2388, 0.01075429239379512), (2389, 0.008688882475367126), (2390, 0.007410157296804273), (2391, 0.01643251776340377), (2392, 0.002611480632700128), (2393, 0.02473476360447419), (2394, 0.00497102956400134), (2395, 0.0037591261299353956), (2396, 0.010722608638285672), (2397, 0.03117686651588048), (2398, 0.013968709593606785), (2399, 0.015897485911218978), (2400, 0.008944874914769795), (2401, 0.0076859555573141084), (2402, 0.013933432898774011), (2403, 0.031948993072347165), (2404, 0.006416705347251689), (2405, 0.013175399429882283), (2406, 0.04210497052284266), (2407, 0.009343772173738753), (2408, 0.011605355508486933), (2409, 0.0162189471714046), (2410, 0.031167813176531365), (2411, 0.014112101774073743), (2412, 0.06658980580747711), (2413, 0.003816296316678525), (2414, 0.009628678701640655), (2415, 0.008202227946962121), (2416, 0.02594103022047074), (2417, 0.008407210609328598), (2418, 0.025181081518083053), (2419, 0.015905977763484597), (2420, 0.008375205431414266), (2421, 0.018717544609308485), (2422, 0.027743990764817806), (2423, 0.005945438612303525), (2424, 0.024851438297675194), (2425, 0.0025921915953437354), (2426, 0.007118711261799197), (2427, 0.02874022324985962), (2428, 0.006222367799231739), (2429, 0.027870978393867738), (2430, 0.03532081056629854), (2431, 0.017526441027526127), (2432, 0.012714138008273534), (2433, 0.002379811478883659), (2434, 0.011329726188047541), (2435, 0.0026835355185775792), (2436, 0.029588516358807188), (2437, 0.002270201191757869), (2438, 0.0024774089339249543), (2439, 0.01383198592081642), (2440, 0.01911621910944085), (2441, 0.03161953379641838), (2442, 0.009915486652363952), (2443, 0.03486354808261737), (2444, 0.03302713080537626), (2445, 0.007939273356334707), (2446, 0.01325372747579995), (2447, 0.03780166234111346), (2448, 0.011784341395346988), (2449, 0.02047766894009804), (2450, 0.0025263047613992267), (2451, 0.0), (2452, 0.0029813843349954902), (2453, 0.006212610043151316), (2454, 0.0024151693042673656), (2455, 0.003449328795783634), (2456, 0.002804858625076178), (2457, 0.025130672615337316), (2458, 0.013371179328528215), (2459, 0.020006636723818902), (2460, 0.024187872755363674), (2461, 0.026281031520786088), (2462, 0.0), (2463, 0.044441450588673895), (2464, 0.017412596583853593), (2465, 0.002619159796157905), (2466, 0.011245104778672585), (2467, 0.02318862698065114), (2468, 0.027367926835909176), (2469, 0.05995881854509138), (2470, 0.010788388372965753), (2471, 0.0), (2472, 0.00750075785909056), (2473, 0.006838410337751325), (2474, 0.04818808231495316), (2475, 0.0072692874415459085), (2476, 0.004136936369020805), (2477, 0.038835708119011526), (2478, 0.005415751925220749), (2479, 0.0030346492287478023), (2480, 0.03870463657738184), (2481, 0.03041409422212009), (2482, 0.018897533611364144), (2483, 0.003583934483093503), (2484, 0.01886006689632124), (2485, 0.04073867256537213), (2486, 0.03090340646913513), (2487, 0.05760038707495471), (2488, 0.018802749317130458), (2489, 0.018260857399836485), (2490, 0.006799652016039923), (2491, 0.011312479958952472), (2492, 0.028760255840819524), (2493, 0.0323321739345796), (2494, 0.032471347039442315), (2495, 0.019985215883076245), (2496, 0.005272814584623745), (2497, 0.03903878779254843), (2498, 0.05342997507473116), (2499, 0.005778826722623688), (2500, 0.01043208926227078), (2501, 0.025417461520478562), (2502, 0.01801022407213686), (2503, 0.014609048823932326), (2504, 0.02342241098437983), (2505, 0.007974355779520707), (2506, 0.003650040739531033), (2507, 0.00512480540729866), (2508, 0.01836134782432869), (2509, 0.023487509458405127), (2510, 0.041902877457704275), (2511, 0.023775370700941927), (2512, 0.05083311613519166), (2513, 0.048174384266710724), (2514, 0.011023330233772988), (2515, 0.0033739214394131628), (2516, 0.002879450006445156), (2517, 0.004924535874769529), (2518, 0.013851308400856036), (2519, 0.045377963401102145), (2520, 0.008447957593811442), (2521, 0.0), (2522, 0.030393053238149156), (2523, 0.03967464780997596), (2524, 0.02027220004310933), (2525, 0.0475542853859854), (2526, 0.009451931351811145), (2527, 0.005813719539266612), (2528, 0.025472063179308543), (2529, 0.013757090197285113), (2530, 0.011468704265441287), (2531, 0.039683476840955606), (2532, 0.010783731056603938), (2533, 0.0020116397560678997), (2534, 0.04569399169061472), (2535, 0.01828825153588621), (2536, 0.0035499783264984998), (2537, 0.0064717299799607894), (2538, 0.053642441742781204), (2539, 0.007488130925115473), (2540, 0.005373754091805712), (2541, 0.025824243819324542), (2542, 0.008816681207930452), (2543, 0.009381934151304266), (2544, 0.0068197214921682965), (2545, 0.007480887906220006), (2546, 0.026471903691505635), (2547, 0.012578652951822436), (2548, 0.030514504578664454), (2549, 0.013192648306283222), (2550, 0.08185594657609079), (2551, 0.03002822161363988), (2552, 0.018041794443907282), (2553, 0.039665936975843384), (2554, 0.004759227849488925), (2555, 0.03485729264726256), (2556, 0.02549791811319505), (2557, 0.002480569860168328), (2558, 0.0056390615198635766), (2559, 0.008885871984366842), (2560, 0.07027134283420411), (2561, 0.004921842855431647), (2562, 0.014384103220340828), (2563, 0.013838602752934668), (2564, 0.0033761463063164934), (2565, 0.031049537850752006), (2566, 0.010777894059811045), (2567, 0.014937503212203876), (2568, 0.020464466727072854), (2569, 0.012314742261459417), (2570, 0.011154279831245065), (2571, 0.016869463041340998), (2572, 0.0068018185809477424), (2573, 0.0029822905596412013), (2574, 0.021978457729641385), (2575, 0.0029702758503038617), (2576, 0.01633259338559527), (2577, 0.0), (2578, 0.0), (2579, 0.010114356128227133), (2580, 0.010311578406363497), (2581, 0.05714692602373611), (2582, 0.059267438064375046), (2583, 0.0), (2584, 0.04513430607307079), (2585, 0.002226535203108513), (2586, 0.0027534560801904), (2587, 0.026545489933171275), (2588, 0.015531654238464402), (2589, 0.004704749718021855), (2590, 0.01086093494024628), (2591, 0.011181053681528733), (2592, 0.03453369560522774), (2593, 0.0018453240485374295), (2594, 0.007003375604303594), (2595, 0.04860086170558469), (2596, 0.0), (2597, 0.019265995272721905), (2598, 0.09701812117019847), (2599, 0.0039322434324603655), (2600, 0.017507255589223204), (2601, 0.010322608042957702), (2602, 0.07020320138522468), (2603, 0.047367031696854404), (2604, 0.0029574639654607764), (2605, 0.0028368650262956927), (2606, 0.005677259307578937), (2607, 0.0239657741412843), (2608, 0.013126828278343838), (2609, 0.026944143122280995), (2610, 0.04174411513549092), (2611, 0.0211835125654863), (2612, 0.07252401114396341), (2613, 0.002356275336506654), (2614, 0.009511359905040635), (2615, 0.011397715388301474), (2616, 0.02820344304858184), (2617, 0.03195718914981546), (2618, 0.014994234596973138), (2619, 0.01741175699136323), (2620, 0.0025931982975599312), (2621, 0.042318139533256915), (2622, 0.057259556966884916), (2623, 0.002264252145680237), (2624, 0.0021885325149588264), (2625, 0.06044910389185682), (2626, 0.01679766800353824), (2627, 0.015570161919082693), (2628, 0.0026182886667209773), (2629, 0.017832381674479644), (2630, 0.013406745067402553), (2631, 0.011651942461249558), (2632, 0.02921954714009683), (2633, 0.02541610491659544), (2634, 0.001868852079731903), (2635, 0.016259661702238363), (2636, 0.03566001958656912), (2637, 0.022781926367952184), (2638, 0.035824352618214844), (2639, 0.014543535134027362), (2640, 0.02561125669580116), (2641, 0.0), (2642, 0.02510054412018807), (2643, 0.008742138784180845), (2644, 0.05089451664916158), (2645, 0.04294932475379242), (2646, 0.008406815348706114), (2647, 0.04569679921842906), (2648, 0.010788556933001514), (2649, 0.06611930856875309), (2650, 0.05738932053243126), (2651, 0.0018923230777938135), (2652, 0.006833656226147948), (2653, 0.04079732154486112), (2654, 0.03547858119195244), (2655, 0.019332167986916702), (2656, 0.02755211616346023), (2657, 0.003980694204473762), (2658, 0.0), (2659, 0.003914531034622039), (2660, 0.04348471452299943), (2661, 0.01651635090165282), (2662, 0.011236012111608523), (2663, 0.01753864537856372), (2664, 0.007206356435791856), (2665, 0.022234090292593676), (2666, 0.017735529879691313), (2667, 0.003703090745155964), (2668, 0.05567272916780742), (2669, 0.004018944447044687), (2670, 0.0), (2671, 0.03316506058488135), (2672, 0.013752387007222061), (2673, 0.01536758995887177), (2674, 0.0018411347570435528), (2675, 0.019055938301694997), (2676, 0.003116223050465025), (2677, 0.00728504950087016), (2678, 0.01543451994507103), (2679, 0.009221591889928129), (2680, 0.026765616119938645), (2681, 0.018455925166781014), (2682, 0.01230645831246458), (2683, 0.004075214091387028), (2684, 0.0039355130682856105), (2685, 0.0027579794620772743), (2686, 0.006692822064246196), (2687, 0.009323991452540628), (2688, 0.017245767148612243), (2689, 0.029468732718958578), (2690, 0.022793772500391656), (2691, 0.05333506719882293), (2692, 0.042282530621225375), (2693, 0.007227971730817354), (2694, 0.0026642330144954944), (2695, 0.05503728773674598), (2696, 0.045890159140794834), (2697, 0.0244149144986338), (2698, 0.01630257824028388), (2699, 0.03752373955947418), (2700, 0.004087175356864896), (2701, 0.01210121744637931), (2702, 0.019683815272512895), (2703, 0.004206879089776202), (2704, 0.0), (2705, 0.007319099097092226), (2706, 0.049980319349148004), (2707, 0.002347423722516822), (2708, 0.00528030981098052), (2709, 0.002718765305767586), (2710, 0.036913245123447465), (2711, 0.014705659346413722), (2712, 0.04187035593413816), (2713, 0.02223002973527094), (2714, 0.00596723403373837), (2715, 0.003577610463390394), (2716, 0.030523999873360616), (2717, 0.0), (2718, 0.01351791137105301), (2719, 0.01835635191178646), (2720, 0.04154525847294932), (2721, 0.027104871547292003), (2722, 0.021782450278647298), (2723, 0.0021450537343924788), (2724, 0.021986188407633046), (2725, 0.021925920424664392), (2726, 0.02599313519255566), (2727, 0.037352996093445695), (2728, 0.030967163838216107), (2729, 0.04399098667500748), (2730, 0.03968409973348758), (2731, 0.006332578286121261), (2732, 0.05630776128394245), (2733, 0.0040414633116603845), (2734, 0.08055893310684079), (2735, 0.0018466832718167642), (2736, 0.014990838892002936), (2737, 0.01250143033518748), (2738, 0.016839868104758616), (2739, 0.06452685638895274), (2740, 0.02419860143173358), (2741, 0.004247741426089899), (2742, 0.0729571581667022), (2743, 0.013324325395901357), (2744, 0.0860369712808507), (2745, 0.039904550272759125), (2746, 0.009636032942784305), (2747, 0.017277684808378935), (2748, 0.010305576976659448), (2749, 0.014070567458362127), (2750, 0.015366135927384407), (2751, 0.04442920294281731), (2752, 0.02553740013639498), (2753, 0.011275329455039422), (2754, 0.0028491136781266606), (2755, 0.020121767876944245), (2756, 0.021157846253670565), (2757, 0.0030612898905652544), (2758, 0.013960345504271703), (2759, 0.00859293895995152), (2760, 0.028596031471249943), (2761, 0.014036856024895064), (2762, 0.02704297471397115), (2763, 0.02131117889651201), (2764, 0.013501970020674532), (2765, 0.04094875885777449), (2766, 0.032813572003450406), (2767, 0.0015604168333481236), (2768, 0.023877410754886728), (2769, 0.025590440246442782), (2770, 0.002247263509022074), (2771, 0.04274725716079894), (2772, 0.03460608414092979), (2773, 0.07417921206250454), (2774, 0.013943985450168684), (2775, 0.009176492569112994), (2776, 0.013133980726027884), (2777, 0.04988135322710094), (2778, 0.006817711506180983), (2779, 0.047927373806962166), (2780, 0.033774860359134004), (2781, 0.01039539656522373), (2782, 0.019878278084643063), (2783, 0.013807469308315955), (2784, 0.02693226827256843), (2785, 0.025980978172590867), (2786, 0.005052103021488414), (2787, 0.006043632297598573), (2788, 0.024789269386335248), (2789, 0.015270009201655398), (2790, 0.020080734910987264), (2791, 0.044489200954675484), (2792, 0.019679796849386765), (2793, 0.019160684366124715), (2794, 0.01575911953303491), (2795, 0.09775949233906918), (2796, 0.005398937662635066), (2797, 0.011599896437818117), (2798, 0.07634694366514364), (2799, 0.003041635982946726), (2800, 0.014195999686535982), (2801, 0.01131501593185762), (2802, 0.013477211396587706), (2803, 0.009845416701811577), (2804, 0.026120907068543142), (2805, 0.04804372441155868), (2806, 0.034592849464747916), (2807, 0.040457969125564895), (2808, 0.043082449980854184), (2809, 0.028694808016418452), (2810, 0.02015868755204352), (2811, 0.0029760061741362664), (2812, 0.01833021459804283), (2813, 0.027095838814091323), (2814, 0.03859837843357744), (2815, 0.0360707873350479), (2816, 0.038779274118768865), (2817, 0.024458429059218224), (2818, 0.017182023398964377), (2819, 0.016269557041695623), (2820, 0.04127388607777542), (2821, 0.007175980390904918), (2822, 0.017559044226885298), (2823, 0.018977331475343508), (2824, 0.0), (2825, 0.04247060565391869), (2826, 0.002010771642467147), (2827, 0.0), (2828, 0.0), (2829, 0.011755360941026687), (2830, 0.017483239838631925), (2831, 0.06372942405734834), (2832, 0.012437306356436455), (2833, 0.03432431638901695), (2834, 0.023608271069878773), (2835, 0.006418307034728546), (2836, 0.007418905158882672), (2837, 0.0), (2838, 0.012111547762301417), (2839, 0.0), (2840, 0.030013632204304527), (2841, 0.11816167318627804), (2842, 0.013366923022431849), (2843, 0.008770359357049484), (2844, 0.13157161313640975), (2845, 0.02067790271759543), (2846, 0.005520168544532622), (2847, 0.0105263215825724), (2848, 0.027747791583020008), (2849, 0.013911796628218794), (2850, 0.015875199195102226), (2851, 0.007269298418549315), (2852, 0.03690516372729793), (2853, 0.009696396717731315), (2854, 0.02343224927115898), (2855, 0.014441104445086604), (2856, 0.017743685984791903), (2857, 0.01899163822072439), (2858, 0.006686851438156996), (2859, 0.020375948150684768), (2860, 0.0), (2861, 0.002651079279453961), (2862, 0.019668134118958153), (2863, 0.014211205262037308), (2864, 0.0), (2865, 0.05695691209747556), (2866, 0.006957663904046757), (2867, 0.0944157796158582), (2868, 0.02895340801941311), (2869, 0.0), (2870, 0.02380243505027681), (2871, 0.023578303470652692), (2872, 0.010909068007383272), (2873, 0.029984046634416874), (2874, 0.06724786734263946), (2875, 0.0034539785363271306), (2876, 0.047712350553417104), (2877, 0.022094338209081854), (2878, 0.05683629212327838), (2879, 0.006866596854845532), (2880, 0.008058610851573975), (2881, 0.00638576117572074), (2882, 0.005126518880539389), (2883, 0.009147282540205297), (2884, 0.06078122082172491), (2885, 0.0), (2886, 0.017095393552599897), (2887, 0.0020266152680710123), (2888, 0.03466319547963492), (2889, 0.002753332938119628), (2890, 0.007458844827640667), (2891, 0.010591120180490281), (2892, 0.06939390019062465), (2893, 0.01382905401237558), (2894, 0.006936635720702431), (2895, 0.002394051011327693), (2896, 0.002759692263691971), (2897, 0.02692455724367404), (2898, 0.007653676561504475), (2899, 0.014279631535052904), (2900, 0.01151548096720824), (2901, 0.0025679370293717847), (2902, 0.0014710133624451292), (2903, 0.033572539330463703), (2904, 0.007030658900470736), (2905, 0.03168598995345384), (2906, 0.014592860730464964), (2907, 0.013452156486537055), (2908, 0.08020734225805692), (2909, 0.01067898098771063), (2910, 0.10064032367343352), (2911, 0.025037069030299702), (2912, 0.04281744940636402), (2913, 0.026887716727820886), (2914, 0.005335377067184141), (2915, 0.02881511420320288), (2916, 0.0022403250064159078), (2917, 0.031117187088265816), (2918, 0.014256084141881956), (2919, 0.017352626170559285), (2920, 0.010569844815172686), (2921, 0.006611158456547424), (2922, 0.0036976786069587166), (2923, 0.0026948576239357418), (2924, 0.07106755041165883), (2925, 0.032759046568493044), (2926, 0.004933815186555749), (2927, 0.0), (2928, 0.02121160349029861), (2929, 0.021653918975557997), (2930, 0.0029879278931053323), (2931, 0.048865449058155284), (2932, 0.02220890551602051), (2933, 0.025577165431514046), (2934, 0.013255076735792709), (2935, 0.027520501408423034), (2936, 0.020352603275149747), (2937, 0.0028720489595363704), (2938, 0.042060557592153366), (2939, 0.021814376997079717), (2940, 0.015252135567562407), (2941, 0.003492388701421581), (2942, 0.02118108186132956), (2943, 0.006735246036514701), (2944, 0.056991827042123605), (2945, 0.009276900701883646), (2946, 0.0019683475642417224), (2947, 0.0037289975516567983), (2948, 0.01807101913578031), (2949, 0.006024416075419802), (2950, 0.0), (2951, 0.027034629358623937), (2952, 0.006761854148675304), (2953, 0.0021170521814479256), (2954, 0.013029539329426293), (2955, 0.0242202638125043), (2956, 0.0), (2957, 0.015658109792296905), (2958, 0.0), (2959, 0.0357345094732642), (2960, 0.003710733965150911), (2961, 0.016534025275669623), (2962, 0.03138478259940837), (2963, 0.046336694005739844), (2964, 0.0334364339735687), (2965, 0.014869759240072764), (2966, 0.008217238584727744), (2967, 0.005368689486211343), (2968, 0.012734913263557598), (2969, 0.036671823783056945), (2970, 0.005028531704478404), (2971, 0.01207424622364951), (2972, 0.014625781407772105), (2973, 0.009998853798389409), (2974, 0.007589143688481768), (2975, 0.04276063083881183), (2976, 0.004226118283082603), (2977, 0.017132556761070297), (2978, 0.024219971969457986), (2979, 0.002952491314463884), (2980, 0.014638166843818485), (2981, 0.04809153235627946), (2982, 0.0326100980948382), (2983, 0.009436579685715978), (2984, 0.026532105908456616), (2985, 0.033312884750319925), (2986, 0.011209961679095668), (2987, 0.0023090280209772133), (2988, 0.05378592558945841), (2989, 0.0027869540475237583), (2990, 0.0036583431109360968), (2991, 0.01275538997061538), (2992, 0.08784407822050101), (2993, 0.0024124274314616936), (2994, 0.021035530011612413), (2995, 0.02025195109716796), (2996, 0.03950964006345264), (2997, 0.0018904564186444626), (2998, 0.003002658989795304), (2999, 0.009423383888700097), (3000, 0.014442214305783496), (3001, 0.019535268810938443), (3002, 0.0), (3003, 0.005240735734471551), (3004, 0.008325680378680434), (3005, 0.015522821268005542), (3006, 0.008976986867545483), (3007, 0.0021367179918530634), (3008, 0.005791326312119196), (3009, 0.01046970688882699), (3010, 0.04523634962859288), (3011, 0.04594355331047484), (3012, 0.01883245525735157), (3013, 0.007625305032670976), (3014, 0.013692814976619127), (3015, 0.00856563557049521), (3016, 0.014843076319968795), (3017, 0.008883614746832198), (3018, 0.06221346857563882), (3019, 0.019554312124214566), (3020, 0.024264001142543398), (3021, 0.0066284674367439005), (3022, 0.04422162513307397), (3023, 0.05199115274312725), (3024, 0.006542109957106638), (3025, 0.0), (3026, 0.0052122595285681505), (3027, 0.0189909505664198), (3028, 0.011163455269794982), (3029, 0.0), (3030, 0.00915714328599683), (3031, 0.0024432184775754445), (3032, 0.006311114570458413), (3033, 0.017440150971933528), (3034, 0.022177893529811508), (3035, 0.005367635361074799), (3036, 0.046522271720681005), (3037, 0.004979769777632933), (3038, 0.002842793901576068), (3039, 0.052537980251403736), (3040, 0.006588320729254253), (3041, 0.0028684897047496984), (3042, 0.018518208491767257), (3043, 0.03434429622311881), (3044, 0.005142478509720623), (3045, 0.06623068135269464), (3046, 0.016411232848018507), (3047, 0.011932004699736177), (3048, 0.009480189019641075), (3049, 0.0045173480181769496), (3050, 0.008682823812886799), (3051, 0.07941200163912969), (3052, 0.0027319173975812227), (3053, 0.009166620521752907), (3054, 0.003265439557272639), (3055, 0.0027216154141115577), (3056, 0.03359378036016677), (3057, 0.01810289155075244), (3058, 0.026970011882960707), (3059, 0.0), (3060, 0.028130529363154806), (3061, 0.007817540711704922), (3062, 0.005230303404237521), (3063, 0.04043126355216775), (3064, 0.002176340165459006), (3065, 0.009189308217054923), (3066, 0.03265477230297909), (3067, 0.011795298406672322), (3068, 0.022931703319405312), (3069, 0.001953189766061728), (3070, 0.015645659207061208), (3071, 0.028892000751567292), (3072, 0.007856392760654654), (3073, 0.03218461693652151), (3074, 0.005788076999630217), (3075, 0.006564896810472922), (3076, 0.017221722931531194), (3077, 0.037957987520976746), (3078, 0.00960799666100229), (3079, 0.031536323361229426), (3080, 0.0030291049323752073), (3081, 0.002353834926266375), (3082, 0.04142303771738511), (3083, 0.0158303122357211), (3084, 0.005003615359764041), (3085, 0.0388307696212225), (3086, 0.03915617283784759), (3087, 0.0034285155655344917), (3088, 0.004041103782777688), (3089, 0.03495387120562326), (3090, 0.02190854748009379), (3091, 0.04514764409711323), (3092, 0.0), (3093, 0.0019683706492685487), (3094, 0.03482398194468625), (3095, 0.046447922640632834), (3096, 0.04400833511966828), (3097, 0.029811835303483903), (3098, 0.022532597915105233), (3099, 0.02884181995582886), (3100, 0.0033984915681858664), (3101, 0.002209703092737972), (3102, 0.02999671276311451), (3103, 0.02014954162794846), (3104, 0.0027112191474421518), (3105, 0.0), (3106, 0.002708978269940856), (3107, 0.0), (3108, 0.0889298780228385), (3109, 0.06417870793617109), (3110, 0.016646138097753352), (3111, 0.03460652582090807), (3112, 0.00606294561464296), (3113, 0.0048117867167895515), (3114, 0.011949013063314109), (3115, 0.004230603887592027), (3116, 0.007427921428416919), (3117, 0.010944120795977865), (3118, 0.03281525864746028), (3119, 0.018040526594774193), (3120, 0.03772020698815334), (3121, 0.02279648456887015), (3122, 0.02360366331701901), (3123, 0.0068773649801863665), (3124, 0.031061295837293917), (3125, 0.015265475863356644), (3126, 0.003484212069049303), (3127, 0.06045122484271014), (3128, 0.016133745052904373), (3129, 0.04366299433089348), (3130, 0.0), (3131, 0.014111938054132847), (3132, 0.007446273078207521), (3133, 0.08737998162523039), (3134, 0.03554563361821279), (3135, 0.0034076169635282112), (3136, 0.003393280086613875), (3137, 0.039436221614179284), (3138, 0.023769269383610254), (3139, 0.006679340031884709), (3140, 0.008506856970921902), (3141, 0.028485749573083013), (3142, 0.040561413419474515), (3143, 0.013408298716028465), (3144, 0.033358459374519624), (3145, 0.01240993134196827), (3146, 0.005276951683226879), (3147, 0.016852987785148155), (3148, 0.007653252035604213), (3149, 0.07271960872825924), (3150, 0.02227836956951324), (3151, 0.01593893890500139), (3152, 0.026555177717649814), (3153, 0.1273756922417541), (3154, 0.047434372721447654), (3155, 0.015985392966133927), (3156, 0.0035041612069826155), (3157, 0.02425267499036012), (3158, 0.004077745802771006), (3159, 0.0024754140730632768), (3160, 0.0031957888307006114), (3161, 0.012979723949083373), (3162, 0.0028337846555702797), (3163, 0.0116044192107726), (3164, 0.014777401991504523), (3165, 0.007763848753490612), (3166, 0.022888094281836188), (3167, 0.030193707550318128), (3168, 0.03475341824168704), (3169, 0.013856443557751164), (3170, 0.006430617466761624), (3171, 0.012517591619178921), (3172, 0.0142868814708529), (3173, 0.00888640506982798), (3174, 0.011521375607955029), (3175, 0.008012154526691082), (3176, 0.0), (3177, 0.01560406735023252), (3178, 0.014983837886043216), (3179, 0.0037358555707857556), (3180, 0.009342735563901998), (3181, 0.049740563578599496), (3182, 0.012422508418384832), (3183, 0.010377896375412914), (3184, 0.014803784295146415), (3185, 0.0055204980922525316), (3186, 0.00226783358090857), (3187, 0.07046987071581348), (3188, 0.013370132631105912), (3189, 0.02774829177553222), (3190, 0.011287380399484903), (3191, 0.003745554012373297), (3192, 0.018332220436067897), (3193, 0.008973028544928008), (3194, 0.00894517494898112), (3195, 0.005548641487852355), (3196, 0.006322534829696319), (3197, 0.013120920357109076), (3198, 0.00979023958298851), (3199, 0.028183668793224943), (3200, 0.013859504804715055), (3201, 0.017028492369418256), (3202, 0.021776431403480692), (3203, 0.003272885110260161), (3204, 0.018093450301261173), (3205, 0.05578624742696947), (3206, 0.002419907563444152), (3207, 0.034282911956836824), (3208, 0.006210918443689082), (3209, 0.008821935713964535), (3210, 0.01694337894163593), (3211, 0.01827254333845652), (3212, 0.002252864636687681), (3213, 0.013197136958942295), (3214, 0.009047721211812635), (3215, 0.017257578825434997), (3216, 0.060184112092015), (3217, 0.00963530425733436), (3218, 0.03969650075781721), (3219, 0.010335143036623086), (3220, 0.02199270806679397), (3221, 0.04333575548903277), (3222, 0.03242808416252958), (3223, 0.0), (3224, 0.004911681723203934), (3225, 0.0020495889809195216), (3226, 0.021993507104180077), (3227, 0.020363164560002055), (3228, 0.04066752077433215), (3229, 0.04354177574371818), (3230, 0.013336900645023627), (3231, 0.03812668715748846), (3232, 0.028304182083947305), (3233, 0.03389080128560608), (3234, 0.02603870041938185), (3235, 0.014693067878758213), (3236, 0.0028903534756478926), (3237, 0.045379502375712887), (3238, 0.05324738053051142), (3239, 0.00937413810570441), (3240, 0.03237343933093472), (3241, 0.05702264476628668), (3242, 0.008303040785918574), (3243, 0.001873277512030826), (3244, 0.012647318136260126), (3245, 0.014020578010859269), (3246, 0.05792681654911205), (3247, 0.028796074546661013), (3248, 0.007538627717969294), (3249, 0.005900456219698146), (3250, 0.0025487436753131253), (3251, 0.0), (3252, 0.008120258587565557), (3253, 0.02715251569194123), (3254, 0.010357838637223374), (3255, 0.0), (3256, 0.026176237764341158), (3257, 0.011419462812972452), (3258, 0.010305361788594494), (3259, 0.04966208626635802), (3260, 0.019797500227260525), (3261, 0.01792567301107611), (3262, 0.03710331052823377), (3263, 0.0039635327459672555), (3264, 0.017667988474791087), (3265, 0.030627525069340054), (3266, 0.0037592997355544106), (3267, 0.014406192814230296), (3268, 0.006451527056191281), (3269, 0.03774921864702178), (3270, 0.012189928562802873), (3271, 0.023497432861830998), (3272, 0.026418681986371775), (3273, 0.007525402928246295), (3274, 0.007616133218223943), (3275, 0.03225436632381738), (3276, 0.010203796640558196), (3277, 0.012919353381467772), (3278, 0.001818651438571306), (3279, 0.02657462820228454), (3280, 0.019282470034088887), (3281, 0.0), (3282, 0.018462780664808585), (3283, 0.014534847730386163), (3284, 0.02340138645024254), (3285, 0.04630024930777524), (3286, 0.009457263892304278), (3287, 0.01397303459771035), (3288, 0.08569632726090116), (3289, 0.010889842524449973), (3290, 0.014065026373510611), (3291, 0.009083651711645255), (3292, 0.0026109561102096914), (3293, 0.021496165867726333), (3294, 0.06094837861084146), (3295, 0.06182469007992991), (3296, 0.0076880772546371635), (3297, 0.0538054784601547), (3298, 0.013313922380449518), (3299, 0.0294705908704035), (3300, 0.011904621760764357), (3301, 0.001566239083670218), (3302, 0.008235875971553782), (3303, 0.04297415253774056), (3304, 0.008581413608926626), (3305, 0.0), (3306, 0.03105179144899126), (3307, 0.010481605188143062), (3308, 0.011219817818875173), (3309, 0.010136767923544496), (3310, 0.03445119490843345), (3311, 0.01290822499630154), (3312, 0.04601637526321523), (3313, 0.0016329244854632094), (3314, 0.007168997356036411), (3315, 0.021406738142586406), (3316, 0.012871186056655798), (3317, 0.054228119638983475), (3318, 0.07144062191902581), (3319, 0.00508174825069899), (3320, 0.011523961270582186), (3321, 0.01681934396590799), (3322, 0.00257414323765434), (3323, 0.015814453603313443), (3324, 0.00319379100042026), (3325, 0.01007372218724378), (3326, 0.007159248134600669), (3327, 0.02849851455976723), (3328, 0.04550064657571301), (3329, 0.00904881816172751), (3330, 0.0341219746064336), (3331, 0.004700050406463871), (3332, 0.0027501271628156683), (3333, 0.0), (3334, 0.015568855661950449), (3335, 0.013925899820746792), (3336, 0.023690683626564162), (3337, 0.005443467547771738), (3338, 0.028743382727278978), (3339, 0.0031309932571960916), (3340, 0.0), (3341, 0.0109802881736029), (3342, 0.019591988474225337), (3343, 0.02680005469507945), (3344, 0.07325005456615669), (3345, 0.039358893227966735), (3346, 0.020666300162184643), (3347, 0.008179301034718688), (3348, 0.010283444407641304), (3349, 0.008669090241531502), (3350, 0.0026810233428882025), (3351, 0.056337801523782316), (3352, 0.0325299098541564), (3353, 0.0020793653569604136), (3354, 0.00251814072888802), (3355, 0.014724678932142719), (3356, 0.0226793003989456), (3357, 0.01698847516820358), (3358, 0.03595056695520803), (3359, 0.007866551246393304), (3360, 0.025703261394004476), (3361, 0.012486272194973773), (3362, 0.027586898984782636), (3363, 0.02481761748696531), (3364, 0.021967557674163384), (3365, 0.008146666848953352), (3366, 0.002624591289909589), (3367, 0.015382347159066837), (3368, 0.009325919225778231), (3369, 0.0018448895790899218), (3370, 0.02203979344369164), (3371, 0.06773756450906446), (3372, 0.0021005699147920226), (3373, 0.01786965322750508), (3374, 0.026149859131070034), (3375, 0.04081388883950212), (3376, 0.03267689014015008), (3377, 0.0774172520831442), (3378, 0.01280337554709426), (3379, 0.012548122700586641), (3380, 0.006000425506941846), (3381, 0.0019762091533795417), (3382, 0.04456902943208736), (3383, 0.0030771490654046985), (3384, 0.034619814918268835), (3385, 0.0040776435795942005), (3386, 0.019707734293463872), (3387, 0.009738198914165127), (3388, 0.016210298321689985), (3389, 0.04054184248462683), (3390, 0.038491846067624444), (3391, 0.02756969678533009), (3392, 0.023398896301010743), (3393, 0.012272801946873142), (3394, 0.0), (3395, 0.030146309364267605), (3396, 0.002307002608129006), (3397, 0.04678210058984948), (3398, 0.0037522641313499083), (3399, 0.015632614046019455), (3400, 0.021548627642389805), (3401, 0.0), (3402, 0.00459727642470635), (3403, 0.04540034064154986), (3404, 0.003701619814616937), (3405, 0.0030922617952167416), (3406, 0.015307568526084916), (3407, 0.0876327275922092), (3408, 0.010959577846396373), (3409, 0.022425060006744685), (3410, 0.026133500091711233), (3411, 0.01076482357350109), (3412, 0.01882041822265646), (3413, 0.01138315846893865), (3414, 0.023624071215099886), (3415, 0.002844135368385311), (3416, 0.01995897327593964), (3417, 0.0074448469799045115), (3418, 0.035724350423610184), (3419, 0.0351743289391495), (3420, 0.06399266927624107), (3421, 0.02075112653344583), (3422, 0.011035798257646364), (3423, 0.008216014816457907), (3424, 0.056318116339955746), (3425, 0.007832244046221142), (3426, 0.02827872837388993), (3427, 0.00593067433900941), (3428, 0.043364080157829055), (3429, 0.002473639617823765), (3430, 0.021953913595074627), (3431, 0.0016061329364255848), (3432, 0.0036115760799560344), (3433, 0.01670739964739467), (3434, 0.0071912489216686155), (3435, 0.021997872863911864), (3436, 0.016542782881733695), (3437, 0.04264521389812591), (3438, 0.029622502918713038), (3439, 0.003524837728351066), (3440, 0.004227171819981307), (3441, 0.0019836641947522577), (3442, 0.002882592129119156), (3443, 0.021329827389411835), (3444, 0.016520473379160502), (3445, 0.01550516530075159), (3446, 0.02854963040499779), (3447, 0.06344833425925897), (3448, 0.026857755243061852), (3449, 0.026199680254998334), (3450, 0.056104175254148306), (3451, 0.0038995816450527105), (3452, 0.0052576173870172264), (3453, 0.012273988252916788), (3454, 0.018687650932296896), (3455, 0.0018364742768283886), (3456, 0.07074242353664413), (3457, 0.039743409456573064), (3458, 0.058976429740052766), (3459, 0.020619209776079353), (3460, 0.033053207372052855), (3461, 0.01307870935361395), (3462, 0.04568998275801587), (3463, 0.04465608123810601), (3464, 0.0842379120367919), (3465, 0.02312809226393215), (3466, 0.03583176683776805), (3467, 0.007113114646782108), (3468, 0.003921086736222527), (3469, 0.057979651399388224), (3470, 0.03810128729897465), (3471, 0.016098640579298322), (3472, 0.0), (3473, 0.0), (3474, 0.005123356180827261), (3475, 0.00441750843480453), (3476, 0.0), (3477, 0.06245998686845172), (3478, 0.00902344981902093), (3479, 0.012656463641175958), (3480, 0.0), (3481, 0.010326366749724553), (3482, 0.0), (3483, 0.08994136467981276), (3484, 0.01588301926535725), (3485, 0.009297314092471148), (3486, 0.014740594972779172), (3487, 0.019620454580804247), (3488, 0.003792949332464643), (3489, 0.007707233373122475), (3490, 0.007180237938890433), (3491, 0.011597569624271834), (3492, 0.044574633355501055), (3493, 0.02850055607318623), (3494, 0.002735026351613375), (3495, 0.0032351636472009587), (3496, 0.010172785985070223), (3497, 0.008640811878679815), (3498, 0.02851968597850976), (3499, 0.02856610605336494), (3500, 0.008792493109856043), (3501, 0.005731306832724277), (3502, 0.015965430361773357), (3503, 0.004523786193926591), (3504, 0.030200032247707807), (3505, 0.012068175473521146), (3506, 0.033865149859380085), (3507, 0.025241763960046175), (3508, 0.03717844914971622), (3509, 0.006852235277107765), (3510, 0.0029297205511521303), (3511, 0.014508361481484284), (3512, 0.023793136838650312), (3513, 0.011645746992306638), (3514, 0.008723278996381235), (3515, 0.09637486107903839), (3516, 0.03569269593194936), (3517, 0.048108399366741016), (3518, 0.0682851090911833), (3519, 0.00299196014279152), (3520, 0.04453402928288652), (3521, 0.006946142131132117), (3522, 0.0), (3523, 0.015696544021255684), (3524, 0.026753279718062184), (3525, 0.011242503111954938), (3526, 0.03052571945232168), (3527, 0.002067481179189531), (3528, 0.013457367077583318), (3529, 0.02252927160072914), (3530, 0.0), (3531, 0.02488784320657972), (3532, 0.0), (3533, 0.013829005816287555), (3534, 0.014901775852935428), (3535, 0.01752199926338038), (3536, 0.017361557756382956), (3537, 0.005851557346451335), (3538, 0.016978441181668746), (3539, 0.002895267539790514), (3540, 0.014927866237897328), (3541, 0.03459870137865809), (3542, 0.002046392266331532), (3543, 0.002526243333133905), (3544, 0.005742619753294615), (3545, 0.0026973825906611492), (3546, 0.02372667631511329), (3547, 0.0), (3548, 0.012356354834953873), (3549, 0.017611522590497856), (3550, 0.0), (3551, 0.03258424481208154), (3552, 0.015413569983285257), (3553, 0.02178196810097023), (3554, 0.014123322161833927), (3555, 0.013992295449620593), (3556, 0.04034186384584782), (3557, 0.0182156814966637), (3558, 0.015805594180081147), (3559, 0.006619888444324503), (3560, 0.007594968905761062), (3561, 0.002711328356414909), (3562, 0.011818386908749782), (3563, 0.023775496346052628), (3564, 0.017528316985060348), (3565, 0.0382442719575761), (3566, 0.013838689408401286), (3567, 0.009151810432391086), (3568, 0.041241681913169424), (3569, 0.010973422572940858), (3570, 0.04122942059777193), (3571, 0.038025278934998165), (3572, 0.0030087414438062137), (3573, 0.06277110029182204), (3574, 0.008035628368715336), (3575, 0.013913483306141124), (3576, 0.003695139647566838), (3577, 0.023517002880314605), (3578, 0.012056591795050052), (3579, 0.043437544417795355), (3580, 0.014522744179879556), (3581, 0.002987412960270209), (3582, 0.016872999192169863), (3583, 0.017667841997875477), (3584, 0.01948017556680337), (3585, 0.01948586596048291), (3586, 0.05102648216868253), (3587, 0.013013227539824354), (3588, 0.05033524477231286), (3589, 0.006895039030735235), (3590, 0.0021245973604532968), (3591, 0.0028363124218718687), (3592, 0.018028091811418095), (3593, 0.01428739418599091), (3594, 0.025299914678430558), (3595, 0.002600094957289404), (3596, 0.012953541875811797), (3597, 0.03523029287443753), (3598, 0.019660376680450644), (3599, 0.05591516929537223), (3600, 0.02919433609690938), (3601, 0.010107201277473114), (3602, 0.003577325690918637), (3603, 0.018624609009371337), (3604, 0.018302800859134872), (3605, 0.003478055367251872), (3606, 0.018207494423015), (3607, 0.0), (3608, 0.0013027590380747117), (3609, 0.0), (3610, 0.0403348492063956), (3611, 0.010252640911421477), (3612, 0.09017435541532637), (3613, 0.0024669805678945544), (3614, 0.006118322584549367), (3615, 0.0018834665817896465), (3616, 0.017745070319550936), (3617, 0.01037082199352869), (3618, 0.016101670656194823), (3619, 0.009353992320854309), (3620, 0.0024354970357069955), (3621, 0.005551326942414864), (3622, 0.012354244913021395), (3623, 0.03270783125516245), (3624, 0.005586071874225867), (3625, 0.0), (3626, 0.044371636585018345), (3627, 0.028201310455298903), (3628, 0.002971770368301009), (3629, 0.001717706083111288), (3630, 0.01513933026404176), (3631, 0.0), (3632, 0.036383188675716084), (3633, 0.073904986623186), (3634, 0.006071010315513571), (3635, 0.007623053332770733), (3636, 0.0020611760407650394), (3637, 0.023043158950075256), (3638, 0.018939035203682137), (3639, 0.0022890457727596674), (3640, 0.03383433227114277), (3641, 0.026859049866335374), (3642, 0.06924808181479904), (3643, 0.01699854389140483), (3644, 0.04767627643751312), (3645, 0.025116478593006256), (3646, 0.030221169487710357), (3647, 0.009588046382892698), (3648, 0.03024662084427569), (3649, 0.003082949613297526), (3650, 0.0124324239132286), (3651, 0.013215277469948335), (3652, 0.019353008458249117), (3653, 0.019141758765153876), (3654, 0.01715495098808345), (3655, 0.0541069328848755), (3656, 0.0230422466418685), (3657, 0.007614736243536041), (3658, 0.03055400519458898), (3659, 0.03143666526945747), (3660, 0.016198344839073436), (3661, 0.023232779190456937), (3662, 0.0116612754717943), (3663, 0.0), (3664, 0.003497111199066624), (3665, 0.05544889659032127), (3666, 0.035424873873321605), (3667, 0.02839932700377302), (3668, 0.04845773571254004), (3669, 0.0057283960086353305), (3670, 0.035844571183380775), (3671, 0.00338278350289669), (3672, 0.002842087422295632), (3673, 0.004698569039179498), (3674, 0.022847990354904396), (3675, 0.020023260462986872), (3676, 0.0027462641284859216), (3677, 0.032989608976553286), (3678, 0.023135175671840678), (3679, 0.007646207562392408), (3680, 0.0063758375198653666), (3681, 0.018904309309699215), (3682, 0.0), (3683, 0.013835599469877616), (3684, 0.04129646767939349), (3685, 0.02274383192550879), (3686, 0.008888810692256648), (3687, 0.0024981348204862457), (3688, 0.018015190276101323), (3689, 0.02531840783445499), (3690, 0.035847083219936196), (3691, 0.0019031801029135579), (3692, 0.019104812378683795), (3693, 0.005041113493309307), (3694, 0.030862374805237874), (3695, 0.0), (3696, 0.023861157465058874), (3697, 0.009859413129933185), (3698, 0.021585486966876684), (3699, 0.017156818387057196), (3700, 0.0), (3701, 0.02698360359444029), (3702, 0.0), (3703, 0.013358110606820026), (3704, 0.006093067429858495), (3705, 0.038881264669072615), (3706, 0.01249079471347275), (3707, 0.0020356388975293857), (3708, 0.017085066037783075), (3709, 0.028282378709497288), (3710, 0.0038678551640856126), (3711, 0.09823468028793132), (3712, 0.011622442578122241), (3713, 0.03047607539515792), (3714, 0.0021861665068415837), (3715, 0.008201448478716285), (3716, 0.006720127611650537), (3717, 0.0), (3718, 0.06241079525320542), (3719, 0.0019522015930053295), (3720, 0.012729018688402115), (3721, 0.0291034496280186), (3722, 0.012615288005560577), (3723, 0.017843750170663343), (3724, 0.01012838558813879), (3725, 0.0018623209411560318), (3726, 0.0), (3727, 0.005590342901102111), (3728, 0.010584312713195723), (3729, 0.0023179279875215502), (3730, 0.036118394260221225), (3731, 0.04429701028924243), (3732, 0.008036452426599781), (3733, 0.01460340415601524), (3734, 0.005317916301123859), (3735, 0.019903817908231296), (3736, 0.039289456749477855), (3737, 0.0022333493398267205), (3738, 0.0), (3739, 0.04912140291565949), (3740, 0.003439284202554326), (3741, 0.06503873772371349), (3742, 0.008901503767786772), (3743, 0.019767219452783133), (3744, 0.00442777969171789), (3745, 0.01621337696168454), (3746, 0.009403162588452231), (3747, 0.04843906981060212), (3748, 0.01921612228063108), (3749, 0.002180764954052271), (3750, 0.02268277739671452), (3751, 0.048388435583999724), (3752, 0.02063094140097555), (3753, 0.006887978914097046), (3754, 0.014453253974351432), (3755, 0.004169451834328005), (3756, 0.024816217592224618), (3757, 0.002157525259163812), (3758, 0.008942640215731741), (3759, 0.011152412532867568), (3760, 0.0), (3761, 0.0053224089619668775), (3762, 0.002605704250008272), (3763, 0.005559915027145114), (3764, 0.02848868991324392), (3765, 0.04045233215618761), (3766, 0.02003146496269512), (3767, 0.037785524154851695), (3768, 0.015900525883151356), (3769, 0.00380404651956215), (3770, 0.00209153245209846), (3771, 0.013714155862739105), (3772, 0.013361236038798859), (3773, 0.01056176793395835), (3774, 0.01980598032645655), (3775, 0.013731915619066965), (3776, 0.011296740349386335), (3777, 0.07931056023159727), (3778, 0.034469359160937914), (3779, 0.010896091687268681), (3780, 0.02252767480759202), (3781, 0.002143006671763636), (3782, 0.0038970819718251587), (3783, 0.0), (3784, 0.015926599809659617), (3785, 0.024052538782491036), (3786, 0.026265363234604076), (3787, 0.015805463888323268), (3788, 0.0034008741367056645), (3789, 0.003209425585280824), (3790, 0.008965540948547037), (3791, 0.003100909665050581), (3792, 0.03759290604282428), (3793, 0.003576696935581874), (3794, 0.04534224821868042), (3795, 0.006046597803536657), (3796, 0.003758622916190767), (3797, 0.011971864969559237), (3798, 0.004936843806279041), (3799, 0.0018959275160954786), (3800, 0.009864624656420979), (3801, 0.0452923611926475), (3802, 0.003983788524347097), (3803, 0.017511529567130986), (3804, 0.007540338938562529), (3805, 0.002709680231784293), (3806, 0.0030692966483563586), (3807, 0.022586734394970893), (3808, 0.008301721035334397), (3809, 0.014121512159994187), (3810, 0.028326993094661346), (3811, 0.004447413741777383), (3812, 0.01592819861056416), (3813, 0.02041151910664752), (3814, 0.04491574441678783), (3815, 0.0037092800703012), (3816, 0.0), (3817, 0.010625862569926444), (3818, 0.012167823761850521), (3819, 0.04065362955247425), (3820, 0.0030722865996679616), (3821, 0.014032667706338636), (3822, 0.021839076801169997), (3823, 0.028665262589930428), (3824, 0.018990271196313212), (3825, 0.0316759475298421), (3826, 0.02066186409355113), (3827, 0.001961043296600321), (3828, 0.02124367954069095), (3829, 0.04288429188242838), (3830, 0.005205335352578631), (3831, 0.03457258876035989), (3832, 0.009076896037357889), (3833, 0.014661393133442151), (3834, 0.005092434527376493), (3835, 0.04002536613648102), (3836, 0.002650376113627048), (3837, 0.0029830123361011146), (3838, 0.0), (3839, 0.031163348537812628), (3840, 0.007199838532723732), (3841, 0.023306724542724144), (3842, 0.01263029823732769), (3843, 0.023737860101807548), (3844, 0.00796459048499349), (3845, 0.021148757987818942), (3846, 0.007484427128924866), (3847, 0.018386823653490342), (3848, 0.002537494705427455), (3849, 0.03662589896908871), (3850, 0.003888114843213142), (3851, 0.008560774863228125), (3852, 0.024177369460821777), (3853, 0.034283079232778124), (3854, 0.024366683671159586), (3855, 0.017121418863754588), (3856, 0.0064709203892108665), (3857, 0.03407723956600631), (3858, 0.04102611961964891), (3859, 0.011573985937392915), (3860, 0.025226282993543105), (3861, 0.013125422704060218), (3862, 0.017543155937475942), (3863, 0.0017972794451506786), (3864, 0.007453199253021756), (3865, 0.015562121510192154), (3866, 0.04034665669909581), (3867, 0.019946337030191573), (3868, 0.029514349991277278), (3869, 0.0), (3870, 0.012827260495775166), (3871, 0.020925650593671286), (3872, 0.0), (3873, 0.02523255402280002), (3874, 0.002445786223571586), (3875, 0.048453426390113186), (3876, 0.02461531634132612), (3877, 0.03270517935367913), (3878, 0.014391187272455945), (3879, 0.007248982271688103), (3880, 0.006264501892642673), (3881, 0.003469547012617103), (3882, 0.009974278979222366), (3883, 0.019147121196604635), (3884, 0.002327070634127144), (3885, 0.0024721927132495968), (3886, 0.02202247644797004), (3887, 0.0), (3888, 0.01570926022926244), (3889, 0.010278090048823916), (3890, 0.030280473625222105), (3891, 0.04508046068893386), (3892, 0.006132812694535765), (3893, 0.03670139227981398), (3894, 0.010131544157094972), (3895, 0.016514276653133136), (3896, 0.0026204752126034484), (3897, 0.013985029196695073), (3898, 0.006414562132038366), (3899, 0.013304570566856019), (3900, 0.0019232719118200815), (3901, 0.006799815140970456), (3902, 0.002081044873674803), (3903, 0.07221927256610647), (3904, 0.007230040952499128), (3905, 0.02610126394748098), (3906, 0.09194246551406346), (3907, 0.023595202007738163), (3908, 0.016883095092623156), (3909, 0.03565970881067201), (3910, 0.029170259564847652), (3911, 0.013083886579362007), (3912, 0.01795590325377437), (3913, 0.03744115126321014), (3914, 0.02148047289880787), (3915, 0.017062736881575398), (3916, 0.013414774716082172), (3917, 0.011112652513602621), (3918, 0.0), (3919, 0.025307763378931352), (3920, 0.011965824822186322), (3921, 0.037588806729510746), (3922, 0.005823846709733797), (3923, 0.002497031068998583), (3924, 0.035465906734705066), (3925, 0.010061395201748978), (3926, 0.023395930911758896), (3927, 0.03375836482411748), (3928, 0.009649718632240133), (3929, 0.006863447279363494), (3930, 0.012702570345385385), (3931, 0.0031790316879043504), (3932, 0.01455712526744418), (3933, 0.03367909482542382), (3934, 0.021285034738081337), (3935, 0.0023568084766784295), (3936, 0.009458816832949104), (3937, 0.0), (3938, 0.003944754417009999), (3939, 0.04339390313961445), (3940, 0.004271033233742276), (3941, 0.025861018644145452), (3942, 0.004438030935128308), (3943, 0.002921080966920184), (3944, 0.010632618964488128), (3945, 0.005824062654119605), (3946, 0.032800025745393493), (3947, 0.017099881751392303), (3948, 0.0), (3949, 0.01907525711361419), (3950, 0.011332472256167193), (3951, 0.01952399595276244), (3952, 0.01086821601346087), (3953, 0.0018198014334883492), (3954, 0.03465194206680044), (3955, 0.009532384576532542), (3956, 0.011728767388003387), (3957, 0.01679058837331849), (3958, 0.039153762630653816), (3959, 0.0985630952798082), (3960, 0.01722124364590178), (3961, 0.0448376465942885), (3962, 0.00529843219970629), (3963, 0.016451386464369753), (3964, 0.017000606437493706), (3965, 0.0025954079585877427), (3966, 0.01781217122972383), (3967, 0.03408196156475681), (3968, 0.03057201088643558), (3969, 0.015744675217615342), (3970, 0.029159092951368162), (3971, 0.0021915756075404705), (3972, 0.04461117555795003), (3973, 0.013431750268572384), (3974, 0.010392686086497254), (3975, 0.016407381647349145), (3976, 0.046943325061830785), (3977, 0.007585434760059728), (3978, 0.02666552910846061), (3979, 0.007456704069873917), (3980, 0.024295014637049982), (3981, 0.0), (3982, 0.007021576124386973), (3983, 0.01696180034929983), (3984, 0.016697189689732668), (3985, 0.03250917078011008), (3986, 0.010394201393533085), (3987, 0.0021302387547256427), (3988, 0.0034206318110351964), (3989, 0.002930971291296856), (3990, 0.0027607025369479348), (3991, 0.0), (3992, 0.01794675528203589), (3993, 0.02739933623343392), (3994, 0.009282662377321232), (3995, 0.0037719954597093476), (3996, 0.0032402252870998628), (3997, 0.01937101840906301), (3998, 0.01681147016122486), (3999, 0.02206351477126653), (4000, 0.04490988240858587), (4001, 0.027047622085055394), (4002, 0.013416028942998388), (4003, 0.0030019621691053547), (4004, 0.06104779731571126), (4005, 0.03311865148399918), (4006, 0.009546498563661222), (4007, 0.059201316184157984), (4008, 0.008196542856788799), (4009, 0.013612563689871113), (4010, 0.0031357103130144706), (4011, 0.011897075166822023), (4012, 0.06867629855439467), (4013, 0.016538320998762283), (4014, 0.002023692035935727), (4015, 0.031082218890601924), (4016, 0.031291075212051676), (4017, 0.002714149697353937), (4018, 0.016317024401869513), (4019, 0.00259276839239925), (4020, 0.001962180819839708), (4021, 0.0), (4022, 0.011168465576261498), (4023, 0.005571321435803223), (4024, 0.03455641742241636), (4025, 0.05841702372780085), (4026, 0.005988293421975449), (4027, 0.007895325083426203), (4028, 0.014713380596697717), (4029, 0.032062611605843214), (4030, 0.0023410361643680694), (4031, 0.022553249218787794), (4032, 0.05880302059557143), (4033, 0.02752512156264902), (4034, 0.0), (4035, 0.012012998046158373), (4036, 0.004609593518836481), (4037, 0.0025744184231081993), (4038, 0.01623986217434223), (4039, 0.003546582054327313), (4040, 0.003506744082182352), (4041, 0.0), (4042, 0.01209367090166662), (4043, 0.004055224309165842), (4044, 0.009673674010301392), (4045, 0.024273060327190232), (4046, 0.0061811220988485325), (4047, 0.004598504670659763), (4048, 0.014405884939863951), (4049, 0.030978966900378775), (4050, 0.02264898290282138), (4051, 0.02262078376235541), (4052, 0.018646683488456404), (4053, 0.03613430535870359), (4054, 0.005002388337936637), (4055, 0.04680889575182291), (4056, 0.015624187804188103), (4057, 0.04691736533539658), (4058, 0.0033802298809043653), (4059, 0.016328545737174016), (4060, 0.017802492458930966), (4061, 0.03469304449833018), (4062, 0.0472796432770784), (4063, 0.022731271272015696), (4064, 0.02748307829954616), (4065, 0.0), (4066, 0.017746433451932244), (4067, 0.0), (4068, 0.026769223962253955), (4069, 0.0019318743764604608), (4070, 0.032041840989020895), (4071, 0.025091577834366992), (4072, 0.0), (4073, 0.013046397260791102), (4074, 0.010396184086284717), (4075, 0.05134898238807059), (4076, 0.014210074673114168), (4077, 0.0162331180579647), (4078, 0.0), (4079, 0.00700723629645036), (4080, 0.0315962366133812), (4081, 0.01418360842805773), (4082, 0.027949991198284004), (4083, 0.00208811904340702), (4084, 0.02112227046703826), (4085, 0.008588269720421877), (4086, 0.02201651446896908), (4087, 0.03511971651331677), (4088, 0.02660011717979689), (4089, 0.019335513842605734), (4090, 0.01807937519551342), (4091, 0.014493290289687613), (4092, 0.006380668958120731), (4093, 0.021379148606999368), (4094, 0.01778412741875334), (4095, 0.02021566357988079), (4096, 0.012819584999041414), (4097, 0.03208153105869665), (4098, 0.005779527234112658), (4099, 0.047744003786567034), (4100, 0.011280365834079412), (4101, 0.015043301557080915), (4102, 0.005990008297627723), (4103, 0.003657914974994249), (4104, 0.008400416281986688), (4105, 0.015576282057278602), (4106, 0.08701663538387555), (4107, 0.0024696910589510094), (4108, 0.01372925339511862), (4109, 0.04221696793748202), (4110, 0.06262466371913578), (4111, 0.005050362597820726), (4112, 0.01197638516044659), (4113, 0.017234267342893017), (4114, 0.011223254478611413), (4115, 0.0036668268036005557), (4116, 0.018313014228049554), (4117, 0.010818341242561539), (4118, 0.03556589450933132), (4119, 0.03308309051097744), (4120, 0.014702851841180364), (4121, 0.030785174926177543), (4122, 0.031938154842826194), (4123, 0.01773592131385318), (4124, 0.024932542109767954), (4125, 0.0028225423803682867), (4126, 0.00232738906774592), (4127, 0.00329871064773357), (4128, 0.005886781476009344), (4129, 0.0019359486238555215), (4130, 0.0021860876763121063), (4131, 0.002908160916352682), (4132, 0.005078049237933043), (4133, 0.01792283101998038), (4134, 0.012102130812449947), (4135, 0.014472202990836323), (4136, 0.016992412727004264), (4137, 0.024708646202698352), (4138, 0.0074924668903179545), (4139, 0.006527390420461977), (4140, 0.012828426930583153), (4141, 0.03516356509863558), (4142, 0.052353739349728194), (4143, 0.010384205194315797), (4144, 0.004001827602244126), (4145, 0.007940261039419694), (4146, 0.007191254740029933), (4147, 0.027360877029078166), (4148, 0.014739436007053828), (4149, 0.027365116294929007), (4150, 0.03471350262357), (4151, 0.0034364322725671907), (4152, 0.023359634324349735), (4153, 0.006400232981244241), (4154, 0.005094857594876464), (4155, 0.02339052871835362), (4156, 0.03646002060535858), (4157, 0.02223689055165546), (4158, 0.03308625011327564), (4159, 0.005537279821395925), (4160, 0.0022424805172699485), (4161, 0.0021517032507501056), (4162, 0.004187558609024196), (4163, 0.0065369717978283615), (4164, 0.046470761827500304), (4165, 0.04692542194823587), (4166, 0.009652940688680611), (4167, 0.0), (4168, 0.0), (4169, 0.02425101395128565), (4170, 0.0), (4171, 0.012340081799968736), (4172, 0.002644153577110877), (4173, 0.009229089131688167), (4174, 0.01857235926261841), (4175, 0.007197656973735287), (4176, 0.04882856646805682), (4177, 0.05036099309586249), (4178, 0.017637630533352492), (4179, 0.0), (4180, 0.0028718194517365838), (4181, 0.0), (4182, 0.016401192712244123), (4183, 0.01336805560237296), (4184, 0.013933321592135672), (4185, 0.0), (4186, 0.04039803987904729), (4187, 0.021635244777361083), (4188, 0.006978367230321687), (4189, 0.05328652607825796), (4190, 0.003241104223579505), (4191, 0.008823421236785041), (4192, 0.045284121727746804), (4193, 0.0033086635294147463), (4194, 0.01169956378815732), (4195, 0.0027159321965304945), (4196, 0.005640631264269448), (4197, 0.015684649259907833), (4198, 0.00987287164574613), (4199, 0.024097672842874174), (4200, 0.003900521747941515), (4201, 0.03421605769747287), (4202, 0.0027966994715050656), (4203, 0.0354805897749282), (4204, 0.003234520246629144), (4205, 0.044555915334724215), (4206, 0.004481246680268116), (4207, 0.01698362288080294), (4208, 0.004552431767913615), (4209, 0.002450874210297626), (4210, 0.025555591419076668), (4211, 0.014171740698378503), (4212, 0.0), (4213, 0.011164429045045181), (4214, 0.0027526788637405285), (4215, 0.0), (4216, 0.07389787590308722), (4217, 0.0687447511907749), (4218, 0.017781076986137408), (4219, 0.00467713251061878), (4220, 0.0017644327955612178), (4221, 0.0026741211286027394), (4222, 0.012710181797814043), (4223, 0.011460858077832129), (4224, 0.0), (4225, 0.011494139890589384), (4226, 0.034991877740903156), (4227, 0.016335105235765923), (4228, 0.001975983295798954), (4229, 0.004601056217472632), (4230, 0.0025627306247112966), (4231, 0.01791837470856488), (4232, 0.018173399226989465), (4233, 0.017575957431965845), (4234, 0.0026510893936621902), (4235, 0.01355812279620067), (4236, 0.016942809421646908), (4237, 0.0024194083757054473), (4238, 0.0), (4239, 0.003754501809874206), (4240, 0.020849246239311125), (4241, 0.009446983482379951), (4242, 0.0465980188033123), (4243, 0.007695206824111799), (4244, 0.01924346679897066), (4245, 0.0021489210688960237), (4246, 0.049740746369424965), (4247, 0.006950922528134506), (4248, 0.0036166821165565847), (4249, 0.005817569096495933), (4250, 0.0), (4251, 0.003730050433937287), (4252, 0.02882630550546987), (4253, 0.0), (4254, 0.004429677008265479), (4255, 0.018086816910255876), (4256, 0.0028838655661940884), (4257, 0.01832258113322567), (4258, 0.002960998391237606), (4259, 0.005240249070912228), (4260, 0.002872322685087451), (4261, 0.008279174377273345), (4262, 0.024261478959131822), (4263, 0.01043819543710506), (4264, 0.010506396390479674), (4265, 0.035878472390389896), (4266, 0.03259966501733702), (4267, 0.11564838747764626), (4268, 0.013106056119176031), (4269, 0.0239744455156557), (4270, 0.0), (4271, 0.01913047712750976), (4272, 0.03702810989133004), (4273, 0.017672024307332918), (4274, 0.015193708853004518), (4275, 0.035195535215943416), (4276, 0.0), (4277, 0.013676847969856284), (4278, 0.0), (4279, 0.009134502235444677), (4280, 0.057335192847173366), (4281, 0.07238082942891962), (4282, 0.05946597081288497), (4283, 0.03753498474756235), (4284, 0.01490465331652339), (4285, 0.0074586678610168225), (4286, 0.008361373789045376), (4287, 0.01589511955914239), (4288, 0.02282602711465892), (4289, 0.019352403818902762), (4290, 0.03238561135304929), (4291, 0.002713773854260825), (4292, 0.012427678295037931), (4293, 0.017716556586588363), (4294, 0.0071932690001891095), (4295, 0.0162543961586266), (4296, 0.0017421650347907028), (4297, 0.019996936190484104), (4298, 0.011070072202171844), (4299, 0.012360450517769574), (4300, 0.02305954377482943), (4301, 0.0014839115539022382), (4302, 0.0), (4303, 0.007584096440083258), (4304, 0.004234151551617762), (4305, 0.002524613881361571), (4306, 0.008356965476608167), (4307, 0.012780374508529188), (4308, 0.005173599453585148), (4309, 0.017003514066416134), (4310, 0.009556255953523277), (4311, 0.007699651362981965), (4312, 0.024434189090408318), (4313, 0.03432531716535045), (4314, 0.02106508009609457), (4315, 0.007962475409500297), (4316, 0.0), (4317, 0.0030816243252641687), (4318, 0.0021134733580035624), (4319, 0.007685170595694409), (4320, 0.0137478743374214), (4321, 0.02617256717535945), (4322, 0.007688983130974879), (4323, 0.002862487957496464), (4324, 0.016005207499807154), (4325, 0.03173054313152959), (4326, 0.0018337264655331744), (4327, 0.017810842608205167), (4328, 0.02124577547793087), (4329, 0.008857012632373016), (4330, 0.011558659285083046), (4331, 0.004190848062853323), (4332, 0.02367458316057312), (4333, 0.02968055827256099), (4334, 0.01733119022022271), (4335, 0.015805969719228), (4336, 0.0069356711785207555), (4337, 0.009791662296990505), (4338, 0.018104488721487025), (4339, 0.012048931039099153), (4340, 0.015658484073213005), (4341, 0.0032236397270555173), (4342, 0.06358560202208335), (4343, 0.0017691140618131922), (4344, 0.043333681972690455), (4345, 0.027710689360755304), (4346, 0.0031528467415985945), (4347, 0.031310571168949544), (4348, 0.017082502307300126), (4349, 0.013870135651037216), (4350, 0.012423104106955902), (4351, 0.02381738566737822), (4352, 0.013231288442276183), (4353, 0.01578634091071367), (4354, 0.009439468901735101), (4355, 0.0021307715727274094), (4356, 0.009882303988092325), (4357, 0.010102235132636125), (4358, 0.002397671936066235), (4359, 0.001826023998039068), (4360, 0.016867510334020352), (4361, 0.015632679332979228), (4362, 0.0055207827090846436), (4363, 0.026811109898309864), (4364, 0.0), (4365, 0.003204567989723164), (4366, 0.03889042430490271), (4367, 0.00765358443519428), (4368, 0.013001437412332194), (4369, 0.007776709244115696), (4370, 0.002902407580291554), (4371, 0.01814565903645456), (4372, 0.013407202600547827), (4373, 0.02963241983478824), (4374, 0.03968769876433456), (4375, 0.015985507106727925), (4376, 0.029178242193249188), (4377, 0.0037337351578716265), (4378, 0.007378755015991853), (4379, 0.04860721388678534), (4380, 0.02641530084101747), (4381, 0.006553109798955181), (4382, 0.02547943822766031), (4383, 0.01263172605915135), (4384, 0.020026276793069193), (4385, 0.004508846229528329), (4386, 0.0017249928115150048), (4387, 0.025692771800544405), (4388, 0.04403802850027865), (4389, 0.004122170522681935), (4390, 0.011596029592293557), (4391, 0.002021288465006866), (4392, 0.01617214456572275), (4393, 0.0), (4394, 0.014160106325825147), (4395, 0.03492710171498949), (4396, 0.002237718408377038), (4397, 0.002225955830036063), (4398, 0.016299271652381295), (4399, 0.04255329153116219), (4400, 0.0025496673603267275), (4401, 0.0022346400508373603), (4402, 0.019509404344469128), (4403, 0.048245791180586056), (4404, 0.002776454398256473), (4405, 0.0), (4406, 0.017532551728469296), (4407, 0.010344453962265111), (4408, 0.008977077805784727), (4409, 0.0019882598701551077), (4410, 0.0), (4411, 0.011807813223179194), (4412, 0.0066048198830476156), (4413, 0.002946646292835394), (4414, 0.0072393405852106615), (4415, 0.0), (4416, 0.0023543037481391755), (4417, 0.0), (4418, 0.015128549105331672), (4419, 0.009406935205892628), (4420, 0.02369417109433846), (4421, 0.06629908351125632), (4422, 0.009793635978243464), (4423, 0.0025935687600320573), (4424, 0.0), (4425, 0.0), (4426, 0.020802058426226254), (4427, 0.007899572684161572), (4428, 0.010969427215982085), (4429, 0.001736597931335815), (4430, 0.00590327523236915), (4431, 0.04094192007101123), (4432, 0.004935070145652005), (4433, 0.0028352834129527506), (4434, 0.002603295091355621), (4435, 0.029996290836966706), (4436, 0.04753999334626457), (4437, 0.016929344518392446), (4438, 0.0358552963475898), (4439, 0.0), (4440, 0.04389858528302663), (4441, 0.0263585695891006), (4442, 0.03796214884111687), (4443, 0.006907065309383792), (4444, 0.01989864593439923), (4445, 0.034364763168988385), (4446, 0.019464093433901524), (4447, 0.01438658980696799), (4448, 0.014902458743736404), (4449, 0.011207936886364745), (4450, 0.050271968217189045), (4451, 0.0032063727195058445), (4452, 0.013196420301483288), (4453, 0.01087613084060482), (4454, 0.022258042288267457), (4455, 0.0), (4456, 0.0), (4457, 0.002707566787376683), (4458, 0.008061801019333683), (4459, 0.08394197163532569), (4460, 0.060480790029866734), (4461, 0.0019254648633407014), (4462, 0.03814526432583925), (4463, 0.008299448933026513), (4464, 0.01600531512173976), (4465, 0.03591987641155327), (4466, 0.033026132609880056), (4467, 0.03171709807483931), (4468, 0.01614929742471416), (4469, 0.016441578679645893), (4470, 0.013054035255589179), (4471, 0.009568745787963736), (4472, 0.016878304401644874), (4473, 0.017573857662741898), (4474, 0.017686340921626548), (4475, 0.03945844023674506), (4476, 0.04103839801399572), (4477, 0.02653332550195836), (4478, 0.01404810559584399), (4479, 0.03668772076689933), (4480, 0.0038263789288993885), (4481, 0.023264606077177022), (4482, 0.028446316551464606), (4483, 0.0089193723408478), (4484, 0.006289996810571431), (4485, 0.0), (4486, 0.04496156686098387), (4487, 0.0019705133880503207), (4488, 0.010913125313559934), (4489, 0.005003535337191443), (4490, 0.013693477381584641), (4491, 0.0), (4492, 0.04047421857074539), (4493, 0.009692244063912104), (4494, 0.006369653515850268), (4495, 0.016216491309693357), (4496, 0.029888982486468322), (4497, 0.014465538262366998), (4498, 0.008354732395418143), (4499, 0.014732704335031837), (4500, 0.0), (4501, 0.009116468069421155), (4502, 0.03558867291045101), (4503, 0.03253303858116176), (4504, 0.0332556450935079), (4505, 0.002117091472359077), (4506, 0.0032445451531151874), (4507, 0.023765413509989224), (4508, 0.010435221134814257), (4509, 0.0), (4510, 0.05082914404322966), (4511, 0.016642379198194168), (4512, 0.01658011113656527), (4513, 0.003009591348540188), (4514, 0.01344468587587929), (4515, 0.021252412699939716), (4516, 0.010347166410767399), (4517, 0.005672424270923173), (4518, 0.004416595476430105), (4519, 0.002180214250403711), (4520, 0.001979962215130511), (4521, 0.00249648566997528), (4522, 0.009106052872657632), (4523, 0.0731411745298645), (4524, 0.02192233373505794), (4525, 0.018927703640758353), (4526, 0.0), (4527, 0.004183325100584489), (4528, 0.0021721011451215815), (4529, 0.0026817145101070204), (4530, 0.004613853726812958), (4531, 0.04533466202007138), (4532, 0.0), (4533, 0.022117869133300078), (4534, 0.026451262630471914), (4535, 0.01009965101452032), (4536, 0.013168063700159088), (4537, 0.008273427020418679), (4538, 0.0), (4539, 0.02146906462383258), (4540, 0.0021490976517217378), (4541, 0.015602017805611684), (4542, 0.03993750363568065), (4543, 0.014252830180412592), (4544, 0.0024950810308489776), (4545, 0.0021644117739651335), (4546, 0.007288114163786757), (4547, 0.0), (4548, 0.025058048295036037), (4549, 0.010596500145362337), (4550, 0.011199177889582355), (4551, 0.03570574238981679), (4552, 0.006587984539523976), (4553, 0.012938782232254885), (4554, 0.05142769215165402), (4555, 0.03055873102775772), (4556, 0.03290593557238862), (4557, 0.014719788598790784), (4558, 0.02163555016579923), (4559, 0.0), (4560, 0.0028900402730772713), (4561, 0.0), (4562, 0.0033760288166051677), (4563, 0.009252871907530068), (4564, 0.050151268599949055), (4565, 0.009888710447103054), (4566, 0.007125673308432182), (4567, 0.03818460806118193), (4568, 0.02442119849747746), (4569, 0.005546292691371147), (4570, 0.0032485768455589622), (4571, 0.0074964938550686555), (4572, 0.0024546986737813406), (4573, 0.001938920978682411), (4574, 0.008467745190625868), (4575, 0.014583240074070988), (4576, 0.0395521913441282), (4577, 0.025111001439806654), (4578, 0.0), (4579, 0.006077403896662876), (4580, 0.008343606178843596), (4581, 0.01126305037231858), (4582, 0.0032452556633509036), (4583, 0.02591212499149869), (4584, 0.01827076864632712), (4585, 0.015699452724967648), (4586, 0.003788447484234846), (4587, 0.014729746823296508), (4588, 0.006801869598890635), (4589, 0.024701757666329455), (4590, 0.025181751750950634), (4591, 0.03826343784485085), (4592, 0.039229772357325575), (4593, 0.006269633861261914), (4594, 0.01921297823447444), (4595, 0.003936779127239178), (4596, 0.028364728388668155), (4597, 0.0), (4598, 0.00620440905548956), (4599, 0.011693950613473433), (4600, 0.023723379573419766), (4601, 0.006171391172887069), (4602, 0.009900177043536351), (4603, 0.009232854203036583), (4604, 0.01161461624357659), (4605, 0.021865754314961107), (4606, 0.0025321110861855306), (4607, 0.02181899877643132), (4608, 0.0017748899848137839), (4609, 0.009807881325665154), (4610, 0.029890172373546284), (4611, 0.02301863926669795), (4612, 0.01891066829890347), (4613, 0.010111986846242997), (4614, 0.04107712074940997), (4615, 0.008717957214178451), (4616, 0.0018475939142960035), (4617, 0.017997651026997102), (4618, 0.012502348590682227), (4619, 0.027450043191398342), (4620, 0.0018274547583925578), (4621, 0.0137835024384838), (4622, 0.0028846662086304386), (4623, 0.0427408837680066), (4624, 0.0372692080639228), (4625, 0.007018519585580529), (4626, 0.001617057755980135), (4627, 0.014435334926085494), (4628, 0.03467003166814672), (4629, 0.023173209189331332), (4630, 0.019265259420119196), (4631, 0.0033001261721345328), (4632, 0.00796911794283446), (4633, 0.005544306884205952), (4634, 0.01077949405549591), (4635, 0.013586692224791542), (4636, 0.0039784120966489785), (4637, 0.01993183589156587), (4638, 0.008889607408218862), (4639, 0.009989425918728301), (4640, 0.025873261177682957), (4641, 0.001953849237069678), (4642, 0.017037503207200343), (4643, 0.026168407675463225), (4644, 0.0), (4645, 0.018091079525956483), (4646, 0.025772456073037048), (4647, 0.05925481515290244), (4648, 0.0028105135681964436), (4649, 0.015366509882255948), (4650, 0.020448036022946783), (4651, 0.0), (4652, 0.025805859337676262), (4653, 0.020373756442483), (4654, 0.0), (4655, 0.0028765057267548175), (4656, 0.012033161599086368), (4657, 0.007269902442783355), (4658, 0.03949552485853202), (4659, 0.016683682052958435), (4660, 0.018731669010281247), (4661, 0.004997889915103134), (4662, 0.028013849663136678), (4663, 0.018605327970949537), (4664, 0.0067159947053474925), (4665, 0.018046679362885128), (4666, 0.004925544503928695), (4667, 0.0025413946317211903), (4668, 0.001970761976117738), (4669, 0.040691923403982436), (4670, 0.005400961435072765), (4671, 0.0), (4672, 0.0), (4673, 0.02938414811796201), (4674, 0.019872461930640586), (4675, 0.0104233778037344), (4676, 0.01172143316391233), (4677, 0.005698822164247144), (4678, 0.049222779327746095), (4679, 0.046568275941815465), (4680, 0.002138487188672376), (4681, 0.0), (4682, 0.07501110131328864), (4683, 0.0), (4684, 0.0426162095371881), (4685, 0.016427623070370947), (4686, 0.01162264610569965), (4687, 0.05164010859815765), (4688, 0.019061385280230665), (4689, 0.018444632073277425), (4690, 0.0025485552667598933), (4691, 0.004928018404022722), (4692, 0.002496658905766542), (4693, 0.0019428322229486838), (4694, 0.0023500499720245675), (4695, 0.026762388970487626), (4696, 0.002620284451414598), (4697, 0.003381869356640299), (4698, 0.004389520965473676), (4699, 0.060445695344397206), (4700, 0.0036796616967557792), (4701, 0.021147648245369723), (4702, 0.007592534336745517), (4703, 0.0038994116721982864), (4704, 0.023592116174599907), (4705, 0.002859612708645261), (4706, 0.017238622843446898), (4707, 0.01249859043125071), (4708, 0.02110411121702903), (4709, 0.020113315908385988), (4710, 0.0071269668006330306), (4711, 0.003207437470151613), (4712, 0.0060892537389591736), (4713, 0.007824942606192663), (4714, 0.0), (4715, 0.005652865133143191), (4716, 0.0), (4717, 0.01613801217686715), (4718, 0.0075810412330652634), (4719, 0.018355085731786527), (4720, 0.003298448981986077), (4721, 0.02249699771942912), (4722, 0.04576810950726522), (4723, 0.0024454469802012413), (4724, 0.020706294728153732), (4725, 0.0105299700011184), (4726, 0.00422502037275791), (4727, 0.0195327350614621), (4728, 0.0), (4729, 0.0019211938985950212), (4730, 0.012863933479426456), (4731, 0.033359148041814855), (4732, 0.047125778015365695), (4733, 0.0105647260459843), (4734, 0.005098351976418215), (4735, 0.019876931768567675), (4736, 0.0), (4737, 0.003081350274471631), (4738, 0.012651619100682595), (4739, 0.04944652293528129), (4740, 0.0), (4741, 0.005423518384844172), (4742, 0.019708917872378738), (4743, 0.02936774368019316), (4744, 0.003824403473804497), (4745, 0.0), (4746, 0.007208869414830399), (4747, 0.01702981486336248), (4748, 0.043504415892666785), (4749, 0.002684194402909888), (4750, 0.0), (4751, 0.0), (4752, 0.012507126318272537), (4753, 0.0022806583233494363), (4754, 0.0), (4755, 0.009610076345804235), (4756, 0.05655567678506648), (4757, 0.03799194111934441), (4758, 0.0), (4759, 0.0)]\n"
          ]
        }
      ]
    },
    {
      "cell_type": "code",
      "source": [
        "len(Recommendation_score)"
      ],
      "metadata": {
        "colab": {
          "base_uri": "https://localhost:8080/"
        },
        "id": "8TK6Hckxjb9A",
        "outputId": "4a20547a-a5d5-4e9d-fdf4-427b04592a2f"
      },
      "execution_count": 320,
      "outputs": [
        {
          "output_type": "execute_result",
          "data": {
            "text/plain": [
              "4760"
            ]
          },
          "metadata": {},
          "execution_count": 320
        }
      ]
    },
    {
      "cell_type": "markdown",
      "source": [
        "Get All Movies Sort Based on Recommendation Score wrt Favourite Movie"
      ],
      "metadata": {
        "id": "a0B6Fjt3joyn"
      }
    },
    {
      "cell_type": "code",
      "source": [
        "#sorting the nmovies based on their similarity score\n",
        "sorted_similar_movies=sorted(Recommendation_score,key=lambda x:x[1],reverse=True)\n",
        "print(sorted_similar_movies)"
      ],
      "metadata": {
        "colab": {
          "base_uri": "https://localhost:8080/"
        },
        "id": "Na9_XqR5kBgZ",
        "outputId": "9636e806-b27d-4146-9bed-c10817ce9004"
      },
      "execution_count": 321,
      "outputs": [
        {
          "output_type": "stream",
          "name": "stdout",
          "text": [
            "[(1506, 1.0), (2070, 0.19759493731357083), (402, 0.14046525251342057), (2844, 0.13157161313640975), (0, 0.13141165719938272), (1456, 0.12905129605996066), (3153, 0.1273756922417541), (1774, 0.12606343404867937), (1818, 0.125798090225945), (1881, 0.12290948247949035), (2841, 0.11816167318627804), (1383, 0.11808861630026388), (4267, 0.11564838747764626), (609, 0.11256068371068832), (1162, 0.11243462820786196), (1477, 0.10827974863155448), (2210, 0.10777835106254761), (653, 0.10752303594044255), (1513, 0.10373360717973977), (856, 0.10184072567058591), (2012, 0.10121544589429993), (2910, 0.10064032367343352), (1925, 0.09974826753791982), (3959, 0.0985630952798082), (3711, 0.09823468028793132), (2795, 0.09775949233906918), (372, 0.09765460715353055), (2598, 0.09701812117019847), (227, 0.09678939829992915), (2293, 0.09672132651155814), (3515, 0.09637486107903839), (1983, 0.09543361922333254), (86, 0.09456182976454226), (2867, 0.0944157796158582), (692, 0.09399297759889386), (520, 0.09316600396768472), (569, 0.09244984594065389), (3906, 0.09194246551406346), (757, 0.09177484495183302), (1509, 0.09080579795221196), (1685, 0.09061649873731126), (3612, 0.09017435541532637), (3483, 0.08994136467981276), (1538, 0.08952509455319672), (1194, 0.08945761681239013), (3108, 0.0889298780228385), (1754, 0.08809472591738035), (2992, 0.08784407822050101), (3407, 0.0876327275922092), (124, 0.08740901728786943), (3133, 0.08737998162523039), (696, 0.08727259036960305), (4106, 0.08701663538387555), (43, 0.08684809668888269), (170, 0.08636390589789526), (2744, 0.0860369712808507), (3288, 0.08569632726090116), (288, 0.08567018023751692), (3464, 0.0842379120367919), (1512, 0.08403131665903711), (4459, 0.08394197163532569), (2143, 0.08303685094980763), (2047, 0.08216120595033852), (736, 0.0820459099769374), (2550, 0.08185594657609079), (2734, 0.08055893310684079), (2908, 0.08020734225805692), (1425, 0.0796498761495589), (3051, 0.07941200163912969), (3777, 0.07931056023159727), (10, 0.07926796520621249), (1803, 0.07907946944020297), (422, 0.07880940163663401), (1923, 0.0776991226490294), (1764, 0.07762447165943126), (3377, 0.0774172520831442), (1787, 0.07653136255719986), (2798, 0.07634694366514364), (207, 0.0761734026694587), (1665, 0.07598720709576588), (4682, 0.07501110131328864), (946, 0.0748078917120412), (1173, 0.07448364183674087), (2773, 0.07417921206250454), (1971, 0.07411796519685535), (2130, 0.07395440355898587), (3633, 0.073904986623186), (4216, 0.07389787590308722), (496, 0.07366916698722416), (287, 0.07346077363030931), (3344, 0.07325005456615669), (4523, 0.0731411745298645), (2742, 0.0729571581667022), (1784, 0.07288588627978355), (3149, 0.07271960872825924), (2612, 0.07252401114396341), (4281, 0.07238082942891962), (3903, 0.07221927256610647), (108, 0.07219034568528608), (2203, 0.07204671133848012), (2285, 0.07194626458553179), (3, 0.07191585463890196), (1543, 0.0718365576001951), (3318, 0.07144062191902581), (554, 0.07124531790702646), (89, 0.07114029964817464), (1970, 0.07110098855514799), (2924, 0.07106755041165883), (500, 0.07103377566324663), (282, 0.07083036584260587), (1366, 0.07074454673171815), (3456, 0.07074242353664413), (3187, 0.07046987071581348), (2560, 0.07027134283420411), (1331, 0.07022076990202313), (2602, 0.07020320138522468), (670, 0.06986756818361156), (501, 0.06974076357106528), (808, 0.0693942311879534), (2892, 0.06939390019062465), (3642, 0.06924808181479904), (1678, 0.06911483707957623), (2193, 0.0691103361612672), (1411, 0.06881883292725839), (4217, 0.0687447511907749), (4012, 0.06867629855439467), (2185, 0.06831421848465527), (3518, 0.0682851090911833), (88, 0.0681991813505132), (751, 0.06804538864741486), (851, 0.06803789058276523), (3371, 0.06773756450906446), (1234, 0.0675338859686215), (2239, 0.06751868609432042), (467, 0.06749031069635023), (1796, 0.06729575485891479), (2874, 0.06724786734263946), (511, 0.06719957258580406), (408, 0.0670488416934675), (1919, 0.0670073340806227), (1002, 0.06693598573749641), (1675, 0.06659625549124215), (2412, 0.06658980580747711), (4421, 0.06629908351125632), (3045, 0.06623068135269464), (1203, 0.06622182958721641), (2649, 0.06611930856875309), (1270, 0.06576778025965516), (1077, 0.06527318975949806), (3741, 0.06503873772371349), (555, 0.06462367830088148), (2739, 0.06452685638895274), (891, 0.06438746932455193), (789, 0.06433277672978226), (3109, 0.06417870793617109), (669, 0.06402290097672159), (3420, 0.06399266927624107), (793, 0.06395346281208329), (875, 0.06392518542190731), (2831, 0.06372942405734834), (2216, 0.06366937898033932), (4342, 0.06358560202208335), (866, 0.06356532519578631), (629, 0.0635568795352211), (545, 0.06352178356607496), (3447, 0.06344833425925897), (2167, 0.06324936666420804), (643, 0.0632345112012298), (1329, 0.06317710445733617), (864, 0.0631702129657662), (638, 0.06297989154375297), (2007, 0.06289851640635334), (3573, 0.06277110029182204), (4110, 0.06262466371913578), (342, 0.06253526995833372), (212, 0.06252801798453235), (3477, 0.06245998686845172), (3718, 0.06241079525320542), (869, 0.06240846214479183), (3018, 0.06221346857563882), (2276, 0.062123719193551655), (334, 0.06200643359335393), (1707, 0.06194199881954188), (1294, 0.06191650896926377), (3295, 0.06182469007992991), (1090, 0.06178304011348978), (1788, 0.061390938787802676), (597, 0.06131817721750889), (1624, 0.06119342553481158), (4004, 0.06104779731571126), (3294, 0.06094837861084146), (2884, 0.06078122082172491), (1945, 0.06064386021266256), (4460, 0.060480790029866734), (3127, 0.06045122484271014), (2625, 0.06044910389185682), (4699, 0.060445695344397206), (3216, 0.060184112092015), (938, 0.06010259963624533), (1871, 0.060100179225165834), (1087, 0.060042044270400705), (742, 0.05998794372679255), (2469, 0.05995881854509138), (1867, 0.05984043824995852), (697, 0.059770331074360306), (2158, 0.05970448349609399), (407, 0.0596097717684167), (1527, 0.059513064750455494), (4282, 0.05946597081288497), (874, 0.05927770482250432), (2582, 0.059267438064375046), (4647, 0.05925481515290244), (4007, 0.059201316184157984), (1115, 0.05905810536471026), (434, 0.05905376942229628), (3458, 0.058976429740052766), (918, 0.058946615641307855), (1276, 0.058903231394852484), (1907, 0.05882150476306388), (4032, 0.05880302059557143), (662, 0.058588586041568115), (1306, 0.05848260566243067), (4025, 0.05841702372780085), (1365, 0.05832814063730217), (1992, 0.05813286602186109), (317, 0.05807887726681165), (623, 0.058051356938911336), (3469, 0.057979651399388224), (3246, 0.05792681654911205), (111, 0.057894507773531854), (2487, 0.05760038707495471), (1500, 0.05749552447289306), (2650, 0.05738932053243126), (4280, 0.057335192847173366), (1297, 0.0573304188772462), (1682, 0.0572997530412785), (2622, 0.057259556966884916), (2581, 0.05714692602373611), (75, 0.05706559234361712), (3241, 0.05702264476628668), (2944, 0.056991827042123605), (2865, 0.05695691209747556), (2878, 0.05683629212327838), (144, 0.05683182813782485), (1384, 0.05668912813137698), (530, 0.056562381342918445), (4756, 0.05655567678506648), (788, 0.056409910759875344), (1503, 0.05639027794873884), (657, 0.056363827196070804), (3351, 0.056337801523782316), (3424, 0.056318116339955746), (2732, 0.05630776128394245), (168, 0.0562768771285761), (2112, 0.05626681315150989), (417, 0.05625856439120415), (1106, 0.0561606060149588), (622, 0.05613953794084056), (3450, 0.056104175254148306), (2023, 0.056046710250474474), (620, 0.056027017947272675), (3599, 0.05591516929537223), (3205, 0.05578624742696947), (683, 0.055784542947809164), (48, 0.055718797363427414), (1579, 0.05568201731807905), (2668, 0.05567272916780742), (3665, 0.05544889659032127), (2224, 0.05540876386525014), (1367, 0.055393134109479485), (801, 0.055338704499144395), (1058, 0.0552835425393086), (2695, 0.05503728773674598), (706, 0.05490816322417965), (1464, 0.05489631266891173), (936, 0.05485356193374241), (2037, 0.054763563378396544), (2351, 0.05463111262615394), (896, 0.05438943363164113), (175, 0.05433826957369475), (3317, 0.054228119638983475), (328, 0.05421504939574827), (2114, 0.05419943521966217), (3655, 0.0541069328848755), (1777, 0.05392290541670495), (510, 0.053823478141445995), (2111, 0.053816568582671406), (3297, 0.0538054784601547), (2988, 0.05378592558945841), (49, 0.05371021003833989), (2538, 0.053642441742781204), (2498, 0.05342997507473116), (2032, 0.05338111063233246), (269, 0.053351706467626894), (2691, 0.05333506719882293), (4189, 0.05328652607825796), (3238, 0.05324738053051142), (1146, 0.053085836139268025), (846, 0.05304894032973572), (902, 0.05303169511742178), (908, 0.052946630788134955), (1660, 0.05275809564897983), (515, 0.052682029983482134), (2072, 0.05264807987295861), (2074, 0.052613785461190964), (1523, 0.05260509932932469), (3039, 0.052537980251403736), (4142, 0.052353739349728194), (890, 0.05232372910016908), (266, 0.052286349088165054), (261, 0.05217568916456384), (2161, 0.05207827827410731), (3023, 0.05199115274312725), (4687, 0.05164010859815765), (131, 0.0516168337716907), (60, 0.05153916810850949), (2006, 0.0515128734241981), (4554, 0.05142769215165402), (4075, 0.05134898238807059), (2008, 0.0513172557304136), (566, 0.05128213910332091), (2221, 0.051180729067782184), (412, 0.051143396857261055), (1997, 0.051129937629516384), (3586, 0.05102648216868253), (2250, 0.05099985385397962), (1404, 0.05095310549920258), (895, 0.05093437384776394), (1630, 0.05090569229145638), (2644, 0.05089451664916158), (2512, 0.05083311613519166), (4510, 0.05082914404322966), (222, 0.050768494035053596), (1973, 0.050760185842001065), (1382, 0.05062372743795416), (1305, 0.050448993888766), (109, 0.05040045571110952), (262, 0.050396648099522705), (4177, 0.05036099309586249), (3588, 0.05033524477231286), (4450, 0.050271968217189045), (4564, 0.050151268599949055), (2706, 0.049980319349148004), (2777, 0.04988135322710094), (724, 0.04981681041585194), (2000, 0.04978260269141722), (4246, 0.049740746369424965), (3181, 0.049740563578599496), (1561, 0.04973961261213862), (2133, 0.04969507143544295), (3259, 0.04966208626635802), (1480, 0.049628752613430124), (1047, 0.04962638179996207), (1845, 0.04961666733378111), (345, 0.049490067178021444), (1851, 0.04946054908528422), (4739, 0.04944652293528129), (1170, 0.049391257112897165), (684, 0.0493439040025981), (2055, 0.04926614385493064), (4678, 0.049222779327746095), (3739, 0.04912140291565949), (762, 0.04901034058898686), (934, 0.04900268834480635), (1914, 0.04893780797111032), (2234, 0.04891249048482771), (2931, 0.048865449058155284), (4176, 0.04882856646805682), (1614, 0.04879477523375496), (475, 0.04872176152703285), (1572, 0.04868768154811698), (4379, 0.04860721388678534), (2595, 0.04860086170558469), (3668, 0.04845773571254004), (3875, 0.048453426390113186), (3747, 0.04843906981060212), (3751, 0.048388435583999724), (4403, 0.048245791180586056), (2474, 0.04818808231495316), (2513, 0.048174384266710724), (969, 0.0481464951102692), (2287, 0.04814624303843617), (3517, 0.048108399366741016), (2981, 0.04809153235627946), (967, 0.04808217325508855), (2805, 0.04804372441155868), (1727, 0.0480180638516245), (66, 0.04801399493980012), (2779, 0.047927373806962166), (741, 0.04780075467690254), (1412, 0.04775321701856611), (4099, 0.047744003786567034), (2876, 0.047712350553417104), (322, 0.047681782324506844), (3644, 0.04767627643751312), (180, 0.04767065298833942), (1284, 0.04756037778417245), (2525, 0.0475542853859854), (4436, 0.04753999334626457), (3154, 0.047434372721447654), (2603, 0.047367031696854404), (1797, 0.04735301901451393), (1046, 0.04733630087649347), (4062, 0.0472796432770784), (1310, 0.04725435478751938), (2321, 0.0472496157752327), (2294, 0.04724221026849427), (853, 0.04724075425687781), (1698, 0.04714416615037669), (883, 0.047128085387835555), (4732, 0.047125778015365695), (2188, 0.047030012013027235), (3976, 0.046943325061830785), (1873, 0.04692945530434077), (4165, 0.04692542194823587), (1648, 0.04691826379286814), (4057, 0.04691736533539658), (1149, 0.04681015022194351), (4055, 0.04680889575182291), (1071, 0.04679130902104931), (3397, 0.04678210058984948), (1721, 0.04674427732088133), (1063, 0.04674281401260279), (1714, 0.046654828095102074), (4242, 0.0465980188033123), (4679, 0.046568275941815465), (3036, 0.046522271720681005), (4164, 0.046470761827500304), (3095, 0.046447922640632834), (1599, 0.04641167418187772), (911, 0.04637770691801857), (1009, 0.04633715166549034), (2963, 0.046336694005739844), (3285, 0.04630024930777524), (727, 0.04621120237441236), (418, 0.046163011553464126), (1259, 0.04613610790934265), (3312, 0.04601637526321523), (829, 0.04600495636711429), (3011, 0.04594355331047484), (666, 0.045914481189867254), (767, 0.04589842338992896), (2696, 0.045890159140794834), (2177, 0.04582133556866856), (1557, 0.04579295610107457), (4722, 0.04576810950726522), (787, 0.04575918196695575), (1133, 0.04574108427979131), (2304, 0.04573606477587548), (2647, 0.04569679921842906), (2534, 0.04569399169061472), (3462, 0.04568998275801587), (1802, 0.04567916504602243), (110, 0.04562461351826895), (1216, 0.045556626856268635), (818, 0.0455155180246059), (3328, 0.04550064657571301), (2154, 0.04549577493628062), (1472, 0.045485242118395455), (403, 0.04542319482301175), (3403, 0.04540034064154986), (3237, 0.045379502375712887), (2519, 0.045377963401102145), (677, 0.04537751540050935), (3794, 0.04534224821868042), (4531, 0.04533466202007138), (1111, 0.04530376935038575), (3801, 0.0452923611926475), (4192, 0.045284121727746804), (3010, 0.04523634962859288), (469, 0.04520651128278817), (3091, 0.04514764409711323), (2584, 0.04513430607307079), (37, 0.04512122978889383), (3891, 0.04508046068893386), (2029, 0.04501368443266643), (4486, 0.04496156686098387), (3814, 0.04491574441678783), (4000, 0.04490988240858587), (52, 0.044866736198712426), (2302, 0.044838623484803275), (3961, 0.0448376465942885), (768, 0.04479243602427027), (7, 0.04470153240148957), (3463, 0.04465608123810601), (142, 0.04462645850271085), (1199, 0.044621079998615934), (3972, 0.04461117555795003), (424, 0.044575357277830546), (3492, 0.044574633355501055), (3382, 0.04456902943208736), (1101, 0.04456825837465306), (4205, 0.044555915334724215), (3520, 0.04453402928288652), (739, 0.04452881110174422), (887, 0.04452547057013142), (2791, 0.044489200954675484), (847, 0.04445544920863293), (2463, 0.044441450588673895), (2751, 0.04442920294281731), (3626, 0.044371636585018345), (57, 0.044358475175455554), (2334, 0.04431706962204334), (1344, 0.04430094551322482), (3731, 0.04429701028924243), (159, 0.04429114994410151), (1859, 0.04428776300008316), (354, 0.04426508739902763), (1128, 0.044240643128992785), (2209, 0.04422535382283412), (3022, 0.04422162513307397), (1701, 0.044201671442076124), (822, 0.04418906484543315), (1247, 0.04414833829482252), (4388, 0.04403802850027865), (255, 0.04403562296169673), (3096, 0.04400833511966828), (2729, 0.04399098667500748), (1248, 0.04397311876521041), (1044, 0.043924745130285756), (1335, 0.04390942597067142), (4440, 0.04389858528302663), (166, 0.0438169548968902), (845, 0.04381648632515852), (112, 0.04378355336584154), (162, 0.04373083598624069), (983, 0.043705898695583056), (1530, 0.043671587447539954), (3129, 0.04366299433089348), (3229, 0.04354177574371818), (4748, 0.043504415892666785), (675, 0.04350204461383436), (2660, 0.04348471452299943), (1314, 0.04348034533108976), (305, 0.043454715801800714), (3579, 0.043437544417795355), (9, 0.043418362736888164), (1377, 0.04341698826173986), (561, 0.04339571379895152), (3939, 0.04339390313961445), (3428, 0.043364080157829055), (3221, 0.04333575548903277), (4344, 0.043333681972690455), (2269, 0.043289729700806745), (1188, 0.04318175605995276), (2808, 0.043082449980854184), (3303, 0.04297415253774056), (2645, 0.04294932475379242), (1935, 0.04291718761306861), (344, 0.04290492024151181), (3829, 0.04288429188242838), (2912, 0.04281744940636402), (1136, 0.04280984359014998), (2031, 0.04280399772947386), (483, 0.04279658533930252), (2196, 0.04278495307337692), (1677, 0.04277371256230474), (2975, 0.04276063083881183), (2771, 0.04274725716079894), (4623, 0.0427408837680066), (1134, 0.04273819832781308), (935, 0.042716773477201486), (1043, 0.042713560168985226), (3437, 0.04264521389812591), (4684, 0.0426162095371881), (4399, 0.04255329153116219), (1033, 0.042549403682163214), (2825, 0.04247060565391869), (249, 0.042430364586424005), (1605, 0.04242389921331901), (723, 0.042367590349940094), (2621, 0.042318139533256915), (191, 0.04228618790364528), (2692, 0.042282530621225375), (1915, 0.0422603249541956), (4109, 0.04221696793748202), (2178, 0.04221190987432741), (484, 0.04218100868422603), (31, 0.04216066685653616), (1965, 0.04214855128593481), (2406, 0.04210497052284266), (2938, 0.042060557592153366), (447, 0.04201115036334026), (1039, 0.04197989746350967), (2510, 0.041902877457704275), (2712, 0.04187035593413816), (1064, 0.041858938614635105), (1351, 0.04185314379941811), (963, 0.04177553564014558), (1552, 0.04176551419531772), (363, 0.041746978515884256), (2610, 0.04174411513549092), (763, 0.04166649864248216), (1278, 0.04164395200905551), (2720, 0.04154525847294932), (2318, 0.04148258655672281), (3082, 0.04142303771738511), (689, 0.04140895210845571), (1443, 0.041399485574914276), (3684, 0.04129646767939349), (1883, 0.04128225017539894), (2820, 0.04127388607777542), (3568, 0.041241681913169424), (3570, 0.04122942059777193), (398, 0.04121280189464445), (284, 0.04118938039699331), (813, 0.04117728426700498), (4614, 0.04107712074940997), (1029, 0.04107213101265136), (4476, 0.04103839801399572), (1076, 0.041030696589509655), (3858, 0.04102611961964891), (2765, 0.04094875885777449), (1082, 0.04094470280784475), (4431, 0.04094192007101123), (3375, 0.04081388883950212), (2653, 0.04079732154486112), (802, 0.040746861433903186), (2485, 0.04073867256537213), (4669, 0.040691923403982436), (3228, 0.04066752077433215), (3819, 0.04065362955247425), (852, 0.04059635383950229), (3142, 0.040561413419474515), (1705, 0.040543492810677054), (3389, 0.04054184248462683), (1676, 0.04052459606164844), (214, 0.04050132603800427), (4492, 0.04047421857074539), (737, 0.040465097577439935), (1958, 0.040461038933408716), (2807, 0.040457969125564895), (3765, 0.04045233215618761), (3063, 0.04043126355216775), (1257, 0.04041317790527234), (1820, 0.040403141246658815), (4186, 0.04039803987904729), (588, 0.040378911282320976), (3866, 0.04034665669909581), (3556, 0.04034186384584782), (3610, 0.0403348492063956), (733, 0.040293182276208275), (44, 0.04023273602458272), (1254, 0.04018586694222938), (1671, 0.0401766326644164), (1715, 0.04015669596832485), (904, 0.040129523276899316), (688, 0.04007665079342214), (2160, 0.040048801982381844), (1762, 0.040044095656733336), (1420, 0.04002891344303138), (3835, 0.04002536613648102), (1950, 0.04000863084388668), (105, 0.04000748717248049), (2229, 0.03993838754588908), (4542, 0.03993750363568065), (177, 0.03992294880013731), (2745, 0.039904550272759125), (325, 0.03989766454037481), (916, 0.03988644905791078), (1104, 0.03988144155162384), (2191, 0.0398710042302597), (63, 0.039786632621509645), (3457, 0.039743409456573064), (3218, 0.03969650075781721), (4374, 0.03968769876433456), (2730, 0.03968409973348758), (2531, 0.039683476840955606), (2523, 0.03967464780997596), (2553, 0.039665936975843384), (632, 0.0396549201071079), (4576, 0.0395521913441282), (1471, 0.03951457483347839), (2175, 0.039509687941898755), (2996, 0.03950964006345264), (4658, 0.03949552485853202), (343, 0.03947400412332986), (4475, 0.03945844023674506), (3137, 0.039436221614179284), (3345, 0.039358893227966735), (1005, 0.039356596845962974), (290, 0.03932816926444825), (3736, 0.039289456749477855), (865, 0.039259794826324024), (2040, 0.0392398138579984), (4592, 0.039229772357325575), (738, 0.03920029950211411), (3086, 0.03915617283784759), (3958, 0.039153762630653816), (1615, 0.03910771831658551), (1018, 0.03906601130133428), (2497, 0.03903878779254843), (1239, 0.03902016999462318), (1767, 0.03898742389520836), (1252, 0.03895301418550868), (196, 0.03892134365583159), (4366, 0.03889042430490271), (1586, 0.03888421120516931), (3705, 0.038881264669072615), (368, 0.03886501294060826), (2477, 0.038835708119011526), (3085, 0.0388307696212225), (1137, 0.038812028382341), (2816, 0.038779274118768865), (51, 0.03874547006856869), (1192, 0.038709540976286545), (2480, 0.03870463657738184), (67, 0.038679466930334985), (2814, 0.03859837843357744), (1858, 0.03859725831995974), (280, 0.03858928070722865), (1068, 0.038504253908242525), (3390, 0.038491846067624444), (1195, 0.03837924407324868), (2235, 0.03837353491061275), (35, 0.03836866917533109), (1245, 0.03832217866481832), (1672, 0.038321656345355386), (4591, 0.03826343784485085), (3565, 0.0382442719575761), (1929, 0.038223101518114054), (1118, 0.03818817903510017), (4567, 0.03818460806118193), (4462, 0.03814526432583925), (1865, 0.03813750214218474), (3231, 0.03812668715748846), (3470, 0.03810128729897465), (563, 0.03808085286716921), (1650, 0.03806781629869866), (3571, 0.038025278934998165), (4757, 0.03799194111934441), (4442, 0.03796214884111687), (3077, 0.037957987520976746), (2301, 0.037874862759030195), (1341, 0.037861730826494154), (1620, 0.03783639489524874), (2447, 0.03780166234111346), (3767, 0.037785524154851695), (3269, 0.03774921864702178), (1328, 0.03773693293061226), (3120, 0.03772020698815334), (1662, 0.0377094068237107), (1319, 0.03767578789035321), (1157, 0.03765855387742255), (1060, 0.03763182986599829), (3792, 0.03759290604282428), (3921, 0.037588806729510746), (1013, 0.037560866272354304), (384, 0.03754529329551096), (4283, 0.03753498474756235), (2699, 0.03752373955947418), (1317, 0.037499208921190165), (3913, 0.03744115126321014), (357, 0.037437485967907545), (664, 0.03742335122874255), (906, 0.037417497593963574), (2182, 0.03741245521245106), (283, 0.03739416942672612), (2727, 0.037352996093445695), (1385, 0.03729391272481632), (4624, 0.0372692080639228), (701, 0.03725337979525321), (2027, 0.03724116161435241), (2145, 0.037233122099713495), (3508, 0.03717844914971622), (3262, 0.03710331052823377), (123, 0.03705686020668542), (4272, 0.03702810989133004), (926, 0.036985074234390146), (2126, 0.03697278100128828), (2370, 0.036934126393538436), (451, 0.036915581612491755), (2710, 0.036913245123447465), (1861, 0.03690926320754788), (2852, 0.03690516372729793), (1092, 0.03689938380377608), (138, 0.03686696422748737), (74, 0.03684654182785386), (521, 0.03679898572023374), (1592, 0.036778102478748034), (1304, 0.03676583227224326), (452, 0.036726196821454546), (3893, 0.03670139227981398), (4479, 0.03668772076689933), (2969, 0.036671823783056945), (1220, 0.03666266455988332), (570, 0.03665384753035423), (3849, 0.03662589896908871), (1256, 0.0365792416462519), (1757, 0.03655267781801983), (1277, 0.03653078934983147), (2252, 0.03652709578159555), (29, 0.03652676292096733), (1318, 0.03650537076505232), (137, 0.036485498398015834), (1269, 0.03647345652488184), (1571, 0.03646173492028184), (719, 0.03646004174831635), (4156, 0.03646002060535858), (1766, 0.03644234971951745), (279, 0.03639768857789044), (13, 0.03639405277635712), (1793, 0.03638638284619929), (3632, 0.036383188675716084), (1956, 0.03636943406467543), (1575, 0.03634520079661096), (1644, 0.03633621602125464), (1622, 0.03632753447857876), (881, 0.036250104391969365), (1776, 0.03616734673682621), (4053, 0.03613430535870359), (3730, 0.036118394260221225), (2815, 0.0360707873350479), (1210, 0.03606116292855856), (1479, 0.03605410269739889), (1863, 0.03602487404354616), (204, 0.035992333163232165), (1478, 0.0359751421408072), (3358, 0.03595056695520803), (4465, 0.03591987641155327), (4265, 0.035878472390389896), (1186, 0.03587397282967792), (1467, 0.03586741555043168), (2122, 0.03586102395459673), (4438, 0.0358552963475898), (3690, 0.035847083219936196), (3670, 0.035844571183380775), (3466, 0.03583176683776805), (1982, 0.035830989067915237), (2638, 0.035824352618214844), (347, 0.035823623718051124), (973, 0.03578940552537233), (1119, 0.035771704694182456), (2959, 0.0357345094732642), (3418, 0.035724350423610184), (4551, 0.03570574238981679), (1987, 0.03569772307425666), (3516, 0.03569269593194936), (1852, 0.03569083096641609), (2636, 0.03566001958656912), (3909, 0.03565970881067201), (1132, 0.03564691742507347), (18, 0.03562109166206711), (15, 0.03560591607805722), (4502, 0.03558867291045101), (1217, 0.03557166294187288), (4118, 0.03556589450933132), (3134, 0.03554563361821279), (2237, 0.035514147623683066), (2045, 0.03549685225105717), (948, 0.03549246765515531), (428, 0.03549067915811876), (4203, 0.0354805897749282), (2654, 0.03547858119195244), (3924, 0.035465906734705066), (937, 0.0354451196664258), (3666, 0.035424873873321605), (208, 0.035422904562308025), (130, 0.03542116089665398), (106, 0.03541294265840254), (202, 0.03540367157747018), (1026, 0.03538792328127628), (970, 0.035366186769917096), (2430, 0.03532081056629854), (126, 0.03525893880127916), (691, 0.03524745683738783), (3597, 0.03523029287443753), (795, 0.0352161549487113), (2125, 0.035214217825818225), (4275, 0.035195535215943416), (3419, 0.0351743289391495), (4141, 0.03516356509863558), (1553, 0.03514848875671406), (1895, 0.03514375873762159), (1378, 0.03513875360997824), (4087, 0.03511971651331677), (673, 0.03499320074247269), (4226, 0.034991877740903156), (796, 0.03498485252636891), (3089, 0.03495387120562326), (4395, 0.03492710171498949), (1461, 0.03490373004026107), (1364, 0.03487502678054824), (2443, 0.03486354808261737), (2555, 0.03485729264726256), (1511, 0.03485572592690943), (3094, 0.03482398194468625), (38, 0.034800951845817496), (3168, 0.03475341824168704), (4150, 0.03471350262357), (1109, 0.034705960511511764), (250, 0.03470270048721983), (4061, 0.03469304449833018), (404, 0.03468373437220658), (4628, 0.03467003166814672), (2888, 0.03466319547963492), (3954, 0.03465194206680044), (642, 0.03463553875942797), (3384, 0.034619814918268835), (3111, 0.03460652582090807), (2772, 0.03460608414092979), (39, 0.03460389420332888), (3541, 0.03459870137865809), (2806, 0.034592849464747916), (263, 0.03459226710153437), (3831, 0.03457258876035989), (324, 0.034571902947319176), (981, 0.03456708725696754), (4024, 0.03455641742241636), (1489, 0.03454556989005065), (2592, 0.03453369560522774), (1017, 0.03452349419386175), (2376, 0.03449783053879072), (571, 0.03447606570412366), (3778, 0.034469359160937914), (3310, 0.03445119490843345), (1221, 0.03443375733272273), (753, 0.03437641818212558), (744, 0.034370200118719205), (4445, 0.034364763168988385), (3043, 0.03434429622311881), (4313, 0.03432531716535045), (2833, 0.03432431638901695), (193, 0.03431662418693853), (1937, 0.03428667976653472), (3853, 0.034283079232778124), (3207, 0.034282911956836824), (2183, 0.03425413106112603), (2005, 0.03425086550859581), (1585, 0.03423890489922169), (830, 0.03423345304360318), (1243, 0.03422757175700889), (4201, 0.03421605769747287), (710, 0.03420651846619346), (1249, 0.03420378400607359), (1214, 0.03414957486311223), (3330, 0.0341219746064336), (3967, 0.03408196156475681), (776, 0.034081762169673395), (3857, 0.03407723956600631), (1642, 0.03407431177155495), (1964, 0.03405591392883602), (1416, 0.03394409654084375), (867, 0.03389808966252981), (824, 0.033897586548479505), (3233, 0.03389080128560608), (1855, 0.03387541841288088), (3506, 0.033865149859380085), (3640, 0.03383433227114277), (1348, 0.03379756698671758), (2780, 0.033774860359134004), (2043, 0.03376107612938028), (3927, 0.03375836482411748), (2120, 0.0337462605444863), (953, 0.03369838903303018), (3933, 0.03367909482542382), (1741, 0.03363691163189909), (601, 0.03362789519373553), (3056, 0.03359378036016677), (2903, 0.033572539330463703), (531, 0.03355495425518894), (1817, 0.03351999469766506), (912, 0.033501632212746754), (929, 0.033457651645372295), (97, 0.033451831829549514), (274, 0.03344949895147502), (1095, 0.03344510746988317), (2964, 0.0334364339735687), (4731, 0.033359148041814855), (3144, 0.033358459374519624), (2236, 0.03334566228791566), (2985, 0.033312884750319925), (4504, 0.0332556450935079), (433, 0.03325197497895798), (1744, 0.033246757124922734), (2147, 0.03324181810401346), (2320, 0.03322649613694297), (700, 0.033226334663941315), (1819, 0.03322104635775154), (1448, 0.033213339938733884), (2671, 0.03316506058488135), (1666, 0.03314313232980505), (4005, 0.03311865148399918), (1129, 0.03311563839259988), (1994, 0.03308822709992543), (4158, 0.03308625011327564), (4119, 0.03308309051097744), (1551, 0.03306271553699023), (228, 0.03305938415833096), (2081, 0.03305909306939823), (3460, 0.033053207372052855), (2444, 0.03302713080537626), (4466, 0.033026132609880056), (1786, 0.033021199201320614), (25, 0.03301844969463235), (3677, 0.032989608976553286), (330, 0.03298227946839302), (4556, 0.03290593557238862), (1510, 0.032885087517289864), (206, 0.032864453473447575), (1312, 0.03282715566213407), (216, 0.0328239630566848), (3118, 0.03281525864746028), (2766, 0.032813572003450406), (3946, 0.032800025745393493), (1524, 0.032793423083445634), (371, 0.0327908965433889), (2925, 0.032759046568493044), (1463, 0.0327235246655228), (277, 0.03271376800418979), (3623, 0.03270783125516245), (3877, 0.03270517935367913), (1798, 0.03268008131190736), (3376, 0.03267689014015008), (3066, 0.03265477230297909), (2982, 0.0326100980948382), (4266, 0.03259966501733702), (1739, 0.03259123719574611), (3551, 0.03258424481208154), (276, 0.032577148599506445), (2295, 0.032576565005494496), (2013, 0.03255065583613927), (4503, 0.03253303858116176), (3352, 0.0325299098541564), (1081, 0.03252973159204488), (553, 0.032523817280643755), (3985, 0.03250917078011008), (785, 0.03250889135983724), (1402, 0.03250853949678455), (2494, 0.032471347039442315), (1458, 0.03246589085872624), (3222, 0.03242808416252958), (1198, 0.03238565219491161), (4290, 0.03238561135304929), (3240, 0.03237343933093472), (237, 0.03237023807547008), (463, 0.03235307217942899), (613, 0.03234658636373522), (2493, 0.0323321739345796), (804, 0.03232962948828748), (3275, 0.03225436632381738), (2296, 0.03219082826382277), (3073, 0.03218461693652151), (254, 0.0321095198439709), (70, 0.0321069941622385), (726, 0.032106672974925), (251, 0.032093139397152956), (4097, 0.03208153105869665), (4029, 0.032062611605843214), (1948, 0.03204232326562888), (4070, 0.032041840989020895), (1654, 0.032019023999229436), (1197, 0.03200346645790253), (1594, 0.03200037709367614), (2093, 0.031983652420531056), (2617, 0.03195718914981546), (2403, 0.031948993072347165), (4122, 0.031938154842826194), (1616, 0.031911417103629), (409, 0.03187677087961683), (56, 0.03187588508181572), (820, 0.03186846296786475), (1237, 0.031860365736420156), (1985, 0.031860048426105486), (307, 0.0318468725649378), (604, 0.03183928781381134), (82, 0.031816990214926004), (532, 0.03176643579259897), (1903, 0.031739293751578815), (4325, 0.03173054313152959), (4467, 0.03171709807483931), (1061, 0.03169488560554144), (2905, 0.03168598995345384), (6, 0.03168058305474179), (3825, 0.0316759475298421), (1236, 0.03167188125823235), (297, 0.031635925230074795), (2441, 0.03161953379641838), (4080, 0.0315962366133812), (907, 0.03154133493614822), (129, 0.031537823439530044), (3079, 0.031536323361229426), (876, 0.031498690002276813), (1113, 0.03149070178744693), (560, 0.031467679852089044), (1048, 0.03145915185214205), (1054, 0.03144309858802355), (3659, 0.03143666526945747), (2066, 0.0314278832108032), (1262, 0.03142646856499283), (2962, 0.03138478259940837), (966, 0.03135796150071858), (1911, 0.03135201934306047), (1035, 0.03133776230333765), (930, 0.03131380089774478), (4347, 0.031310571168949544), (4016, 0.031291075212051676), (952, 0.03126698713324412), (387, 0.03126415131777956), (775, 0.03125034735903448), (541, 0.03124868817154611), (320, 0.03124474564436943), (672, 0.03123116289599662), (2397, 0.03117686651588048), (2410, 0.031167813176531365), (3839, 0.031163348537812628), (1107, 0.031161304023251624), (1781, 0.031157943509004686), (2917, 0.031117187088265816), (4015, 0.031082218890601924), (3124, 0.031061295837293917), (3306, 0.03105179144899126), (2565, 0.031049537850752006), (1292, 0.031036844064300254), (780, 0.03103605918424934), (1116, 0.03100966391207213), (2214, 0.03100631557047531), (4049, 0.030978966900378775), (2728, 0.030967163838216107), (681, 0.030913442489301023), (2486, 0.03090340646913513), (3694, 0.030862374805237874), (2056, 0.030843666669422568), (870, 0.030830506166377954), (1261, 0.030818907977535365), (4121, 0.030785174926177543), (1191, 0.030771809378912843), (827, 0.030761319692095883), (2144, 0.0307487042468446), (995, 0.030735079452519437), (405, 0.030719192898961304), (2026, 0.030717150030777754), (2131, 0.030702953430598715), (1222, 0.030662393850832286), (3265, 0.030627525069340054), (888, 0.030584928277838846), (1799, 0.03058227325752919), (685, 0.030577158214684645), (3968, 0.03057201088643558), (4555, 0.03055873102775772), (3658, 0.03055400519458898), (3526, 0.03052571945232168), (2716, 0.030523999873360616), (1880, 0.030519219360929304), (2548, 0.030514504578664454), (635, 0.03048550452151228), (183, 0.030477236424232224), (3713, 0.03047607539515792), (538, 0.030473193738530562), (1967, 0.030460392604934234), (621, 0.03043797895184451), (2481, 0.03041409422212009), (2522, 0.030393053238149156), (779, 0.03038364398888347), (840, 0.030375141722690367), (1413, 0.03036813599352776), (832, 0.030299484844437043), (3890, 0.030280473625222105), (1725, 0.030262982611071403), (1302, 0.030261414121889357), (1737, 0.03025575377616013), (3648, 0.03024662084427569), (3646, 0.030221169487710357), (3504, 0.030200032247707807), (2335, 0.030196900477003), (3167, 0.030193707550318128), (1493, 0.030172315547548373), (2146, 0.03016580256882423), (3395, 0.030146309364267605), (728, 0.030125376931655255), (341, 0.030065442563622938), (1369, 0.030046222245876594), (2551, 0.03002822161363988), (2840, 0.030013632204304527), (3102, 0.02999671276311451), (663, 0.029996483235080293), (4435, 0.029996290836966706), (2873, 0.029984046634416874), (2290, 0.029981662143634315), (903, 0.029931559305294845), (83, 0.029924127853491342), (1165, 0.029918457983862334), (1122, 0.029893730061236287), (4610, 0.029890172373546284), (4496, 0.029888982486468322), (606, 0.029885859415889227), (1494, 0.029877859073147196), (740, 0.02987693055687838), (640, 0.029864791758851667), (181, 0.029863234123611575), (477, 0.02985244405156839), (1812, 0.029828288931571585), (3097, 0.029811835303483903), (1074, 0.02980987460748536), (2262, 0.02976646424512685), (645, 0.029719493490221835), (1984, 0.02968580348003319), (4333, 0.02968055827256099), (1669, 0.029664934709718618), (1931, 0.029664188300421647), (68, 0.029649346402379928), (1746, 0.02964269259073418), (1465, 0.02963561354918451), (4373, 0.02963241983478824), (2205, 0.029628570746154447), (3438, 0.029622502918713038), (1738, 0.029594254541429207), (2436, 0.029588516358807188), (1723, 0.02958066810025998), (2212, 0.029574361342779174), (1688, 0.029573915180111675), (618, 0.029571260363099306), (349, 0.02956127553009306), (1716, 0.02955081446986308), (1759, 0.02953693595012533), (3868, 0.029514349991277278), (3299, 0.0294705908704035), (2689, 0.029468732718958578), (2174, 0.029461798650636462), (1517, 0.029436974719682873), (1981, 0.02943391894014559), (383, 0.029419322009963007), (1709, 0.029411923109129445), (1847, 0.029410431060933134), (2068, 0.02939191187747247), (309, 0.029390980335800024), (4673, 0.02938414811796201), (278, 0.029376156801645528), (4743, 0.02936774368019316), (1241, 0.029359054976083418), (1949, 0.029353396986110503), (523, 0.02935246680756702), (1495, 0.029346514984069542), (731, 0.029325141108296426), (978, 0.029315799140749183), (96, 0.029302908845828618), (310, 0.029291935042451037), (435, 0.029259046723843322), (982, 0.029240508878902532), (182, 0.029233521436297594), (464, 0.029226709327805304), (2632, 0.02921954714009683), (1396, 0.029201077694372506), (3600, 0.02919433609690938), (2082, 0.029185111176957525), (799, 0.029184209489033927), (4376, 0.029178242193249188), (3910, 0.029170259564847652), (702, 0.029165040077830544), (3970, 0.029159092951368162), (3721, 0.0291034496280186), (1740, 0.02909063318976441), (2328, 0.029048079025616798), (939, 0.028989353767709482), (2065, 0.028986147782839554), (2868, 0.02895340801941311), (2363, 0.02895318725247701), (1343, 0.028945774220709694), (3071, 0.028892000751567292), (502, 0.028890162585986916), (803, 0.028864011426615238), (3099, 0.02884181995582886), (2094, 0.028839504771271833), (4252, 0.02882630550546987), (2915, 0.02881511420320288), (1806, 0.028801260545702787), (3247, 0.028796074546661013), (1996, 0.02879398965542659), (1041, 0.02877125219520718), (2492, 0.028760255840819524), (3338, 0.028743382727278978), (2427, 0.02874022324985962), (862, 0.02873233230919705), (2809, 0.028694808016418452), (3823, 0.028665262589930428), (102, 0.028641277993018986), (2017, 0.02863029342856451), (1052, 0.02862558951507757), (2760, 0.028596031471249943), (1951, 0.028569084507778515), (3499, 0.02856610605336494), (179, 0.028562334978824246), (3446, 0.02854963040499779), (2118, 0.02854521438228077), (1354, 0.028524296223625865), (3498, 0.02851968597850976), (3493, 0.02850055607318623), (3327, 0.02849851455976723), (414, 0.0284952043609089), (3764, 0.02848868991324392), (3141, 0.028485749573083013), (148, 0.02846969306455068), (4482, 0.028446316551464606), (1112, 0.02842895555020673), (3667, 0.02839932700377302), (4596, 0.028364728388668155), (976, 0.02835551683017139), (894, 0.02835083397356536), (1196, 0.02833811487872156), (3810, 0.028326993094661346), (3232, 0.028304182083947305), (1986, 0.02829370951238821), (3709, 0.028282378709497288), (3426, 0.02827872837388993), (898, 0.028257922691692566), (472, 0.0282087460318466), (2616, 0.02820344304858184), (3627, 0.028201310455298903), (1202, 0.02818985286061193), (3199, 0.028183668793224943), (209, 0.02814432101508651), (3060, 0.028130529363154806), (2035, 0.028112940516078423), (1175, 0.028070407586474465), (2206, 0.028058546803539544), (2275, 0.028039949069723354), (332, 0.02803293845159065), (1780, 0.0280247604330857), (4662, 0.028013849663136678), (301, 0.027981655081833638), (353, 0.027961540748109547), (583, 0.027954006886323976), (4082, 0.027949991198284004), (1687, 0.02793757568312124), (1566, 0.027885141524704376), (122, 0.027878012489146217), (2327, 0.027875258080035874), (1482, 0.02787195336312796), (2429, 0.027870978393867738), (1816, 0.027859473756263575), (1337, 0.027819142909723985), (1296, 0.02779391019874141), (3189, 0.02774829177553222), (2848, 0.027747791583020008), (2422, 0.027743990764817806), (993, 0.027727523878170856), (4345, 0.027710689360755304), (1224, 0.02770255532030467), (1139, 0.027671964973524706), (586, 0.02764913495523658), (1629, 0.027599406354582384), (833, 0.027588879120278458), (3362, 0.027586898984782636), (3391, 0.02756969678533009), (242, 0.027560337214026433), (2656, 0.02755211616346023), (547, 0.027528454054978314), (4033, 0.02752512156264902), (2935, 0.027520501408423034), (1428, 0.02748632267385298), (1275, 0.027485663715437605), (4064, 0.02748307829954616), (590, 0.027464973798664475), (4619, 0.027450043191398342), (1272, 0.0274396943196974), (3993, 0.02739933623343392), (2468, 0.027367926835909176), (4149, 0.027365116294929007), (4147, 0.027360877029078166), (2367, 0.027358868949440195), (1487, 0.02734854477289549), (1544, 0.027344565648405546), (33, 0.027325895668464047), (2024, 0.027308118723091458), (2264, 0.027305008554108785), (612, 0.02727946922902086), (425, 0.027214439408778757), (2053, 0.027203806769337063), (1942, 0.02720229364511839), (385, 0.0271709216435381), (3253, 0.02715251569194123), (626, 0.027118294048131177), (2721, 0.027104871547292003), (199, 0.02710178875430865), (2813, 0.027095838814091323), (931, 0.027048360007027768), (4001, 0.027047622085055394), (2762, 0.02704297471397115), (2062, 0.02703730634628938), (1957, 0.027036985883839015), (2951, 0.027034629358623937), (113, 0.027026080708416417), (1515, 0.027012774607083193), (1393, 0.027002674338499517), (825, 0.02698454401710363), (1556, 0.026984281673954127), (3701, 0.02698360359444029), (3058, 0.026970011882960707), (1016, 0.026946893268862782), (2609, 0.026944143122280995), (2784, 0.02693226827256843), (2897, 0.02692455724367404), (2913, 0.026887716727820886), (3641, 0.026859049866335374), (3448, 0.026857755243061852), (798, 0.0268422593367902), (4363, 0.026811109898309864), (3343, 0.02680005469507945), (4068, 0.026769223962253955), (2680, 0.026765616119938645), (4695, 0.026762388970487626), (3524, 0.026753279718062184), (1681, 0.026732632804754547), (1291, 0.026719246096768436), (465, 0.02668164952445161), (1336, 0.026679936116135033), (3978, 0.02666552910846061), (4088, 0.02660011717979689), (3279, 0.02657462820228454), (3152, 0.026555177717649814), (2587, 0.026545489933171275), (707, 0.02653963718722949), (4477, 0.02653332550195836), (2984, 0.026532105908456616), (1756, 0.026494728086965815), (2546, 0.026471903691505635), (145, 0.026460755191364524), (4534, 0.026451262630471914), (3272, 0.026418681986371775), (4380, 0.02641530084101747), (306, 0.02639763578106092), (1840, 0.026382040124308146), (1555, 0.026373361247786543), (4441, 0.0263585695891006), (2107, 0.02632808885077641), (346, 0.02630576095114149), (169, 0.02630567687036723), (1750, 0.026303075388525013), (705, 0.02628705836393504), (2461, 0.026281031520786088), (3786, 0.026265363234604076), (3449, 0.026199680254998334), (3256, 0.026176237764341158), (4321, 0.02617256717535945), (988, 0.026171892166720532), (1584, 0.026170275593024026), (4643, 0.026168407675463225), (1877, 0.02615536603756658), (3374, 0.026149859131070034), (1507, 0.026139485999247467), (529, 0.026139257346222286), (945, 0.026134905965671945), (3410, 0.026133500091711233), (2279, 0.026124850005244123), (2804, 0.026120907068543142), (1872, 0.02612043731388041), (1850, 0.02612038867579053), (1878, 0.02610239517589362), (3905, 0.02610126394748098), (3234, 0.02603870041938185), (2726, 0.02599313519255566), (1991, 0.02598339787649655), (2785, 0.025980978172590867), (703, 0.025960274913244066), (2033, 0.025945972773740517), (2416, 0.02594103022047074), (195, 0.025927028054241845), (4583, 0.02591212499149869), (656, 0.025898680517997055), (1442, 0.025879024804501525), (4640, 0.025873261177682957), (3941, 0.025861018644145452), (1952, 0.025832191174486645), (2541, 0.025824243819324542), (4652, 0.025805859337676262), (1263, 0.02580259057113673), (189, 0.025795658351637496), (119, 0.025787647435159863), (4646, 0.025772456073037048), (2281, 0.025770554295881175), (1436, 0.025763420025926742), (910, 0.025749042490356734), (45, 0.025746074107292828), (509, 0.02574404661266429), (370, 0.025705257674412542), (3360, 0.025703261394004476), (828, 0.02569996158048228), (4387, 0.025692771800544405), (654, 0.025663549942683286), (246, 0.025661553501928423), (1185, 0.025653319728826042), (944, 0.025649409237718277), (2640, 0.02561125669580116), (79, 0.025602001182251567), (2769, 0.025590440246442782), (2933, 0.025577165431514046), (4210, 0.025555591419076668), (1453, 0.02555540549265449), (760, 0.025552716401452083), (2752, 0.02553740013639498), (1537, 0.025498557696617886), (2556, 0.02549791811319505), (4382, 0.02547943822766031), (2528, 0.025472063179308543), (924, 0.025466906851778714), (687, 0.025441417962112904), (534, 0.025429331304932048), (2501, 0.025417461520478562), (2633, 0.02541610491659544), (928, 0.02540993420615293), (201, 0.02540455570885581), (156, 0.02537227744069375), (781, 0.02536616833157909), (879, 0.025325159740511194), (3689, 0.02531840783445499), (919, 0.0253146596571864), (3919, 0.025307763378931352), (333, 0.02530645759836208), (3594, 0.025299914678430558), (338, 0.025299638594448285), (2102, 0.025284702409079), (1422, 0.025253586627838092), (2322, 0.025251807211265596), (3507, 0.025241763960046175), (3873, 0.02523255402280002), (243, 0.025226298060676913), (3860, 0.025226282993543105), (1563, 0.025192260472271136), (1807, 0.025190981647546594), (4590, 0.025181751750950634), (2418, 0.025181081518083053), (2457, 0.025130672615337316), (3645, 0.025116478593006256), (4577, 0.025111001439806654), (2642, 0.02510054412018807), (607, 0.02509439199554718), (4071, 0.025091577834366992), (1736, 0.025080640546814803), (1021, 0.025068741844592932), (2061, 0.02506051446971371), (4548, 0.025058048295036037), (1282, 0.025047264625894995), (2911, 0.025037069030299702), (4124, 0.024932542109767954), (1421, 0.024928235698246332), (1414, 0.024926754676787073), (962, 0.024923551885300477), (336, 0.024920313027062227), (1481, 0.02491953156118383), (3531, 0.02488784320657972), (878, 0.024887494031116536), (1743, 0.024886342581522263), (259, 0.024869389059449964), (1711, 0.024857501304598278), (2424, 0.024851438297675194), (526, 0.02483910024261108), (3363, 0.02481761748696531), (3756, 0.024816217592224618), (2788, 0.024789269386335248), (1968, 0.02477775171421514), (1534, 0.024776967342119836), (2393, 0.02473476360447419), (2139, 0.024711755603318415), (442, 0.024708812295140156), (4137, 0.024708646202698352), (4589, 0.024701757666329455), (661, 0.02470003709563063), (782, 0.024644057056639843), (275, 0.0246431464610359), (1459, 0.02462046831447565), (3876, 0.02461531634132612), (1184, 0.024592726647911498), (221, 0.024590887330916734), (1492, 0.024590220489563108), (1610, 0.02455850948169248), (367, 0.0245210040546246), (392, 0.02450424016856412), (1795, 0.024487678863834357), (164, 0.02447774135814489), (2817, 0.024458429059218224), (1059, 0.024441982602209956), (4312, 0.024434189090408318), (1045, 0.02443062342264517), (4568, 0.02442119849747746), (1321, 0.02442111783098449), (2697, 0.0244149144986338), (1255, 0.024396639232562505), (648, 0.024395534477665157), (1568, 0.02439389925514395), (1824, 0.024367380573449306), (2058, 0.02436723117383302), (3854, 0.024366683671159586), (348, 0.02432996549691171), (160, 0.024328686904116638), (1062, 0.024324872793934253), (2180, 0.024316023942533172), (165, 0.024315293196661855), (1626, 0.024308200201685514), (3980, 0.024295014637049982), (4045, 0.024273060327190232), (3020, 0.024264001142543398), (4262, 0.024261478959131822), (1208, 0.024260577043089957), (1096, 0.02425673366464681), (3157, 0.02425267499036012), (4169, 0.02425101395128565), (2955, 0.0242202638125043), (2978, 0.024219971969457986), (2740, 0.02419860143173358), (2036, 0.024197138207305943), (2460, 0.024187872755363674), (850, 0.024184345623953933), (94, 0.024179581701599034), (3852, 0.024177369460821777), (1938, 0.02417460515054281), (1719, 0.02416373903456856), (792, 0.024158666622034287), (2011, 0.02414085672291431), (1179, 0.024136630196297745), (80, 0.024125498214287076), (4199, 0.024097672842874174), (734, 0.024091593228758715), (1066, 0.0240635884645091), (3785, 0.024052538782491036), (220, 0.024043875394863308), (1371, 0.024018120691931148), (1539, 0.024010630323710022), (2106, 0.024004240281699774), (1779, 0.023996081139574674), (1360, 0.02398124899049498), (4269, 0.0239744455156557), (356, 0.023970616818861364), (2607, 0.0239657741412843), (2022, 0.023945103807822207), (104, 0.023905857985112543), (665, 0.023901337570731235), (2768, 0.023877410754886728), (960, 0.023869152153750753), (3696, 0.023861157465058874), (369, 0.02385819911319077), (1595, 0.023845560631806803), (2103, 0.023834575085727942), (4351, 0.02381738566737822), (2870, 0.02380243505027681), (676, 0.023793440345271717), (3512, 0.023793136838650312), (2240, 0.02378637927780705), (1201, 0.02377557319864481), (3563, 0.023775496346052628), (2511, 0.023775370700941927), (3138, 0.023769269383610254), (4507, 0.023765413509989224), (1015, 0.02375734768822819), (3843, 0.023737860101807548), (524, 0.023726786463543745), (3546, 0.02372667631511329), (4600, 0.023723379573419766), (2231, 0.023715090764678204), (1000, 0.023699833672956347), (4420, 0.02369417109433846), (3336, 0.023690683626564162), (1695, 0.023688505422474165), (1218, 0.023679148458303236), (4332, 0.02367458316057312), (600, 0.023651831629987706), (1679, 0.023644105105811393), (1483, 0.023636004897964163), (218, 0.02363484139311201), (3414, 0.023624071215099886), (1731, 0.023623548943996184), (1508, 0.023614892468548494), (72, 0.02361485775206288), (971, 0.02360977290806747), (2834, 0.023608271069878773), (3122, 0.02360366331701901), (1809, 0.023602123514741224), (116, 0.02360139332282446), (790, 0.02360028236539111), (3907, 0.023595202007738163), (4704, 0.023592116174599907), (1001, 0.023581570299552334), (2871, 0.023578303470652692), (2016, 0.023577208877982602), (2309, 0.023562760964769287), (3577, 0.023517002880314605), (1324, 0.023498290176420432), (3271, 0.023497432861830998), (942, 0.023497069629923234), (84, 0.023488266739767442), (2509, 0.023487509458405127), (1141, 0.023487020598148643), (2169, 0.023485840825422953), (239, 0.02348371933170556), (2364, 0.0234724250687729), (1356, 0.023468335972768616), (2854, 0.02343224927115898), (1692, 0.023431563206260858), (915, 0.023430404957200335), (2096, 0.02342543858363945), (2504, 0.02342241098437983), (3284, 0.02340138645024254), (3392, 0.023398896301010743), (3926, 0.023395930911758896), (4155, 0.02339052871835362), (2338, 0.02336747400873246), (4152, 0.023359634324349735), (2368, 0.02333977026223298), (1643, 0.02332128986961162), (3841, 0.023306724542724144), (2044, 0.023303337732022845), (1718, 0.023279671525351295), (1308, 0.0232654144496385), (4481, 0.023264606077177022), (2202, 0.02323382580719593), (3661, 0.023232779190456937), (1358, 0.02321818595985384), (223, 0.023216338731694035), (2467, 0.02318862698065114), (1710, 0.023186700307349574), (1379, 0.023175256106365234), (4629, 0.023173209189331332), (161, 0.023141993201369216), (3678, 0.023135175671840678), (1696, 0.0231294078313022), (3465, 0.02312809226393215), (271, 0.023095286953105254), (4300, 0.02305954377482943), (1219, 0.02304975169034923), (3637, 0.023043158950075256), (3656, 0.0230422466418685), (1752, 0.023024818790668478), (4611, 0.02301863926669795), (427, 0.023010475733790132), (1274, 0.022945339912426123), (1893, 0.022936983423616445), (1930, 0.022933626208839826), (3068, 0.022931703319405312), (1619, 0.022903726414604482), (1273, 0.022895288801419902), (1689, 0.02289485956585137), (3166, 0.022888094281836188), (1206, 0.02288207994283897), (479, 0.02287308253840639), (155, 0.02287187817595223), (1307, 0.022853273009416194), (3674, 0.022847990354904396), (1768, 0.022845305334315162), (4288, 0.02282602711465892), (2184, 0.022825552116735873), (1004, 0.02280235313856455), (3121, 0.02279648456887015), (2690, 0.022793772500391656), (2637, 0.022781926367952184), (551, 0.022757475430588855), (1772, 0.02274926130445673), (3685, 0.02274383192550879), (807, 0.02273997479618674), (4063, 0.022731271272015696), (211, 0.02273087776089746), (1386, 0.022726423274512363), (135, 0.022722918060956214), (36, 0.022717769131094162), (225, 0.022710156619389445), (3750, 0.02268277739671452), (3356, 0.0226793003989456), (1900, 0.02265867582770729), (947, 0.022658565205246346), (4050, 0.02264898290282138), (1418, 0.022648578637240666), (460, 0.022636766773150588), (1841, 0.02262768252946572), (536, 0.022627110784441764), (4051, 0.02262078376235541), (362, 0.022601196739424255), (1140, 0.02259100280088144), (3807, 0.022586734394970893), (4031, 0.022553249218787794), (2089, 0.022536502551309418), (3098, 0.022532597915105233), (3529, 0.02252927160072914), (3780, 0.02252767480759202), (568, 0.02252323047289762), (984, 0.02249757681376611), (4721, 0.02249699771942912), (1215, 0.022493975477043043), (957, 0.02249053532518074), (426, 0.022437971563746988), (3409, 0.022425060006744685), (752, 0.022409147656767527), (77, 0.022376084489588034), (1338, 0.02233763113037668), (2104, 0.02232868831132596), (2101, 0.022326737053380896), (1168, 0.022306064902171845), (956, 0.02229142614354767), (1680, 0.02228946681748175), (3150, 0.02227836956951324), (1891, 0.022270999399391325), (4454, 0.022258042288267457), (4157, 0.02223689055165546), (1086, 0.02223640767770393), (2665, 0.022234090292593676), (2713, 0.02223002973527094), (85, 0.022221493901210997), (2932, 0.02220890551602051), (1587, 0.022207122080736344), (2265, 0.022201189430091695), (291, 0.022194731703002922), (1501, 0.02218137356227686), (3034, 0.022177893529811508), (1105, 0.02214584891224166), (1131, 0.022122618309833357), (4533, 0.022117869133300078), (2877, 0.022094338209081854), (3999, 0.02206351477126653), (3370, 0.02203979344369164), (3886, 0.02202247644797004), (4086, 0.02201651446896908), (3435, 0.021997872863911864), (3226, 0.021993507104180077), (3220, 0.02199270806679397), (1392, 0.021989663818143372), (2724, 0.021986188407633046), (2574, 0.021978457729641385), (605, 0.02196925270170889), (3364, 0.021967557674163384), (3430, 0.021953913595074627), (78, 0.0219525655148079), (2725, 0.021925920424664392), (1450, 0.02192318109405866), (4524, 0.02192233373505794), (1636, 0.02191725281190489), (3090, 0.02190854748009379), (12, 0.021893434423287297), (4605, 0.021865754314961107), (1419, 0.02184667581002357), (1608, 0.021839849980420024), (3822, 0.021839076801169997), (46, 0.021831588971504574), (1617, 0.021820416109645635), (4607, 0.02181899877643132), (2939, 0.021814376997079717), (1928, 0.021811523089255436), (1375, 0.021799009598746737), (167, 0.02179852663415571), (2722, 0.021782450278647298), (3553, 0.02178196810097023), (1838, 0.021777705132791057), (3202, 0.021776431403480692), (415, 0.02177597883605318), (1635, 0.02175432453778985), (441, 0.021720727597501974), (725, 0.021713584183324645), (1051, 0.021711699084191502), (2014, 0.021703929706838546), (897, 0.02165544698195034), (1821, 0.021654990040006608), (2929, 0.021653918975557997), (4558, 0.02163555016579923), (4187, 0.021635244777361083), (3698, 0.021585486966876684), (3400, 0.021548627642389805), (2051, 0.021545255218563434), (1290, 0.021544330332901103), (2283, 0.02154122458455083), (1546, 0.021513020094715254), (3293, 0.021496165867726333), (3914, 0.02148047289880787), (2170, 0.021478281189284437), (4539, 0.02146906462383258), (2076, 0.021446721832587064), (842, 0.021416369720571635), (454, 0.02140966742458906), (3315, 0.021406738142586406), (1229, 0.02139793745942147), (1683, 0.021387887261882222), (2088, 0.021380325171497287), (4093, 0.021379148606999368), (40, 0.021377268079987577), (294, 0.021373657249699075), (1451, 0.021362313224080616), (1502, 0.02134593544581424), (1782, 0.021342453824470135), (3443, 0.021329827389411835), (2763, 0.02131117889651201), (273, 0.021308563813916704), (594, 0.021292444939522957), (619, 0.021292018550721294), (732, 0.021285764256852108), (3934, 0.021285034738081337), (1913, 0.021267859246618285), (1405, 0.021261491557647956), (430, 0.021260722118335136), (4515, 0.021252412699939716), (4328, 0.02124577547793087), (3828, 0.02124367954069095), (445, 0.02123801025143968), (2258, 0.021234540512199546), (2928, 0.02121160349029861), (411, 0.02119640187661393), (2611, 0.0211835125654863), (101, 0.02118230556487183), (2942, 0.02118108186132956), (1223, 0.021180408297164045), (2756, 0.021157846253670565), (3845, 0.021148757987818942), (4701, 0.021147648245369723), (711, 0.02112774244059762), (4084, 0.02112227046703826), (749, 0.021117028907051572), (4708, 0.02110411121702903), (658, 0.021087218170804375), (1053, 0.02107581646205306), (4314, 0.02106508009609457), (1962, 0.021063377478041805), (2994, 0.021035530011612413), (1668, 0.02101058758768266), (540, 0.020989805933452593), (873, 0.020969727058398214), (3871, 0.020925650593671286), (4240, 0.020849246239311125), (497, 0.02084905701383867), (2129, 0.020817069856631374), (4426, 0.020802058426226254), (1700, 0.020796895682811394), (778, 0.0207549279013257), (2079, 0.020751354309075307), (3421, 0.02075112653344583), (4724, 0.020706294728153732), (923, 0.020700816598780154), (466, 0.020696365328732737), (2845, 0.02067790271759543), (410, 0.020672208652163224), (3346, 0.020666300162184643), (1899, 0.02066498518645044), (3826, 0.02066186409355113), (366, 0.02064910458800001), (3752, 0.02063094140097555), (1674, 0.020621849482787724), (3459, 0.020619209776079353), (991, 0.020587547828057527), (1496, 0.020505830688363747), (2215, 0.020482624063416992), (544, 0.020481058294978385), (2449, 0.02047766894009804), (2568, 0.020464466727072854), (1445, 0.020460418636599188), (4650, 0.020448036022946783), (1279, 0.020441443851012802), (485, 0.02043376331816545), (3813, 0.02041151910664752), (2859, 0.020375948150684768), (4653, 0.020373756442483), (217, 0.020370953375088627), (3227, 0.020363164560002055), (2936, 0.020352603275149747), (364, 0.02033101756901997), (190, 0.020327724638519666), (1006, 0.02032042208365786), (1578, 0.02031990793052759), (2220, 0.020314403981197916), (2071, 0.02030102108114533), (690, 0.020298019007235348), (1966, 0.020293642559794885), (2211, 0.020285558259715845), (2524, 0.02027220004310933), (71, 0.02026922116905967), (905, 0.02026099659697843), (1550, 0.020257753478861534), (679, 0.0202553297121059), (2995, 0.02025195109716796), (172, 0.020246535461653944), (578, 0.02024384704958752), (519, 0.020240762866480896), (42, 0.0202374275957384), (4095, 0.02021566357988079), (899, 0.020199618827282953), (2330, 0.02019302129537402), (1114, 0.020183141579548182), (2246, 0.020175707170479618), (2353, 0.020161806182726547), (2810, 0.02015868755204352), (844, 0.020155230170648932), (3103, 0.02014954162794846), (2755, 0.020121767876944245), (4709, 0.020113315908385988), (1790, 0.020083721680489476), (2790, 0.020080734910987264), (1505, 0.020061262619445557), (3766, 0.02003146496269512), (1135, 0.020026342953827086), (4384, 0.020026276793069193), (3675, 0.020023260462986872), (47, 0.020008875014356636), (2459, 0.020006636723818902), (4297, 0.019996936190484104), (2046, 0.019989889713287638), (2495, 0.019985215883076245), (909, 0.019959748711408903), (3416, 0.01995897327593964), (659, 0.019957034638553053), (3867, 0.019946337030191573), (270, 0.019941593550844922), (4637, 0.01993183589156587), (3735, 0.019903817908231296), (4444, 0.01989864593439923), (831, 0.019897522809300933), (1876, 0.019881746079386482), (2782, 0.019878278084643063), (1286, 0.019877477215880988), (4735, 0.019876931768567675), (4674, 0.019872461930640586), (215, 0.019823547222553053), (2339, 0.019819301423240197), (1300, 0.019806105905880448), (3774, 0.01980598032645655), (3260, 0.019797500227260525), (1400, 0.01979419096801449), (121, 0.019786057623178803), (1226, 0.019776533223110467), (2156, 0.019776416067589172), (3743, 0.019767219452783133), (1036, 0.019743920090152713), (1875, 0.01973607407454884), (4742, 0.019708917872378738), (3386, 0.019707734293463872), (300, 0.019692927345382014), (2702, 0.019683815272512895), (2792, 0.019679796849386765), (806, 0.01967726612604423), (149, 0.019670861483860977), (2862, 0.019668134118958153), (1232, 0.019665552649295828), (3598, 0.019660376680450644), (360, 0.01964708514846508), (2329, 0.0196316682638166), (580, 0.019622350440063854), (3487, 0.019620454580804247), (2284, 0.01962030592568038), (1612, 0.01960215285678081), (1030, 0.019599127798366443), (3342, 0.019591988474225337), (2362, 0.01958770996882993), (474, 0.01958191905741463), (1431, 0.01955677475837123), (3019, 0.019554312124214566), (1124, 0.01954013592410355), (2127, 0.019536851658796848), (3001, 0.019535268810938443), (4727, 0.0195327350614621), (3951, 0.01952399595276244), (1144, 0.019515242405737085), (4402, 0.019509404344469128), (814, 0.019503818151324064), (3585, 0.01948586596048291), (3584, 0.01948017556680337), (2316, 0.019475591537577396), (1430, 0.019466659107235475), (4446, 0.019464093433901524), (860, 0.019462159908829033), (1597, 0.019437411805005075), (1330, 0.01942201561514599), (1888, 0.01939783761681855), (857, 0.019389329845918356), (3997, 0.01937101840906301), (314, 0.01935365588307695), (3652, 0.019353008458249117), (4289, 0.019352403818902762), (4089, 0.019335513842605734), (2655, 0.019332167986916702), (1522, 0.019291658378343627), (154, 0.019283820585737382), (3280, 0.019282470034088887), (2597, 0.019265995272721905), (4630, 0.019265259420119196), (668, 0.019263795945969615), (2291, 0.01925735168065589), (4244, 0.01924346679897066), (1403, 0.019221777255607846), (173, 0.01922077730703902), (1486, 0.019217504397462483), (3748, 0.01921612228063108), (4594, 0.01921297823447444), (2098, 0.01920804805556075), (456, 0.019179946336645836), (2793, 0.019160684366124715), (3883, 0.019147121196604635), (504, 0.019144249960531576), (3653, 0.019141758765153876), (4271, 0.01913047712750976), (5, 0.01912429274077209), (1583, 0.01911772163547684), (2440, 0.01911621910944085), (3692, 0.019104812378683795), (678, 0.019094200473253775), (3949, 0.01907525711361419), (4688, 0.019061385280230665), (2675, 0.019055938301694997), (147, 0.019014323563752322), (1864, 0.019013418934079505), (2857, 0.01899163822072439), (3027, 0.0189909505664198), (3824, 0.018990271196313212), (2823, 0.018977331475343508), (2128, 0.018971998142038475), (1148, 0.0189654093974895), (476, 0.01895673361954244), (644, 0.018951544073756814), (3638, 0.018939035203682137), (628, 0.01893249580655009), (4525, 0.018927703640758353), (4612, 0.01891066829890347), (1639, 0.018907943216425745), (3681, 0.018904309309699215), (62, 0.018901647675399834), (2482, 0.018897533611364144), (533, 0.018892885684175232), (1988, 0.018870088291522605), (2484, 0.01886006689632124), (3012, 0.01883245525735157), (448, 0.018827687266808977), (1167, 0.01882083775223614), (3412, 0.01882041822265646), (2488, 0.018802749317130458), (1857, 0.018801937467281874), (1007, 0.018799453194249745), (91, 0.01878532513472915), (458, 0.018742668695424063), (1266, 0.01874210115924895), (4660, 0.018731669010281247), (2274, 0.01872068184862278), (2421, 0.018717544609308485), (1581, 0.01871497463008512), (1373, 0.01869107315037648), (3454, 0.018687650932296896), (4052, 0.018646683488456404), (1446, 0.018639038446636377), (3603, 0.018624609009371337), (1722, 0.018607668639669186), (4663, 0.018605327970949537), (4174, 0.01857235926261841), (1995, 0.018569477962605007), (708, 0.018557652885098794), (2119, 0.01853257457051803), (3042, 0.018518208491767257), (352, 0.01849654265894233), (3282, 0.018462780664808585), (2219, 0.01845739550197977), (2681, 0.018455925166781014), (2245, 0.018446823274313823), (4689, 0.018444632073277425), (450, 0.018431624060106178), (158, 0.018428078770795157), (667, 0.018414403179574136), (1849, 0.018406004526311096), (655, 0.0183882315928956), (3847, 0.018386823653490342), (756, 0.018383745964624342), (2508, 0.01836134782432869), (2719, 0.01835635191178646), (4719, 0.018355085731786527), (65, 0.018347332096744308), (2303, 0.018344086893959423), (797, 0.01834250867324124), (3192, 0.018332220436067897), (2812, 0.01833021459804283), (2110, 0.01832976890916555), (4257, 0.01832258113322567), (2297, 0.018320233487730972), (14, 0.018314717439056914), (4116, 0.018313014228049554), (3604, 0.018302800859134872), (2535, 0.01828825153588621), (1825, 0.018274585767211325), (3211, 0.01827254333845652), (4584, 0.01827076864632712), (481, 0.018267330486525665), (2489, 0.018260857399836485), (1432, 0.01824443568728229), (1024, 0.018242353432651626), (3557, 0.0182156814966637), (3606, 0.018207494423015), (1325, 0.0182064212024129), (2136, 0.018183777799387783), (1755, 0.01817934520910795), (4232, 0.018173399226989465), (834, 0.018170949164212014), (4371, 0.01814565903645456), (2086, 0.01813700104660175), (1542, 0.01813407102238478), (4338, 0.018104488721487025), (210, 0.01810341046458521), (3057, 0.01810289155075244), (3204, 0.018093450301261173), (4645, 0.018091079525956483), (4255, 0.018086816910255876), (11, 0.01808112176394392), (4090, 0.01807937519551342), (2948, 0.01807101913578031), (4665, 0.018046679362885128), (2552, 0.018041794443907282), (3119, 0.018040526594774193), (3592, 0.018028091811418095), (2254, 0.018025249617059643), (3688, 0.018015190276101323), (81, 0.018015109529548913), (1565, 0.018010795414520567), (2502, 0.01801022407213686), (1691, 0.018007457475526584), (4617, 0.017997651026997102), (21, 0.017962930327643213), (2228, 0.017960054304816675), (3912, 0.01795590325377437), (992, 0.017949460587267672), (1010, 0.01794703455424744), (3992, 0.01794675528203589), (1634, 0.017942326468425862), (3261, 0.01792567301107611), (4133, 0.01792283101998038), (4231, 0.01791837470856488), (319, 0.017880113199244683), (3373, 0.01786965322750508), (1123, 0.017846522648120425), (3723, 0.017843750170663343), (810, 0.017843734493975513), (1025, 0.017835857247359612), (2629, 0.017832381674479644), (1130, 0.01781255682284987), (3966, 0.01781217122972383), (4327, 0.017810842608205167), (4060, 0.017802492458930966), (296, 0.01779570599380018), (2199, 0.01779086980992843), (4094, 0.01778412741875334), (4218, 0.017781076986137408), (1853, 0.017779852417702507), (4066, 0.017746433451932244), (1438, 0.017745569466966572), (3616, 0.017745070319550936), (2856, 0.017743685984791903), (4123, 0.01773592131385318), (2666, 0.017735529879691313), (4293, 0.017716556586588363), (4474, 0.017686340921626548), (1910, 0.01768629709971675), (240, 0.01767780344797575), (1823, 0.017675719727245368), (4273, 0.017672024307332918), (3264, 0.017667988474791087), (3583, 0.017667841997875477), (2187, 0.017657770444049706), (192, 0.017642197213010656), (4178, 0.017637630533352492), (2149, 0.017626441903175867), (3549, 0.017611522590497856), (429, 0.017604158518719992), (1075, 0.01759155907344004), (913, 0.017582115923164335), (4233, 0.017575957431965845), (2244, 0.017574026311441837), (4473, 0.017573857662741898), (2822, 0.017559044226885298), (3862, 0.017543155937475942), (2663, 0.01753864537856372), (4406, 0.017532551728469296), (350, 0.017528558223229945), (3564, 0.017528316985060348), (2431, 0.017526441027526127), (3535, 0.01752199926338038), (2163, 0.017514137575744007), (3803, 0.017511529567130986), (2600, 0.017507255589223204), (543, 0.017494746521739064), (2830, 0.017483239838631925), (4, 0.017470166740872123), (1235, 0.017468879071300673), (3033, 0.017440150971933528), (2336, 0.01741661259344614), (2464, 0.017412596583853593), (2619, 0.01741175699136323), (584, 0.017380670593883443), (3536, 0.017361557756382956), (2919, 0.017352626170559285), (2280, 0.017350288606427094), (4334, 0.01733119022022271), (1238, 0.017331085471408932), (2159, 0.01732236712527158), (835, 0.01732163961624327), (391, 0.017310936750864925), (2747, 0.017277684808378935), (1567, 0.017262808760700812), (3215, 0.017257578825434997), (2688, 0.017245767148612243), (114, 0.01723863490855695), (4706, 0.017238622843446898), (4113, 0.017234267342893017), (3076, 0.017221722931531194), (3960, 0.01722124364590178), (1387, 0.01721309517951229), (631, 0.01720421963558402), (2818, 0.017182023398964377), (652, 0.017181192119433517), (699, 0.01718017076696502), (805, 0.01717729818119406), (340, 0.01716854308057733), (1519, 0.017166488830471074), (2021, 0.017164559301746676), (3699, 0.017156818387057196), (1417, 0.01715572726583208), (3654, 0.01715495098808345), (2050, 0.0171509719309705), (1591, 0.01713751366273085), (2977, 0.017132556761070297), (1815, 0.01712922524753415), (3855, 0.017121418863754588), (3947, 0.017099881751392303), (2886, 0.017095393552599897), (3708, 0.017085066037783075), (4348, 0.017082502307300126), (1804, 0.017080843463699053), (885, 0.017068346500471822), (3915, 0.017062736881575398), (4642, 0.017037503207200343), (4747, 0.01702981486336248), (3201, 0.017028492369418256), (4309, 0.017003514066416134), (1178, 0.01700253085934691), (3964, 0.017000606437493706), (3643, 0.01699854389140483), (4136, 0.016992412727004264), (3357, 0.01698847516820358), (4207, 0.01698362288080294), (488, 0.016983312310529897), (3538, 0.016978441181668746), (253, 0.016964479124062792), (3983, 0.01696180034929983), (2277, 0.016961576005926904), (3210, 0.01694337894163593), (4236, 0.016942809421646908), (4437, 0.016929344518392446), (2077, 0.016923459481583525), (115, 0.01690677073017637), (2375, 0.01690245180070591), (949, 0.016894813645536393), (714, 0.01689214348663372), (1897, 0.01689045970274045), (3908, 0.016883095092623156), (4472, 0.016878304401644874), (3582, 0.016872999192169863), (1205, 0.016872501172515708), (2571, 0.016869463041340998), (1267, 0.016868945681147357), (4360, 0.016867510334020352), (2109, 0.016866873484098745), (1394, 0.016859505798487433), (3147, 0.016852987785148155), (1926, 0.01684995153314438), (2738, 0.016839868104758616), (616, 0.016838572362833478), (1663, 0.016823017993917496), (3321, 0.01681934396590799), (1898, 0.01681877435076367), (3998, 0.01681147016122486), (2626, 0.01679766800353824), (3957, 0.01679058837331849), (986, 0.016784607521602588), (22, 0.01672817197440543), (579, 0.016726519947979746), (3433, 0.01670739964739467), (3984, 0.016697189689732668), (4659, 0.016683682052958435), (1526, 0.0166753850991998), (854, 0.016663556897004085), (358, 0.016650604489321805), (3110, 0.016646138097753352), (1637, 0.016643904561238147), (4511, 0.016642379198194168), (682, 0.01664214778056379), (386, 0.01663875044136859), (1427, 0.01662094660336564), (4512, 0.01658011113656527), (1518, 0.01657018394449018), (53, 0.01656961175943055), (1621, 0.016559276730128223), (1536, 0.016553369228831265), (3436, 0.016542782881733695), (312, 0.016540226469887634), (4013, 0.016538320998762283), (2961, 0.016534025275669623), (989, 0.01652153554201371), (3444, 0.016520473379160502), (2661, 0.01651635090165282), (3895, 0.016514276653133136), (506, 0.016487896436576027), (327, 0.01647955698588988), (773, 0.01647363337584376), (715, 0.016470228297241967), (1909, 0.016463327505870817), (2383, 0.01645306659520659), (2003, 0.016451799042604385), (3963, 0.016451386464369753), (2194, 0.01644647278024873), (4469, 0.016441578679645893), (461, 0.01643299779292346), (2391, 0.01643251776340377), (4685, 0.016427623070370947), (3046, 0.016411232848018507), (508, 0.016407833884796132), (3975, 0.016407381647349145), (1127, 0.016401316213741687), (4182, 0.016401192712244123), (1042, 0.01639333377592219), (2232, 0.01639156968388067), (23, 0.016370194630340344), (1280, 0.016354105773854218), (4227, 0.016335105235765923), (2576, 0.01633259338559527), (4059, 0.016328545737174016), (730, 0.016327888804077265), (436, 0.016321303559811682), (4018, 0.016317024401869513), (2698, 0.01630257824028388), (4398, 0.016299271652381295), (577, 0.016280619679533204), (394, 0.016278574585677892), (2819, 0.016269557041695623), (2195, 0.016268655448331754), (2635, 0.016259661702238363), (4295, 0.0162543961586266), (4038, 0.01623986217434223), (1244, 0.01623880770634371), (292, 0.01623417692143009), (4077, 0.0162331180579647), (2409, 0.0162189471714046), (4495, 0.016216491309693357), (87, 0.0162153581865266), (3745, 0.01621337696168454), (3388, 0.016210298321689985), (1055, 0.016210282106991252), (3660, 0.016198344839073436), (4392, 0.01617214456572275), (2034, 0.016171319975122618), (2049, 0.016159039894892684), (709, 0.016156025925587854), (2317, 0.01615573278240713), (136, 0.016151585428632424), (4468, 0.01614929742471416), (4717, 0.01613801217686715), (3128, 0.016133745052904373), (3618, 0.016101670656194823), (3471, 0.016098640579298322), (1003, 0.016092323536149398), (471, 0.01608309978698476), (1121, 0.016034980229875068), (1633, 0.01603168558234953), (1769, 0.016024459561581474), (4464, 0.01600531512173976), (4324, 0.016005207499807154), (1169, 0.015995572799281727), (4375, 0.015985507106727925), (3155, 0.015985392966133927), (821, 0.01598139242711425), (3502, 0.015965430361773357), (589, 0.015961088755464578), (187, 0.015960323209966612), (3151, 0.01593893890500139), (1934, 0.015931110980472236), (3812, 0.01592819861056416), (3784, 0.015926599809659617), (542, 0.01592234659094109), (527, 0.015917123147934115), (1623, 0.0159079570789458), (630, 0.015907114871628363), (2419, 0.015905977763484597), (3768, 0.015900525883151356), (2399, 0.015897485911218978), (4287, 0.01589511955914239), (406, 0.015893809231907103), (3484, 0.01588301926535725), (2850, 0.015875199195102226), (2207, 0.01586256135289218), (232, 0.015862071398828267), (1778, 0.01586156983761751), (1439, 0.015852040613301095), (1264, 0.015851245759119826), (3083, 0.0158303122357211), (2116, 0.015819537861379726), (1609, 0.015818072893629073), (3323, 0.015814453603313443), (4335, 0.015805969719228), (3558, 0.015805594180081147), (3787, 0.015805463888323268), (608, 0.0157917422364363), (4353, 0.01578634091071367), (236, 0.015778089647855837), (2794, 0.01575911953303491), (8, 0.015752305656312585), (3969, 0.015744675217615342), (1625, 0.015727543916572398), (3888, 0.01570926022926244), (4585, 0.015699452724967648), (3523, 0.015696544021255684), (4197, 0.015684649259907833), (512, 0.0156774664675691), (4340, 0.015658484073213005), (2957, 0.015658109792296905), (1690, 0.015654306518008795), (1733, 0.015646256264188214), (3070, 0.015645659207061208), (748, 0.01563295443198405), (4361, 0.015632679332979228), (3399, 0.015632614046019455), (4056, 0.015624187804188103), (3177, 0.01560406735023252), (4541, 0.015602017805611684), (843, 0.015594757341315706), (1183, 0.015591362009846269), (1476, 0.015587560457015539), (4105, 0.015576282057278602), (2627, 0.015570161919082693), (139, 0.015569335484242216), (3334, 0.015568855661950449), (1233, 0.015567635977705573), (416, 0.015566782055477926), (3865, 0.015562121510192154), (318, 0.015558188718143125), (1694, 0.015550849360834538), (1724, 0.015544720323657972), (459, 0.015535269186982368), (2588, 0.015531654238464402), (3005, 0.015522821268005542), (329, 0.015520255044241035), (1927, 0.015509812227013031), (3445, 0.01550516530075159), (1667, 0.015480635629276094), (443, 0.015479766261812456), (1260, 0.01547935201417213), (213, 0.01545835894980679), (2678, 0.01543451994507103), (3552, 0.015413569983285257), (2213, 0.015400180222592007), (388, 0.015398529025948382), (1659, 0.015388175951401038), (3367, 0.015382347159066837), (549, 0.015378780024792628), (1019, 0.015376400738821655), (439, 0.015369495478984103), (2673, 0.01536758995887177), (4649, 0.015366509882255948), (2750, 0.015366135927384407), (200, 0.01533788604090881), (2377, 0.015315169109187097), (3406, 0.015307568526084916), (432, 0.015289910473237061), (2789, 0.015270009201655398), (2360, 0.015267273128003682), (3125, 0.015265475863356644), (615, 0.01526110807569581), (2940, 0.015252135567562407), (1582, 0.015242375744466866), (1079, 0.015204917996801678), (1449, 0.015198673112116323), (4274, 0.015193708853004518), (2078, 0.015189335734512227), (1088, 0.015167660807504748), (380, 0.015153136748394691), (3630, 0.01513933026404176), (1381, 0.01513669879976523), (4418, 0.015128549105331672), (809, 0.015119121588090301), (1832, 0.015112678082950283), (1657, 0.015089152558651824), (634, 0.015087296758262557), (1084, 0.015075765152605267), (302, 0.015065868171502194), (1361, 0.015057161202926213), (4101, 0.015043301557080915), (1102, 0.015026015421861999), (1250, 0.015015737324882223), (1549, 0.015015406071594508), (1180, 0.01499915989289409), (2326, 0.014996874878797544), (27, 0.014996791778015073), (2618, 0.014994234596973138), (1902, 0.014993216715501296), (769, 0.014991585922775028), (2736, 0.014990838892002936), (1748, 0.01498484915199339), (3178, 0.014983837886043216), (2346, 0.014961894271101806), (2567, 0.014937503212203876), (3540, 0.014927866237897328), (582, 0.014911403262557122), (4284, 0.01490465331652339), (4448, 0.014902458743736404), (3534, 0.014901775852935428), (1906, 0.014873315561607993), (24, 0.014872241297276882), (2965, 0.014869759240072764), (281, 0.014855400553480683), (486, 0.014847032604553785), (141, 0.014846171010470362), (3016, 0.014843076319968795), (295, 0.01483884167344507), (1882, 0.01483383556810819), (286, 0.014819198298759384), (1653, 0.014813253867462147), (573, 0.014810979789921536), (1908, 0.01481075232413251), (2271, 0.014810096328673281), (3184, 0.014803784295146415), (1455, 0.014779356981721987), (3164, 0.014777401991504523), (1886, 0.014764252591184326), (2198, 0.014760525556085716), (1374, 0.014743105951688831), (3486, 0.014740594972779172), (4148, 0.014739436007053828), (4499, 0.014732704335031837), (4587, 0.014729746823296508), (3355, 0.014724678932142719), (4557, 0.014719788598790784), (4028, 0.014713380596697717), (2711, 0.014705659346413722), (4120, 0.014702851841180364), (3235, 0.014693067878758213), (3833, 0.014661393133442151), (617, 0.014655428642326945), (979, 0.01464658404326073), (2980, 0.014638166843818485), (2298, 0.014627314102692955), (2972, 0.014625781407772105), (2166, 0.014613130897881924), (2503, 0.014609048823932326), (3733, 0.01460340415601524), (2906, 0.014592860730464964), (4575, 0.014583240074070988), (3932, 0.01455712526744418), (1353, 0.01455068742858048), (2639, 0.014543535134027362), (3283, 0.014534847730386163), (1655, 0.014523889492229259), (3580, 0.014522744179879556), (3511, 0.014508361481484284), (2099, 0.014502903965898048), (4091, 0.014493290289687613), (968, 0.014492704684242), (174, 0.014477896159012503), (244, 0.014475767640819575), (4135, 0.014472202990836323), (4497, 0.014465538262366998), (1924, 0.01446521409415167), (1406, 0.014462004929073844), (3754, 0.014453253974351432), (235, 0.014446169681310825), (3000, 0.014442214305783496), (2855, 0.014441104445086604), (4627, 0.014435334926085494), (492, 0.014434515772310613), (153, 0.014420792959996247), (3267, 0.014406192814230296), (4048, 0.014405884939863951), (19, 0.01440054646465375), (1346, 0.014393334294006441), (3878, 0.014391187272455945), (4447, 0.01438658980696799), (2562, 0.014384103220340828), (2227, 0.014354688610229253), (2057, 0.01435031340603649), (1729, 0.014338844533119026), (2097, 0.014319830990917097), (1735, 0.014310566895032168), (272, 0.014307295166248997), (321, 0.014294056036978111), (3593, 0.01428739418599091), (3172, 0.0142868814708529), (2899, 0.014279631535052904), (2352, 0.014278374662267215), (2918, 0.014256084141881956), (4543, 0.014252830180412592), (1389, 0.014233145323249303), (1150, 0.01422695461186621), (1874, 0.014221307130084626), (746, 0.014215778074758056), (2863, 0.014211205262037308), (4076, 0.014210074673114168), (1230, 0.014203022025212009), (2800, 0.014195999686535982), (1758, 0.014188149715169279), (420, 0.014183620295720052), (4081, 0.01418360842805773), (4211, 0.014171740698378503), (4394, 0.014160106325825147), (1080, 0.014141820254377064), (2380, 0.014137991383854265), (2162, 0.01413138536715478), (381, 0.014127618845942297), (3554, 0.014123322161833927), (3809, 0.014121512159994187), (729, 0.01411917378554962), (2411, 0.014112101774073743), (3131, 0.014111938054132847), (2749, 0.014070567458362127), (3290, 0.014065026373510611), (1355, 0.014050036364104844), (4478, 0.01404810559584399), (397, 0.014042351153628806), (2761, 0.014036856024895064), (3821, 0.014032667706338636), (1602, 0.014023687943954179), (3245, 0.014020578010859269), (1843, 0.014019700554060944), (1281, 0.014017808033901513), (2286, 0.013993166903114484), (3555, 0.013992295449620593), (1339, 0.013987161873066888), (3897, 0.013985029196695073), (2150, 0.013981067404376449), (1426, 0.013974718943869084), (3287, 0.01397303459771035), (2398, 0.013968709593606785), (128, 0.013964485437501036), (2758, 0.013960345504271703), (1805, 0.013944608861131998), (2774, 0.013943985450168684), (494, 0.013940394113799437), (765, 0.01394037609053935), (1535, 0.01393799622933602), (1388, 0.013937117243695788), (2402, 0.013933432898774011), (4184, 0.013933321592135672), (61, 0.013926138315760072), (3335, 0.013925899820746792), (1083, 0.013924923248873974), (3575, 0.013913483306141124), (1827, 0.013912809863957655), (2849, 0.013911796628218794), (1380, 0.0139109809362971), (4349, 0.013870135651037216), (1027, 0.013869835597416552), (3200, 0.013859504804715055), (3169, 0.013856443557751164), (2518, 0.013851308400856036), (197, 0.01383971773945197), (3566, 0.013838689408401286), (2563, 0.013838602752934668), (3683, 0.013835599469877616), (2439, 0.01383198592081642), (2893, 0.01382905401237558), (3533, 0.013829005816287555), (1401, 0.013809985121140579), (2783, 0.013807469308315955), (1190, 0.013786020498786054), (4621, 0.0137835024384838), (2015, 0.013773287827712461), (2529, 0.013757090197285113), (2672, 0.013752387007222061), (4320, 0.0137478743374214), (1152, 0.013742437158134346), (3775, 0.013731915619066965), (4108, 0.01372925339511862), (3771, 0.013714155862739105), (224, 0.013709540192643647), (2041, 0.013707743727297916), (50, 0.013703968373546706), (4490, 0.013693477381584641), (3014, 0.013692814976619127), (4277, 0.013676847969856284), (1789, 0.013664062419193417), (1069, 0.013653957184757258), (304, 0.013642353924579865), (2218, 0.013640602424810421), (695, 0.01362930086599536), (2075, 0.013624194507871203), (4009, 0.013612563689871113), (4635, 0.013586692224791542), (151, 0.013573372665602221), (120, 0.013571443396652089), (4235, 0.01355812279620067), (1359, 0.013556097290307708), (1303, 0.013543065083706188), (76, 0.01352016016626562), (2718, 0.01351791137105301), (1334, 0.01350862683647433), (2764, 0.013501970020674532), (503, 0.013498769061496614), (1989, 0.01349147363340579), (2802, 0.013477211396587706), (3528, 0.013457367077583318), (2907, 0.013452156486537055), (4514, 0.01344468587587929), (3973, 0.013431750268572384), (1023, 0.013421235446226832), (4002, 0.013416028942998388), (3916, 0.013414774716082172), (3143, 0.013408298716028465), (4372, 0.013407202600547827), (2630, 0.013406745067402553), (268, 0.013401445616786734), (507, 0.013398943466710894), (959, 0.013387362862809036), (2278, 0.013381602786143486), (355, 0.013374687068655106), (994, 0.013372926045141478), (2458, 0.013371179328528215), (914, 0.013370644092844703), (3188, 0.013370132631105912), (4183, 0.01336805560237296), (2842, 0.013366923022431849), (1440, 0.013362349913417566), (3772, 0.013361236038798859), (794, 0.013358246820510712), (3703, 0.013358110606820026), (203, 0.013346595030436588), (3230, 0.013336900645023627), (1125, 0.013334786258249276), (2743, 0.013324325395901357), (3298, 0.013313922380449518), (3899, 0.013304570566856019), (1231, 0.01329737114226788), (1922, 0.013283886969213201), (2934, 0.013255076735792709), (1246, 0.013254987978623987), (614, 0.013254483191923818), (2446, 0.01325372747579995), (1640, 0.01325208937224342), (4352, 0.013231288442276183), (1078, 0.013221914294872936), (3651, 0.013215277469948335), (1390, 0.013200533702369534), (3213, 0.013197136958942295), (4452, 0.013196420301483288), (2549, 0.013192648306283222), (2405, 0.013175399429882283), (1646, 0.013172297587491614), (1520, 0.013171298082361123), (4536, 0.013168063700159088), (1588, 0.013152516078388837), (2366, 0.01314555425260739), (2776, 0.013133980726027884), (2608, 0.013126828278343838), (3861, 0.013125422704060218), (3197, 0.013120920357109076), (1589, 0.013111828856081914), (4268, 0.013106056119176031), (1887, 0.013091407171847654), (32, 0.013088817215290548), (3911, 0.013083886579362007), (3461, 0.01307870935361395), (671, 0.013069796568318227), (4470, 0.013054035255589179), (4073, 0.013046397260791102), (1540, 0.013035744422018103), (2954, 0.013029539329426293), (311, 0.01302480516070031), (361, 0.013024497907793085), (157, 0.013016544425667435), (1349, 0.013016396026402005), (3587, 0.013013227539824354), (4368, 0.013001437412332194), (2208, 0.012998526498874733), (3161, 0.012979723949083373), (2347, 0.012966779955958664), (58, 0.012963423022167998), (1253, 0.012956402796543906), (2004, 0.012954133372783084), (3596, 0.012953541875811797), (64, 0.01294877306358518), (735, 0.012941027535896897), (4553, 0.012938782232254885), (3277, 0.012919353381467772), (1977, 0.012914258300029307), (3311, 0.01290822499630154), (1474, 0.012883167674699648), (3316, 0.012871186056655798), (438, 0.012870575579570137), (1154, 0.012868138423811126), (4730, 0.012863933479426456), (377, 0.012840953864297087), (518, 0.01283656936346505), (745, 0.012830097186459773), (4140, 0.012828426930583153), (3870, 0.012827260495775166), (1309, 0.012822165780578213), (4096, 0.012819584999041414), (100, 0.012818051089017693), (152, 0.012809434520454688), (3378, 0.01280337554709426), (99, 0.012797441599381416), (4307, 0.012780374508529188), (1613, 0.012762412286733051), (2241, 0.01275894532446159), (758, 0.012755548109500008), (2991, 0.01275538997061538), (1702, 0.012752648262303877), (1347, 0.012740554417451685), (2968, 0.012734913263557598), (3720, 0.012729018688402115), (1155, 0.012725636370376336), (2080, 0.012714154023641656), (2432, 0.012714138008273534), (4222, 0.012710181797814043), (3930, 0.012702570345385385), (2222, 0.012673453139455716), (3479, 0.012656463641175958), (859, 0.012652686358937505), (4738, 0.012651619100682595), (3244, 0.012647318136260126), (1632, 0.012646738074114323), (396, 0.01264554596785527), (1961, 0.012640049058308643), (1848, 0.012639088706224166), (4383, 0.01263172605915135), (3842, 0.01263029823732769), (1345, 0.012629304270590936), (3722, 0.012615288005560577), (1726, 0.012590743674579996), (1525, 0.012580143163577782), (2547, 0.012578652951822436), (1293, 0.01257045576356256), (2020, 0.012566690957521557), (1564, 0.012566236950134145), (1854, 0.012563964581798277), (1833, 0.012551001191491978), (3379, 0.012548122700586641), (390, 0.012536793071169797), (3171, 0.012517591619178921), (260, 0.012510931352978814), (4752, 0.012507126318272537), (4618, 0.012502348590682227), (2737, 0.01250143033518748), (4707, 0.01249859043125071), (2340, 0.012493680553370797), (3706, 0.01249079471347275), (1160, 0.01249026078746238), (1322, 0.012490210668249149), (3361, 0.012486272194973773), (1627, 0.012469811436489005), (1457, 0.012465484516449325), (127, 0.012462157841275127), (28, 0.01245753685333188), (1475, 0.012447100351686901), (2832, 0.012437306356436455), (2100, 0.012434907298326614), (3650, 0.0124324239132286), (4292, 0.012427678295037931), (4350, 0.012423104106955902), (3182, 0.012422508418384832), (1376, 0.012418517359827692), (1751, 0.012413909389601126), (3145, 0.01240993134196827), (2168, 0.012408379044838396), (1573, 0.012400912541707308), (1094, 0.012386949076080083), (1577, 0.01237681905641171), (1159, 0.012375131369296235), (4299, 0.012360450517769574), (3548, 0.012356354834953873), (3622, 0.012354244913021395), (974, 0.01234785076551339), (4171, 0.012340081799968736), (2569, 0.012314742261459417), (2682, 0.01230645831246458), (264, 0.012286596184777482), (680, 0.012285585161425583), (1860, 0.012279136942746922), (3453, 0.012273988252916788), (3393, 0.012272801946873142), (1896, 0.012255227583808441), (308, 0.012244223093359987), (1099, 0.012232634144726749), (1734, 0.012224959657092884), (1022, 0.012213590837965718), (525, 0.01220401845013051), (2052, 0.012196738104052529), (1918, 0.012196516706202334), (374, 0.012195444994928835), (3270, 0.012189928562802873), (1213, 0.012189821774983123), (1225, 0.012181082534430066), (3818, 0.012167823761850521), (2155, 0.01214859016391463), (558, 0.012134336618829858), (1034, 0.012131484221884115), (2838, 0.012111547762301417), (1447, 0.012102133015864424), (4134, 0.012102130812449947), (2701, 0.01210121744637931), (4042, 0.01209367090166662), (1548, 0.0120911512073367), (2971, 0.01207424622364951), (3505, 0.012068175473521146), (3578, 0.012056591795050052), (1649, 0.012051856031327992), (4339, 0.012048931039099153), (717, 0.01204703345414681), (4656, 0.012033161599086368), (1993, 0.012018490960020702), (1990, 0.012017162705709575), (4035, 0.012012998046158373), (4112, 0.01197638516044659), (3797, 0.011971864969559237), (3920, 0.011965824822186322), (637, 0.011957089517977276), (3114, 0.011949013063314109), (3047, 0.011932004699736177), (285, 0.011917988363659735), (3300, 0.011904621760764357), (4011, 0.011897075166822023), (743, 0.011865265563774539), (1368, 0.011838300334405133), (3562, 0.011818386908749782), (4411, 0.011807813223179194), (585, 0.011803318182430812), (258, 0.011799929488922103), (3067, 0.011795298406672322), (440, 0.011793857056107533), (1611, 0.011790710708388148), (2448, 0.011784341395346988), (2829, 0.011755360941026687), (3956, 0.011728767388003387), (437, 0.011728657898305616), (4676, 0.01172143316391233), (777, 0.011712669336719994), (143, 0.011706124170194069), (4194, 0.01169956378815732), (498, 0.01169728166151944), (4599, 0.011693950613473433), (1870, 0.011689065935986117), (3662, 0.0116612754717943), (1562, 0.011659460432696481), (1574, 0.011657720148613718), (2631, 0.011651942461249558), (3513, 0.011645746992306638), (1316, 0.0116306255373072), (4686, 0.01162264610569965), (3712, 0.011622442578122241), (1638, 0.011621866258790003), (4604, 0.01161461624357659), (1340, 0.01160678660760732), (2408, 0.011605355508486933), (1295, 0.011605077083362957), (3163, 0.0116044192107726), (2797, 0.011599896437818117), (3491, 0.011597569624271834), (4390, 0.011596029592293557), (188, 0.011590955882798227), (3859, 0.011573985937392915), (514, 0.011562010853448948), (4330, 0.011558659285083046), (1664, 0.011558011800777753), (2311, 0.011541908759414835), (2039, 0.011540853668729065), (1670, 0.011524590182332916), (562, 0.011524230109332349), (3320, 0.011523961270582186), (3174, 0.011521375607955029), (2900, 0.01151548096720824), (1089, 0.0115030351829986), (4225, 0.011494139890589384), (2530, 0.011468704265441287), (4223, 0.011460858077832129), (1020, 0.01145498053896686), (3257, 0.011419462812972452), (1559, 0.01141571950233409), (470, 0.011410257911163218), (2615, 0.011397715388301474), (3413, 0.01138315846893865), (241, 0.0113553939467852), (1866, 0.011353560953242203), (234, 0.011352263303761694), (893, 0.011350705212618105), (413, 0.011335501826165226), (1603, 0.011332493382900929), (3950, 0.011332472256167193), (2434, 0.011329726188047541), (2801, 0.01131501593185762), (2491, 0.011312479958952472), (3776, 0.011296740349386335), (482, 0.011292191515030706), (3190, 0.011287380399484903), (4100, 0.011280365834079412), (2753, 0.011275329455039422), (2273, 0.011267797425876934), (4581, 0.01126305037231858), (1120, 0.011245654917050938), (2466, 0.011245104778672585), (3525, 0.011242503111954938), (1049, 0.011237692278261121), (2662, 0.011236012111608523), (1794, 0.011227173392910158), (4114, 0.011223254478611413), (3308, 0.011219817818875173), (2124, 0.011212789712887096), (786, 0.011210984764708137), (1050, 0.01121065088009131), (2986, 0.011209961679095668), (4449, 0.011207936886364745), (4550, 0.011199177889582355), (2591, 0.011181053681528733), (431, 0.011176604672346293), (4022, 0.011168465576261498), (491, 0.011167042946034187), (4213, 0.011164429045045181), (1288, 0.01116374670176367), (3028, 0.011163455269794982), (1645, 0.011160127196107707), (1940, 0.011157654146197737), (2268, 0.01115689266606413), (2570, 0.011154279831245065), (3759, 0.011152412532867568), (1969, 0.011148479420175529), (639, 0.011138171458006356), (1187, 0.011134714724014564), (3917, 0.011112652513602621), (921, 0.01111224395953388), (838, 0.011102406464686965), (1488, 0.011101327817384135), (1933, 0.01109603901236621), (4298, 0.011070072202171844), (1504, 0.011052234182662999), (493, 0.011039734800728018), (3422, 0.011035798257646364), (2514, 0.011023330233772988), (2331, 0.010982526528379099), (3341, 0.0109802881736029), (3569, 0.010973422572940858), (4428, 0.010969427215982085), (1606, 0.010961111105554127), (3408, 0.010959577846396373), (1658, 0.010958428407424354), (252, 0.010948956406317113), (3117, 0.010944120795977865), (1742, 0.010922973175283195), (539, 0.010919752695296244), (4488, 0.010913125313559934), (764, 0.010912298827444855), (2872, 0.010909068007383272), (3779, 0.010896091687268681), (1320, 0.010893227963147614), (3289, 0.010889842524449973), (4453, 0.01087613084060482), (1468, 0.010875721330417993), (3952, 0.01086821601346087), (231, 0.010864456083478658), (660, 0.010861299194622023), (2590, 0.01086093494024628), (400, 0.01084909200026457), (985, 0.010841127053361155), (1963, 0.010829792139425943), (4117, 0.010818341242561539), (1998, 0.010790208300014923), (2648, 0.010788556933001514), (2470, 0.010788388372965753), (1011, 0.010787657260084073), (2532, 0.010783731056603938), (4634, 0.01077949405549591), (2566, 0.010777894059811045), (2270, 0.010768087561703622), (3411, 0.01076482357350109), (2388, 0.01075429239379512), (998, 0.010743571862888709), (999, 0.010734778998104556), (2396, 0.010722608638285672), (98, 0.01072178975868767), (1181, 0.0107172905525093), (816, 0.010710413897875476), (641, 0.010688161798670097), (2909, 0.01067898098771063), (747, 0.01064966364588632), (3944, 0.010632618964488128), (3817, 0.010625862569926444), (1395, 0.010617493830951513), (1521, 0.01059692747046054), (4549, 0.010596500145362337), (2891, 0.010591120180490281), (3728, 0.010584312713195723), (2132, 0.01058316812926246), (2920, 0.010569844815172686), (4733, 0.0105647260459843), (3773, 0.01056176793395835), (2247, 0.010554715965674283), (2371, 0.010552028221020257), (4725, 0.0105299700011184), (2847, 0.0105263215825724), (233, 0.010522591350264522), (2108, 0.01051888574564162), (1554, 0.01051081380769551), (4264, 0.010506396390479674), (2233, 0.01048254464883981), (3307, 0.010481605188143062), (3009, 0.01046970688882699), (4263, 0.01043819543710506), (4508, 0.010435221134814257), (2500, 0.01043208926227078), (90, 0.010425630477199112), (4675, 0.0104233778037344), (2344, 0.010419379821770188), (2204, 0.010401110738661975), (4074, 0.010396184086284717), (2781, 0.01039539656522373), (3986, 0.010394201393533085), (1056, 0.0103928296591181), (3974, 0.010392686086497254), (2019, 0.010390951856179382), (4143, 0.010384205194315797), (722, 0.010380137400023548), (3183, 0.010377896375412914), (3617, 0.01037082199352869), (1808, 0.010360396703093563), (1837, 0.010360024471450742), (3254, 0.010357838637223374), (4516, 0.010347166410767399), (4407, 0.010344453962265111), (3219, 0.010335143036623086), (1905, 0.010332251230880538), (704, 0.010328505544802417), (3481, 0.010326366749724553), (2601, 0.010322608042957702), (2580, 0.010311578406363497), (2748, 0.010305576976659448), (3258, 0.010305361788594494), (2121, 0.010299522184979995), (3348, 0.010283444407641304), (3889, 0.010278090048823916), (940, 0.010258117235576238), (3611, 0.010252640911421477), (2263, 0.010251955205579108), (880, 0.010248457668106642), (495, 0.01021749862088607), (3276, 0.010203796640558196), (3496, 0.010172785985070223), (184, 0.0101726924849285), (603, 0.010159851241419037), (1031, 0.010156034123024743), (3309, 0.010136767923544496), (3894, 0.010131544157094972), (3724, 0.01012838558813879), (900, 0.010115273283740013), (2579, 0.010114356128227133), (4613, 0.010111986846242997), (1342, 0.010108660227168968), (3601, 0.010107201277473114), (4357, 0.010102235132636125), (73, 0.01010084667491204), (4535, 0.01009965101452032), (125, 0.010095586306932853), (546, 0.010094868839594847), (1301, 0.010092584570602438), (961, 0.010078312216121337), (3325, 0.01007372218724378), (3925, 0.010061395201748978), (457, 0.010049676874722356), (599, 0.010049229444861378), (537, 0.01003805229466368), (1713, 0.010013720045253846), (2973, 0.009998853798389409), (1434, 0.009996981486410593), (4639, 0.009989425918728301), (2385, 0.00998179262590931), (298, 0.009978240535023055), (3882, 0.009974278979222366), (1828, 0.009967973341510764), (2176, 0.00996113430977843), (1108, 0.00993903338139216), (2259, 0.009930130763474957), (2442, 0.009915486652363952), (219, 0.009910950910510613), (4602, 0.009900177043536351), (4565, 0.009888710447103054), (4356, 0.009882303988092325), (4198, 0.00987287164574613), (3800, 0.009864624656420979), (3697, 0.009859413129933185), (2803, 0.009845416701811577), (256, 0.00983105717419831), (1352, 0.009812891351834614), (4609, 0.009807881325665154), (2067, 0.009803814101124329), (4422, 0.009793635978243464), (4337, 0.009791662296990505), (3198, 0.00979023958298851), (1753, 0.009784774688436235), (455, 0.009780357215449587), (1435, 0.00976009534194508), (3387, 0.009738198914165127), (1704, 0.009737079013759567), (800, 0.009724156606088535), (2853, 0.009696396717731315), (4493, 0.009692244063912104), (2087, 0.009680947277919107), (4044, 0.009673674010301392), (4166, 0.009652940688680611), (3928, 0.009649718632240133), (2746, 0.009636032942784305), (3217, 0.00963530425733436), (2414, 0.009628678701640655), (1028, 0.00961377105876135), (1533, 0.009613427014789552), (4755, 0.009610076345804235), (3078, 0.00960799666100229), (3647, 0.009588046382892698), (1110, 0.009578929340958801), (1410, 0.009578405262359507), (315, 0.009575945626599781), (4471, 0.009568745787963736), (4310, 0.009556255953523277), (299, 0.009550583843784089), (4006, 0.009546498563661222), (3955, 0.009532384576532542), (2614, 0.009511359905040635), (1065, 0.00950351206962671), (610, 0.009497238786780578), (421, 0.009489246045590382), (3048, 0.009480189019641075), (2337, 0.009475108180410478), (3936, 0.009458816832949104), (3286, 0.009457263892304278), (2526, 0.009451931351811145), (4241, 0.009446983482379951), (4354, 0.009439468901735101), (2983, 0.009436579685715978), (339, 0.009426410287516099), (2999, 0.009423383888700097), (1954, 0.009412825583865615), (4419, 0.009406935205892628), (3746, 0.009403162588452231), (712, 0.009388029384453305), (2543, 0.009381934151304266), (3239, 0.00937413810570441), (1407, 0.009371517525122964), (2349, 0.009359187453100552), (2308, 0.009357271297348226), (3619, 0.009353992320854309), (150, 0.00935055699291155), (1145, 0.009347153310487227), (2407, 0.009343772173738753), (3180, 0.009342735563901998), (1313, 0.009338821584503297), (3368, 0.009325919225778231), (2687, 0.009323991452540628), (1846, 0.009299840990223514), (3485, 0.009297314092471148), (1747, 0.009291921573836593), (3994, 0.009282662377321232), (2945, 0.009276900701883646), (4563, 0.009252871907530068), (4603, 0.009232854203036583), (1408, 0.009230049584417213), (4173, 0.009229089131688167), (2679, 0.009221591889928129), (1801, 0.009195612841103129), (3065, 0.009189308217054923), (2775, 0.009176492569112994), (3053, 0.009166620521752907), (3030, 0.00915714328599683), (3567, 0.009151810432391086), (2883, 0.009147282540205297), (313, 0.009139114727626643), (4279, 0.009134502235444677), (205, 0.009133947940831465), (1207, 0.009120283252376361), (1576, 0.009117772928517752), (4501, 0.009116468069421155), (4522, 0.009106052872657632), (229, 0.009085406492050299), (2306, 0.009084623547433248), (3291, 0.009083651711645255), (598, 0.009079843061892882), (3832, 0.009076896037357889), (171, 0.009067211050970664), (3329, 0.00904881816172751), (3214, 0.009047721211812635), (1466, 0.009029009188201164), (1212, 0.009026071140644364), (3478, 0.00902344981902093), (1761, 0.009011839830193847), (2242, 0.009007977571923325), (4408, 0.008977077805784727), (3006, 0.008976986867545483), (3193, 0.008973028544928008), (996, 0.008968648942062118), (3790, 0.008965540948547037), (548, 0.00895745145723979), (3194, 0.00894517494898112), (2400, 0.008944874914769795), (3758, 0.008942640215731741), (2157, 0.008935026730183395), (4483, 0.0089193723408478), (3742, 0.008901503767786772), (2333, 0.008900784774537622), (1693, 0.008898212038652207), (1372, 0.008890118279343169), (4638, 0.008889607408218862), (3686, 0.008888810692256648), (3173, 0.00888640506982798), (2559, 0.008885871984366842), (3017, 0.008883614746832198), (4329, 0.008857012632373016), (2009, 0.00885570157642976), (335, 0.008830775100965579), (4191, 0.008823421236785041), (2226, 0.00882332401618549), (3209, 0.008821935713964535), (2542, 0.008816681207930452), (2201, 0.008816057593753755), (3500, 0.008792493109856043), (528, 0.008783130541445765), (2843, 0.008770359357049484), (522, 0.00875904244435961), (2643, 0.008742138784180845), (1012, 0.00873596443220559), (567, 0.008727229823411476), (3514, 0.008723278996381235), (964, 0.008722199056061192), (4615, 0.008717957214178451), (1607, 0.008715352899393807), (815, 0.008706327938142196), (2389, 0.008688882475367126), (3050, 0.008682823812886799), (337, 0.008669690510294151), (3349, 0.008669090241531502), (2117, 0.008655393304104857), (1171, 0.008652652921827328), (3497, 0.008640811878679815), (1773, 0.008640076775854787), (2372, 0.00861232876258524), (2759, 0.00859293895995152), (4085, 0.008588269720421877), (3304, 0.008581413608926626), (3015, 0.00856563557049521), (3851, 0.008560774863228125), (647, 0.008550468869919906), (1424, 0.008536345249315885), (238, 0.008522430586367782), (535, 0.008511256700164246), (3140, 0.008506856970921902), (2186, 0.008475004557127453), (4574, 0.008467745190625868), (882, 0.008467336939931925), (2520, 0.008447957593811442), (1939, 0.008434888240720974), (2417, 0.008407210609328598), (2646, 0.008406815348706114), (4104, 0.008400416281986688), (2420, 0.008375205431414266), (4286, 0.008361373789045376), (4306, 0.008356965476608167), (4498, 0.008354732395418143), (4580, 0.008343606178843596), (3004, 0.008325680378680434), (2266, 0.008323152793036562), (3242, 0.008303040785918574), (3808, 0.008301721035334397), (4463, 0.008299448933026513), (4261, 0.008279174377273345), (326, 0.008278082270657013), (4537, 0.008273427020418679), (468, 0.008252086471387764), (3302, 0.008235875971553782), (2966, 0.008217238584727744), (3423, 0.008216014816457907), (293, 0.008213937557659926), (103, 0.008208548953441003), (987, 0.008202755292487707), (2415, 0.008202227946962121), (3715, 0.008201448478716285), (4008, 0.008196542856788799), (2, 0.008196171474980174), (3347, 0.008179301034718688), (3365, 0.008146666848953352), (3252, 0.008120258587565557), (1783, 0.008116273599571745), (489, 0.008086101803254805), (146, 0.008065245648036845), (4458, 0.008061801019333683), (1441, 0.00806037179745485), (2880, 0.008058610851573975), (3732, 0.008036452426599781), (3574, 0.008035628368715336), (1673, 0.008030390081809696), (972, 0.008014062258785228), (575, 0.008013363460379546), (3175, 0.008012154526691082), (754, 0.008010507897808506), (186, 0.007988110049668392), (1706, 0.00798047722442234), (2505, 0.007974355779520707), (4632, 0.00796911794283446), (3844, 0.00796459048499349), (4315, 0.007962475409500297), (2315, 0.007950718513947339), (1098, 0.007946657147261418), (4145, 0.007940261039419694), (2445, 0.007939273356334707), (2172, 0.007931587132580084), (2151, 0.0079273788498763), (1885, 0.007920147456997524), (920, 0.007918753913250592), (4427, 0.007899572684161572), (4027, 0.007895325083426203), (2348, 0.007870577094058548), (3359, 0.007866551246393304), (3072, 0.007856392760654654), (1955, 0.007853875146519352), (3425, 0.007832244046221142), (1398, 0.007824958694310177), (4713, 0.007824942606192663), (2249, 0.007819338194702572), (3061, 0.007817540711704922), (257, 0.007813755389561642), (4369, 0.007776709244115696), (3165, 0.007763848753490612), (265, 0.007763359641745559), (784, 0.007752707404560861), (591, 0.00771298381452595), (1708, 0.0077121312035609915), (3489, 0.007707233373122475), (2148, 0.007706601414310145), (4311, 0.007699651362981965), (4243, 0.007695206824111799), (4322, 0.007688983130974879), (1978, 0.007688145826607257), (3296, 0.0076880772546371635), (2401, 0.0076859555573141084), (4319, 0.007685170595694409), (1712, 0.00767514672347611), (2898, 0.007653676561504475), (4367, 0.00765358443519428), (3148, 0.007653252035604213), (3679, 0.007646207562392408), (3013, 0.007625305032670976), (3635, 0.007623053332770733), (576, 0.0076199280250712365), (3274, 0.007616133218223943), (3657, 0.007614736243536041), (1941, 0.007607136679420048), (3560, 0.007594968905761062), (4702, 0.007592534336745517), (2974, 0.007589143688481768), (3977, 0.007585434760059728), (4303, 0.007584096440083258), (4718, 0.0075810412330652634), (3804, 0.007540338938562529), (3248, 0.007538627717969294), (3273, 0.007525402928246295), (1327, 0.007510332871563456), (2472, 0.00750075785909056), (4571, 0.0074964938550686555), (4138, 0.0074924668903179545), (2539, 0.007488130925115473), (3846, 0.007484427128924866), (2545, 0.007480887906220006), (892, 0.007472827314557111), (185, 0.0074666884057682185), (2890, 0.007458844827640667), (4285, 0.0074586678610168225), (2197, 0.007458579140226271), (3979, 0.007456704069873917), (3864, 0.007453199253021756), (3132, 0.007446273078207521), (3417, 0.0074448469799045115), (587, 0.007434019579205313), (3116, 0.007427921428416919), (2836, 0.007418905158882672), (2390, 0.007410157296804273), (1040, 0.007402040392640452), (1126, 0.007383254935605406), (4378, 0.007378755015991853), (1936, 0.0073387007367388185), (55, 0.007338641141527236), (1182, 0.007325977945128036), (2705, 0.007319099097092226), (1771, 0.007289632847088279), (4546, 0.007288114163786757), (1357, 0.007288008619830892), (2677, 0.00728504950087016), (2255, 0.0072743794254714784), (4657, 0.007269902442783355), (2851, 0.007269298418549315), (2475, 0.0072692874415459085), (3879, 0.007248982271688103), (1618, 0.007239914802692052), (4414, 0.0072393405852106615), (3904, 0.007230040952499128), (2693, 0.007227971730817354), (958, 0.007218838308385961), (4746, 0.007208869414830399), (2664, 0.007206356435791856), (3840, 0.007199838532723732), (2105, 0.007197911025477144), (4175, 0.007197656973735287), (4294, 0.0071932690001891095), (4146, 0.007191254740029933), (3434, 0.0071912489216686155), (3490, 0.007180237938890433), (2821, 0.007175980390904918), (3314, 0.007168997356036411), (3326, 0.007159248134600669), (2323, 0.0071367714359170924), (4710, 0.0071269668006330306), (4566, 0.007125673308432182), (783, 0.0071206177610842105), (2426, 0.007118711261799197), (2025, 0.007115660913139265), (3467, 0.007113114646782108), (178, 0.0071107757676066525), (1073, 0.0071085397416800755), (1363, 0.007096017482354594), (649, 0.007086214238376874), (564, 0.007081625469345256), (2904, 0.007030658900470736), (2319, 0.007022105775944195), (3982, 0.007021576124386973), (4625, 0.007018519585580529), (4079, 0.00700723629645036), (446, 0.007004557784425045), (774, 0.007003873997845404), (2594, 0.007003375604303594), (4188, 0.006978367230321687), (2866, 0.006957663904046757), (2048, 0.006957291103288991), (4247, 0.006950922528134506), (817, 0.006948620315011367), (3521, 0.006946142131132117), (1946, 0.006946036105457008), (871, 0.006945301634781816), (2230, 0.006941948362598614), (2894, 0.006936635720702431), (4336, 0.0069356711785207555), (651, 0.0069323489600776195), (1684, 0.006918223386816668), (117, 0.00691689732872083), (2386, 0.006910835725317591), (4443, 0.006907065309383792), (3589, 0.006895039030735235), (3753, 0.006887978914097046), (3123, 0.0068773649801863665), (2879, 0.006866596854845532), (3929, 0.006863447279363494), (2313, 0.006862765304657556), (198, 0.006858353973321102), (3509, 0.006852235277107765), (2473, 0.006838410337751325), (2652, 0.006833656226147948), (1974, 0.006833098978603654), (1038, 0.006828755523639006), (2544, 0.0068197214921682965), (2778, 0.006817711506180983), (1283, 0.006811178519804163), (2379, 0.006808492846014942), (4588, 0.006801869598890635), (2572, 0.0068018185809477424), (3901, 0.006799815140970456), (2490, 0.006799652016039923), (1200, 0.006796154045217352), (1732, 0.00679303287668536), (1429, 0.006778251847543653), (1791, 0.006766366225441567), (2952, 0.006761854148675304), (1485, 0.0067458609475416105), (2943, 0.006735246036514701), (3716, 0.006720127611650537), (4664, 0.0067159947053474925), (1569, 0.006713384535353838), (490, 0.00669350409683594), (2686, 0.006692822064246196), (2858, 0.006686851438156996), (2137, 0.006686478164389617), (3139, 0.006679340031884709), (1514, 0.006645250238559594), (766, 0.0066438645461383335), (1920, 0.006639115825870055), (3021, 0.0066284674367439005), (3559, 0.006619888444324503), (2921, 0.006611158456547424), (4412, 0.0066048198830476156), (3040, 0.006588320729254253), (4552, 0.006587984539523976), (1350, 0.006584381911110411), (1469, 0.006579804664940941), (693, 0.006579010331550825), (3075, 0.006564896810472922), (565, 0.006559845753446728), (4381, 0.006553109798955181), (1730, 0.006546306672965677), (3024, 0.006542109957106638), (4163, 0.0065369717978283615), (4139, 0.006527390420461977), (449, 0.006494056247975451), (2537, 0.0064717299799607894), (3856, 0.0064709203892108665), (3268, 0.006451527056191281), (2001, 0.006438434074366858), (3170, 0.006430617466761624), (2835, 0.006418307034728546), (2404, 0.006416705347251689), (3898, 0.006414562132038366), (373, 0.006406162037750057), (4153, 0.006400232981244241), (698, 0.006395370415846965), (107, 0.006394777844083552), (2881, 0.00638576117572074), (4092, 0.006380668958120731), (3680, 0.0063758375198653666), (1651, 0.006373262948461479), (4494, 0.006369653515850268), (849, 0.0063516185132521785), (2731, 0.006332578286121261), (975, 0.006327965677134716), (3196, 0.006322534829696319), (3032, 0.006311114570458413), (4484, 0.006289996810571431), (1558, 0.006283525332947629), (4593, 0.006269633861261914), (1498, 0.006268401447345438), (3880, 0.006264501892642673), (1960, 0.006242698690870348), (2428, 0.006222367799231739), (2453, 0.006212610043151316), (3208, 0.006210918443689082), (4598, 0.00620440905548956), (2054, 0.0062039487442977275), (1454, 0.006192958053432824), (1628, 0.006184946548563053), (4046, 0.0061811220988485325), (2113, 0.006180384244659611), (4601, 0.006171391172887069), (517, 0.006139989425617075), (1932, 0.006135115371448905), (3892, 0.006132812694535765), (1869, 0.006120086435870895), (3614, 0.006118322584549367), (3704, 0.006093067429858495), (4712, 0.0060892537389591736), (4579, 0.006077403896662876), (3634, 0.006071010315513571), (3112, 0.00606294561464296), (3795, 0.006046597803536657), (2787, 0.006043632297598573), (2949, 0.006024416075419802), (1211, 0.006022476218863615), (1014, 0.006001748766880323), (3380, 0.006000425506941846), (54, 0.006000210863489622), (1423, 0.005999032194002923), (132, 0.005992808957897231), (4102, 0.005990008297627723), (4026, 0.005988293421975449), (2714, 0.00596723403373837), (1484, 0.005964211551976797), (2423, 0.005945438612303525), (3427, 0.00593067433900941), (716, 0.005912549189934013), (4430, 0.00590327523236915), (3249, 0.005900456219698146), (4128, 0.005886781476009344), (34, 0.005867059788524352), (3537, 0.005851557346451335), (1037, 0.005841012451230065), (980, 0.005827348807966242), (3945, 0.005824062654119605), (3922, 0.005823846709733797), (4249, 0.005817569096495933), (2064, 0.00581729416306021), (2527, 0.005813719539266612), (3008, 0.005791326312119196), (1763, 0.005788504278881266), (3074, 0.005788076999630217), (4098, 0.005779527234112658), (2499, 0.005778826722623688), (1174, 0.005764055885480881), (750, 0.005744180658092277), (3544, 0.005742619753294615), (3501, 0.005731306832724277), (3669, 0.0057283960086353305), (2091, 0.005716796353525372), (2374, 0.005714226979261737), (556, 0.005711326380795136), (1138, 0.005703553668314961), (4677, 0.005698822164247144), (636, 0.005694253609646992), (2606, 0.005677259307578937), (4517, 0.005672424270923173), (2253, 0.005671904310692349), (4715, 0.005652865133143191), (4196, 0.005640631264269448), (761, 0.005639156423905454), (2558, 0.0056390615198635766), (713, 0.0056250817309794815), (1811, 0.0055929771471264905), (3727, 0.005590342901102111), (3624, 0.005586071874225867), (4023, 0.005571321435803223), (1770, 0.00557023640030456), (950, 0.0055606721664915575), (3763, 0.005559915027145114), (1362, 0.005556353750654738), (3621, 0.005551326942414864), (3195, 0.005548641487852355), (4569, 0.005546292691371147), (4633, 0.005544306884205952), (1792, 0.005544089340784309), (2069, 0.005539743273764195), (1415, 0.0055381479237446045), (4159, 0.005537279821395925), (4362, 0.0055207827090846436), (3185, 0.0055204980922525316), (2846, 0.005520168544532622), (1947, 0.00547659213591902), (3337, 0.005443467547771738), (1979, 0.0054364228461955), (925, 0.005424535940269369), (4741, 0.005423518384844172), (194, 0.0054233428417969015), (2478, 0.005415751925220749), (1656, 0.005408770454524873), (4670, 0.005400961435072765), (2796, 0.005398937662635066), (331, 0.005398174233456923), (2135, 0.005387954645242081), (2540, 0.005373754091805712), (2967, 0.005368689486211343), (3035, 0.005367635361074799), (2223, 0.005364033385281046), (2914, 0.005335377067184141), (3761, 0.0053224089619668775), (3734, 0.005317916301123859), (1177, 0.005311312864891647), (694, 0.005302118197891836), (3962, 0.00529843219970629), (2708, 0.00528030981098052), (3146, 0.005276951683226879), (2496, 0.005272814584623745), (3452, 0.0052576173870172264), (1433, 0.0052455569255252035), (3003, 0.005240735734471551), (4259, 0.005240249070912228), (868, 0.0052349598491599585), (3062, 0.005230303404237521), (1760, 0.0052129899781230464), (3026, 0.0052122595285681505), (3830, 0.005205335352578631), (1172, 0.005186627073674837), (4308, 0.005173599453585148), (1462, 0.0051715833550258225), (2324, 0.00516116255471946), (863, 0.005153892531471801), (3044, 0.005142478509720623), (2882, 0.005126518880539389), (2507, 0.00512480540729866), (3474, 0.005123356180827261), (1892, 0.0051198517481116125), (4734, 0.005098351976418215), (4154, 0.005094857594876464), (3834, 0.005092434527376493), (1868, 0.005090274307944892), (3319, 0.00508174825069899), (581, 0.005081028287119828), (4132, 0.005078049237933043), (1745, 0.005057093647164419), (2786, 0.005052103021488414), (872, 0.005050542853703785), (4111, 0.005050362597820726), (1409, 0.005047075920020776), (2260, 0.005046700193915942), (230, 0.005044861055774636), (3693, 0.005041113493309307), (2970, 0.005028531704478404), (3084, 0.005003615359764041), (4489, 0.005003535337191443), (2095, 0.0050030222300577265), (4054, 0.005002388337936637), (4661, 0.004997889915103134), (1822, 0.004980078422704245), (3037, 0.004979769777632933), (2394, 0.00497102956400134), (3798, 0.004936843806279041), (4432, 0.004935070145652005), (2926, 0.004933815186555749), (4691, 0.004928018404022722), (4666, 0.004925544503928695), (2517, 0.004924535874769529), (2561, 0.004921842855431647), (3224, 0.004911681723203934), (884, 0.0049083001146577165), (812, 0.004898190146781071), (1647, 0.00489686121751823), (1765, 0.004879320160288311), (1516, 0.004858554926238018), (861, 0.004855298562124341), (933, 0.004818051123567108), (3113, 0.0048117867167895515), (2292, 0.004804918633414788), (248, 0.004792383980092298), (1204, 0.004786547944119192), (2554, 0.004759227849488925), (2192, 0.004750953849184181), (2387, 0.004707416292955131), (2589, 0.004704749718021855), (2355, 0.004700641154815775), (3331, 0.004700050406463871), (16, 0.004699468756487135), (3673, 0.004698569039179498), (1298, 0.004691538965853025), (4219, 0.00467713251061878), (2060, 0.004669771145462017), (1598, 0.004657028420517901), (1541, 0.004644097401972752), (1100, 0.004639597755193177), (4530, 0.004613853726812958), (4036, 0.004609593518836481), (4229, 0.004601056217472632), (4047, 0.004598504670659763), (3402, 0.00459727642470635), (755, 0.004584768559824302), (4208, 0.004552431767913615), (1117, 0.004532057759446103), (3503, 0.004523786193926591), (3049, 0.0045173480181769496), (819, 0.004511100433535103), (4385, 0.004508846229528329), (505, 0.004481700417862498), (4206, 0.004481246680268116), (1153, 0.004456307642878585), (3811, 0.004447413741777383), (3942, 0.004438030935128308), (4254, 0.004429677008265479), (3744, 0.00442777969171789), (886, 0.004422850160792045), (941, 0.004418571852559642), (3475, 0.00441750843480453), (4518, 0.004416595476430105), (4698, 0.004389520965473676), (759, 0.004295303625330507), (1528, 0.004284980042167052), (3940, 0.004271033233742276), (473, 0.004268119374256433), (2741, 0.004247741426089899), (4304, 0.004234151551617762), (1980, 0.004231420044696744), (3115, 0.004230603887592027), (3440, 0.004227171819981307), (2976, 0.004226118283082603), (4726, 0.00422502037275791), (2703, 0.004206879089776202), (4331, 0.004190848062853323), (4162, 0.004187558609024196), (4527, 0.004183325100584489), (1830, 0.004180161033249169), (1251, 0.0041746485218106645), (3755, 0.004169451834328005), (855, 0.004154191004255885), (2476, 0.004136936369020805), (2181, 0.004129656386180229), (4389, 0.004122170522681935), (1943, 0.0041062901391062615), (2700, 0.004087175356864896), (1397, 0.0040796795161139945), (3158, 0.004077745802771006), (3385, 0.0040776435795942005), (2683, 0.004075214091387028), (1370, 0.004067799249732949), (1158, 0.004064782466030064), (1976, 0.004064275793960572), (1391, 0.004058959214968632), (4043, 0.004055224309165842), (1332, 0.0040536047962265965), (2733, 0.0040414633116603845), (3088, 0.004041103782777688), (2669, 0.004018944447044687), (550, 0.0040185985793642276), (2314, 0.004002298155125941), (4144, 0.004001827602244126), (595, 0.004001291032832104), (69, 0.003994783444709513), (3802, 0.003983788524347097), (951, 0.003982604954201938), (2657, 0.003980694204473762), (4636, 0.0039784120966489785), (3263, 0.0039635327459672555), (1829, 0.003960224095394887), (513, 0.003954968358724789), (303, 0.003947980875898895), (3938, 0.003944754417009999), (4595, 0.003936779127239178), (2684, 0.0039355130682856105), (2599, 0.0039322434324603655), (2084, 0.003926422348147432), (3468, 0.003921086736222527), (1661, 0.0039178700463402705), (2659, 0.003914531034622039), (2312, 0.003912506524388775), (4200, 0.003900521747941515), (3451, 0.0038995816450527105), (4703, 0.0038994116721982864), (3782, 0.0038970819718251587), (3850, 0.003888114843213142), (3710, 0.0038678551640856126), (1904, 0.0038475881507977583), (1452, 0.003845561783420534), (1531, 0.003844130500231359), (1975, 0.003832135276387781), (4480, 0.0038263789288993885), (4744, 0.003824403473804497), (2413, 0.003816296316678525), (3769, 0.00380404651956215), (3488, 0.003792949332464643), (4586, 0.003788447484234846), (3995, 0.0037719954597093476), (3266, 0.0037592997355544106), (2395, 0.0037591261299353956), (3796, 0.003758622916190767), (4239, 0.003754501809874206), (3398, 0.0037522641313499083), (3191, 0.003745554012373297), (95, 0.0037424982986892555), (3179, 0.0037358555707857556), (4377, 0.0037337351578716265), (118, 0.0037330566091011955), (4251, 0.003730050433937287), (2947, 0.0037289975516567983), (1901, 0.003728678255418831), (2960, 0.003710733965150911), (3815, 0.0037092800703012), (2667, 0.003703090745155964), (3404, 0.003701619814616937), (2922, 0.0036976786069587166), (3576, 0.003695139647566838), (811, 0.0036885296761182797), (4700, 0.0036796616967557792), (4115, 0.0036668268036005557), (30, 0.003666180684707788), (2990, 0.0036583431109360968), (4103, 0.003657914974994249), (2506, 0.003650040739531033), (389, 0.003622062363317908), (4248, 0.0036166821165565847), (3432, 0.0036115760799560344), (351, 0.003599295172873306), (375, 0.0035955842637595157), (2483, 0.003583934483093503), (2715, 0.003577610463390394), (3602, 0.003577325690918637), (3793, 0.003576696935581874), (927, 0.0035687160152497238), (633, 0.0035642375735817993), (2536, 0.0035499783264984998), (4039, 0.003546582054327313), (1953, 0.003535030061171553), (3439, 0.003524837728351066), (4040, 0.003506744082182352), (3156, 0.0035041612069826155), (3664, 0.003497111199066624), (2941, 0.003492388701421581), (2282, 0.003491568309965956), (93, 0.0034846559321249173), (3126, 0.003484212069049303), (3605, 0.003478055367251872), (3881, 0.003469547012617103), (2875, 0.0034539785363271306), (1631, 0.0034517848334600955), (2455, 0.003449328795783634), (3740, 0.003439284202554326), (4151, 0.0034364322725671907), (3087, 0.0034285155655344917), (3988, 0.0034206318110351964), (1749, 0.0034123448987412636), (3135, 0.0034076169635282112), (3788, 0.0034008741367056645), (3100, 0.0033984915681858664), (3136, 0.003393280086613875), (3671, 0.00338278350289669), (4697, 0.003381869356640299), (4058, 0.0033802298809043653), (2564, 0.0033761463063164934), (4562, 0.0033760288166051677), (2515, 0.0033739214394131628), (316, 0.0033718920181512817), (4193, 0.0033086635294147463), (4631, 0.0033001261721345328), (4127, 0.00329871064773357), (4720, 0.003298448981986077), (3203, 0.003272885110260161), (997, 0.0032720984956817784), (3054, 0.003265439557272639), (323, 0.00325441366112126), (932, 0.0032523077949412785), (4570, 0.0032485768455589622), (4582, 0.0032452556633509036), (4506, 0.0032445451531151874), (559, 0.0032413106842110358), (4190, 0.003241104223579505), (3996, 0.0032402252870998628), (3495, 0.0032351636472009587), (4204, 0.003234520246629144), (4341, 0.0032236397270555173), (611, 0.0032134360452794443), (3789, 0.003209425585280824), (4711, 0.003207437470151613), (4451, 0.0032063727195058445), (4365, 0.003204567989723164), (955, 0.0032042294987054657), (2299, 0.0031983627211629906), (3160, 0.0031957888307006114), (3324, 0.00319379100042026), (3931, 0.0031790316879043504), (1590, 0.0031720786560291646), (4346, 0.0031528467415985945), (2261, 0.0031500309777834795), (1699, 0.003147770237538139), (4010, 0.0031357103130144706), (3339, 0.0031309932571960916), (625, 0.003130907190705684), (2676, 0.003116223050465025), (2305, 0.003108142649410563), (3791, 0.003100909665050581), (3405, 0.0030922617952167416), (2357, 0.0030851488685591155), (3649, 0.003082949613297526), (4317, 0.0030816243252641687), (4737, 0.003081350274471631), (2138, 0.0030800874575262157), (1437, 0.0030793911831625918), (3383, 0.0030771490654046985), (3820, 0.0030722865996679616), (839, 0.00307036594008447), (1999, 0.0030697837061019065), (3806, 0.0030692966483563586), (1560, 0.003062385391580102), (2757, 0.0030612898905652544), (1311, 0.0030487316443599177), (2164, 0.0030417776452501483), (2799, 0.003041635982946726), (2479, 0.0030346492287478023), (2381, 0.003029922958405849), (3080, 0.0030291049323752073), (2384, 0.003026673700863084), (365, 0.0030178480866425756), (1836, 0.0030173536323338467), (4513, 0.003009591348540188), (3572, 0.0030087414438062137), (2998, 0.003002658989795304), (4003, 0.0030019621691053547), (3519, 0.00299196014279152), (2930, 0.0029879278931053323), (3581, 0.002987412960270209), (990, 0.0029853162016125383), (841, 0.0029839956227075823), (1844, 0.0029836035786560706), (3837, 0.0029830123361011146), (2573, 0.0029822905596412013), (2452, 0.0029813843349954902), (2811, 0.0029760061741362664), (3628, 0.002971770368301009), (2575, 0.0029702758503038617), (1491, 0.0029615106468759474), (4258, 0.002960998391237606), (1164, 0.002958332884675512), (2604, 0.0029574639654607764), (2979, 0.002952491314463884), (4413, 0.002946646292835394), (3989, 0.002930971291296856), (3510, 0.0029297205511521303), (1103, 0.0029284153803792318), (771, 0.002927790272938264), (3943, 0.002921080966920184), (289, 0.002920040551499653), (877, 0.002909502326513602), (4131, 0.002908160916352682), (4370, 0.002902407580291554), (1333, 0.002898007143198926), (3539, 0.002895267539790514), (3236, 0.0028903534756478926), (1856, 0.0028900654167443966), (4560, 0.0028900402730772713), (1596, 0.0028867317376280624), (4622, 0.0028846662086304386), (4256, 0.0028838655661940884), (3442, 0.002882592129119156), (2516, 0.002879450006445156), (4655, 0.0028765057267548175), (4260, 0.002872322685087451), (2937, 0.0028720489595363704), (4180, 0.0028718194517365838), (3041, 0.0028684897047496984), (4323, 0.002862487957496464), (4705, 0.002859612708645261), (1299, 0.0028527697053754657), (2754, 0.0028491136781266606), (1193, 0.0028476805838228677), (1142, 0.0028469982426366225), (2217, 0.002844980853987292), (2002, 0.0028443206251877965), (3415, 0.002844135368385311), (3038, 0.002842793901576068), (3672, 0.002842087422295632), (2605, 0.0028368650262956927), (3591, 0.0028363124218718687), (2090, 0.0028362607408752107), (2042, 0.0028357728538190357), (4433, 0.0028352834129527506), (3162, 0.0028337846555702797), (4125, 0.0028225423803682867), (2325, 0.0028212002234761445), (4648, 0.0028105135681964436), (2189, 0.0028075995597272385), (2456, 0.002804858625076178), (59, 0.0027999054961761432), (1697, 0.002797298250824121), (4202, 0.0027966994715050656), (2092, 0.0027916891914479464), (1917, 0.002789609840334988), (245, 0.0027875330910215775), (2307, 0.002787511080080642), (2989, 0.0027869540475237583), (2251, 0.002782866867435704), (2200, 0.002777093931204691), (4404, 0.002776454398256473), (134, 0.0027761242633400894), (1085, 0.0027704542377704738), (1166, 0.0027701623031187706), (3990, 0.0027607025369479348), (2896, 0.002759692263691971), (1889, 0.0027590171278277795), (2685, 0.0027579794620772743), (401, 0.00275431039520112), (2586, 0.0027534560801904), (2889, 0.002753332938119628), (4214, 0.0027526788637405285), (1473, 0.0027525971500952117), (3332, 0.0027501271628156683), (1879, 0.0027493219696973596), (3676, 0.0027462641284859216), (3494, 0.002735026351613375), (2153, 0.0027324374096032353), (3052, 0.0027319173975812227), (943, 0.002724098237151128), (3055, 0.0027216154141115577), (2709, 0.002718765305767586), (4195, 0.0027159321965304945), (1227, 0.0027148260576776097), (4017, 0.002714149697353937), (4291, 0.002713773854260825), (965, 0.0027116408120535437), (3561, 0.002711328356414909), (3104, 0.0027112191474421518), (3805, 0.002709680231784293), (3106, 0.002708978269940856), (627, 0.0027082902732190636), (4457, 0.002707566787376683), (1444, 0.002704185139003021), (3545, 0.0026973825906611492), (2923, 0.0026948576239357418), (1834, 0.0026941244804212787), (4749, 0.002684194402909888), (2435, 0.0026835355185775792), (4529, 0.0026817145101070204), (3350, 0.0026810233428882025), (2310, 0.0026741750262935216), (4221, 0.0026741211286027394), (2694, 0.0026642330144954944), (1842, 0.0026589476675162663), (4234, 0.0026510893936621902), (2861, 0.002651079279453961), (3836, 0.002650376113627048), (4172, 0.002644153577110877), (3366, 0.002624591289909589), (3896, 0.0026204752126034484), (4696, 0.002620284451414598), (2465, 0.002619159796157905), (2628, 0.0026182886667209773), (720, 0.002613695146592779), (2392, 0.002611480632700128), (3292, 0.0026109561102096914), (772, 0.0026070869892007584), (1545, 0.002605986799791351), (3762, 0.002605704250008272), (4434, 0.002603295091355621), (1912, 0.0026018424074345597), (3595, 0.002600094957289404), (1490, 0.0025965360284386394), (3965, 0.0025954079585877427), (1839, 0.002595210497373998), (4423, 0.0025935687600320573), (2620, 0.0025931982975599312), (4019, 0.00259276839239925), (2425, 0.0025921915953437354), (2140, 0.0025840058042921835), (1532, 0.0025796020246799645), (2257, 0.0025750830834352324), (4037, 0.0025744184231081993), (3322, 0.00257414323765434), (889, 0.002574052509802192), (1785, 0.002571500255847939), (2350, 0.0025701080759695026), (2901, 0.0025679370293717847), (4230, 0.0025627306247112966), (2179, 0.002552956118225551), (4400, 0.0025496673603267275), (3250, 0.0025487436753131253), (4690, 0.0025485552667598933), (4667, 0.0025413946317211903), (3848, 0.002537494705427455), (4606, 0.0025321110861855306), (2450, 0.0025263047613992267), (3543, 0.002526243333133905), (4305, 0.002524613881361571), (2272, 0.002524226045327045), (3354, 0.00251814072888802), (770, 0.002510062218435597), (3687, 0.0024981348204862457), (3923, 0.002497031068998583), (4692, 0.002496658905766542), (4521, 0.00249648566997528), (4544, 0.0024950810308489776), (2225, 0.002489118151910405), (1242, 0.002486070355039113), (2557, 0.002480569860168328), (2438, 0.0024774089339249543), (3159, 0.0024754140730632768), (3429, 0.002473639617823765), (3885, 0.0024721927132495968), (4107, 0.0024696910589510094), (3613, 0.0024669805678945544), (2063, 0.0024637373584634388), (1093, 0.0024562224740189804), (4572, 0.0024546986737813406), (4209, 0.002450874210297626), (3874, 0.002445786223571586), (4723, 0.0024454469802012413), (3031, 0.0024432184775754445), (3620, 0.0024354970357069955), (1593, 0.0024238623932993685), (3206, 0.002419907563444152), (4237, 0.0024194083757054473), (2454, 0.0024151693042673656), (2993, 0.0024124274314616936), (1601, 0.002412203805648278), (1652, 0.0024105055680625318), (393, 0.0024065933644268757), (4358, 0.002397671936066235), (836, 0.002395757248095654), (2895, 0.002394051011327693), (2433, 0.002379811478883659), (2059, 0.0023701023610306813), (3935, 0.0023568084766784295), (2613, 0.002356275336506654), (4416, 0.0023543037481391755), (3081, 0.002353834926266375), (2378, 0.0023538060392790804), (4694, 0.0023500499720245675), (2707, 0.002347423722516822), (4030, 0.0023410361643680694), (1323, 0.0023349229050990865), (2142, 0.00233267830746201), (1547, 0.0023294895485878645), (1008, 0.0023286637013336027), (4126, 0.00232738906774592), (3884, 0.002327070634127144), (1070, 0.002322716113738545), (3729, 0.0023179279875215502), (2987, 0.0023090280209772133), (3396, 0.002307002608129006), (823, 0.002305408570620924), (721, 0.0022916805861115217), (3639, 0.0022890457727596674), (1497, 0.0022826432702895056), (4753, 0.0022806583233494363), (2437, 0.002270201191757869), (3186, 0.00226783358090857), (2373, 0.0022663680230558887), (2623, 0.002264252145680237), (478, 0.002263592724174153), (1944, 0.0022570889780576197), (3212, 0.002252864636687681), (419, 0.0022526297702260135), (2770, 0.002247263509022074), (922, 0.0022439740257372766), (4160, 0.0022424805172699485), (596, 0.0022410053280573806), (2916, 0.0022403250064159078), (1862, 0.0022400211492731316), (1499, 0.002238953564043552), (4396, 0.002237718408377038), (2134, 0.002237184747468082), (2356, 0.0022358795967469067), (4401, 0.0022346400508373603), (3737, 0.0022333493398267205), (1289, 0.0022326879710220546), (1156, 0.0022309104340151047), (444, 0.002228538195744243), (2585, 0.002226535203108513), (4397, 0.002225955830036063), (41, 0.002225543380210363), (1890, 0.0022193226181453137), (1326, 0.0022184527581564067), (2018, 0.0022166196557004943), (3101, 0.002209703092737972), (1580, 0.002207025213132748), (3971, 0.0021915756075404705), (2624, 0.0021885325149588264), (3714, 0.0021861665068415837), (4130, 0.0021860876763121063), (3749, 0.002180764954052271), (4519, 0.002180214250403711), (499, 0.002176634332333965), (3064, 0.002176340165459006), (1268, 0.0021756107371804488), (4528, 0.0021721011451215815), (4545, 0.0021644117739651335), (1959, 0.0021635376824807443), (3757, 0.002157525259163812), (2190, 0.002155912934539763), (4161, 0.0021517032507501056), (4540, 0.0021490976517217378), (4245, 0.0021489210688960237), (791, 0.002148643007751998), (395, 0.00214589554631483), (2723, 0.0021450537343924788), (3781, 0.002143006671763636), (4680, 0.002138487188672376), (3007, 0.0021367179918530634), (826, 0.002133080366283184), (4355, 0.0021307715727274094), (3987, 0.0021302387547256427), (3590, 0.0021245973604532968), (2361, 0.0021214979266561797), (4505, 0.002117091472359077), (2953, 0.0021170521814479256), (2288, 0.002115574276211098), (4318, 0.0021134733580035624), (1916, 0.0021076867057197783), (1570, 0.002103441371794521), (3372, 0.0021005699147920226), (2083, 0.0020931257140020436), (20, 0.002092026169084497), (3770, 0.00209153245209846), (837, 0.002089024313039323), (4083, 0.00208811904340702), (3902, 0.002081044873674803), (3353, 0.0020793653569604136), (2123, 0.0020702232077180007), (1703, 0.0020694112497360423), (3527, 0.002067481179189531), (3636, 0.0020611760407650394), (1717, 0.0020598739502310907), (176, 0.0020551771384483015), (3225, 0.0020495889809195216), (3542, 0.002046392266331532), (1176, 0.002041630361865773), (593, 0.002040029935871035), (2073, 0.002038426474375217), (3707, 0.0020356388975293857), (2887, 0.0020266152680710123), (4014, 0.002023692035935727), (4391, 0.002021288465006866), (848, 0.0020170969634631685), (2533, 0.0020116397560678997), (2826, 0.002010771642467147), (378, 0.002008657758811388), (2354, 0.002002085835210981), (226, 0.001999817568469159), (1163, 0.0019965665993890184), (4409, 0.0019882598701551077), (2289, 0.0019862415570434814), (3441, 0.0019836641947522577), (1072, 0.001980997481456994), (4520, 0.001979962215130511), (1831, 0.0019775909472290747), (247, 0.0019775907878647374), (3381, 0.0019762091533795417), (4228, 0.001975983295798954), (4668, 0.001970761976117738), (4487, 0.0019705133880503207), (2173, 0.001969517976884961), (3093, 0.0019683706492685487), (2946, 0.0019683475642417224), (4020, 0.001962180819839708), (3827, 0.001961043296600321), (26, 0.001956984559713861), (4641, 0.001953849237069678), (3069, 0.001953189766061728), (3719, 0.0019522015930053295), (4693, 0.0019428322229486838), (1813, 0.0019417826853124207), (4573, 0.001938920978682411), (4129, 0.0019359486238555215), (4069, 0.0019318743764604608), (4461, 0.0019254648633407014), (646, 0.0019233932709796203), (3900, 0.0019232719118200815), (4729, 0.0019211938985950212), (487, 0.0019146446682310053), (2141, 0.0019117188570519953), (3691, 0.0019031801029135579), (3799, 0.0018959275160954786), (2651, 0.0018923230777938135), (2997, 0.0018904564186444626), (1032, 0.0018891000204864915), (3615, 0.0018834665817896465), (140, 0.0018735438193062627), (3243, 0.001873277512030826), (1884, 0.001869423397976762), (2634, 0.001868852079731903), (3725, 0.0018623209411560318), (1641, 0.001854726310498613), (399, 0.0018532944357642152), (4616, 0.0018475939142960035), (2735, 0.0018466832718167642), (2593, 0.0018453240485374295), (3369, 0.0018448895790899218), (1814, 0.0018415898518455097), (2674, 0.0018411347570435528), (3455, 0.0018364742768283886), (359, 0.0018354956964203735), (4326, 0.0018337264655331744), (624, 0.00182943156697297), (4620, 0.0018274547583925578), (4359, 0.001826023998039068), (3953, 0.0018198014334883492), (3278, 0.001818651438571306), (1826, 0.001808607224559258), (1161, 0.0018054662753297468), (2248, 0.0017981249784145476), (3863, 0.0017972794451506786), (917, 0.0017902672500146643), (1921, 0.0017874832429817754), (4608, 0.0017748899848137839), (4343, 0.0017691140618131922), (4220, 0.0017644327955612178), (92, 0.0017601585680683245), (480, 0.0017550763507607986), (4296, 0.0017421650347907028), (4429, 0.001736597931335815), (4386, 0.0017249928115150048), (3629, 0.001717706083111288), (2382, 0.0017133238758347707), (267, 0.0016949626014791034), (2359, 0.0016693869822667416), (1209, 0.0016667267490453456), (901, 0.0016566272106625804), (3313, 0.0016329244854632094), (4626, 0.001617057755980135), (3431, 0.0016061329364255848), (2010, 0.0015795013671436465), (3301, 0.001566239083670218), (2767, 0.0015604168333481236), (453, 0.0015294046419493564), (4301, 0.0014839115539022382), (2902, 0.0014710133624451292), (858, 0.0013504573219888353), (3608, 0.0013027590380747117), (1, 0.0), (17, 0.0), (133, 0.0), (163, 0.0), (376, 0.0), (379, 0.0), (382, 0.0), (423, 0.0), (462, 0.0), (516, 0.0), (552, 0.0), (557, 0.0), (572, 0.0), (574, 0.0), (592, 0.0), (602, 0.0), (650, 0.0), (674, 0.0), (686, 0.0), (718, 0.0), (954, 0.0), (977, 0.0), (1057, 0.0), (1067, 0.0), (1091, 0.0), (1097, 0.0), (1143, 0.0), (1147, 0.0), (1151, 0.0), (1189, 0.0), (1228, 0.0), (1240, 0.0), (1258, 0.0), (1265, 0.0), (1271, 0.0), (1285, 0.0), (1287, 0.0), (1315, 0.0), (1399, 0.0), (1460, 0.0), (1470, 0.0), (1529, 0.0), (1600, 0.0), (1604, 0.0), (1686, 0.0), (1720, 0.0), (1728, 0.0), (1775, 0.0), (1800, 0.0), (1810, 0.0), (1835, 0.0), (1894, 0.0), (1972, 0.0), (2028, 0.0), (2030, 0.0), (2038, 0.0), (2085, 0.0), (2115, 0.0), (2152, 0.0), (2165, 0.0), (2171, 0.0), (2238, 0.0), (2243, 0.0), (2256, 0.0), (2267, 0.0), (2300, 0.0), (2332, 0.0), (2341, 0.0), (2342, 0.0), (2343, 0.0), (2345, 0.0), (2358, 0.0), (2365, 0.0), (2369, 0.0), (2451, 0.0), (2462, 0.0), (2471, 0.0), (2521, 0.0), (2577, 0.0), (2578, 0.0), (2583, 0.0), (2596, 0.0), (2641, 0.0), (2658, 0.0), (2670, 0.0), (2704, 0.0), (2717, 0.0), (2824, 0.0), (2827, 0.0), (2828, 0.0), (2837, 0.0), (2839, 0.0), (2860, 0.0), (2864, 0.0), (2869, 0.0), (2885, 0.0), (2927, 0.0), (2950, 0.0), (2956, 0.0), (2958, 0.0), (3002, 0.0), (3025, 0.0), (3029, 0.0), (3059, 0.0), (3092, 0.0), (3105, 0.0), (3107, 0.0), (3130, 0.0), (3176, 0.0), (3223, 0.0), (3251, 0.0), (3255, 0.0), (3281, 0.0), (3305, 0.0), (3333, 0.0), (3340, 0.0), (3394, 0.0), (3401, 0.0), (3472, 0.0), (3473, 0.0), (3476, 0.0), (3480, 0.0), (3482, 0.0), (3522, 0.0), (3530, 0.0), (3532, 0.0), (3547, 0.0), (3550, 0.0), (3607, 0.0), (3609, 0.0), (3625, 0.0), (3631, 0.0), (3663, 0.0), (3682, 0.0), (3695, 0.0), (3700, 0.0), (3702, 0.0), (3717, 0.0), (3726, 0.0), (3738, 0.0), (3760, 0.0), (3783, 0.0), (3816, 0.0), (3838, 0.0), (3869, 0.0), (3872, 0.0), (3887, 0.0), (3918, 0.0), (3937, 0.0), (3948, 0.0), (3981, 0.0), (3991, 0.0), (4021, 0.0), (4034, 0.0), (4041, 0.0), (4065, 0.0), (4067, 0.0), (4072, 0.0), (4078, 0.0), (4167, 0.0), (4168, 0.0), (4170, 0.0), (4179, 0.0), (4181, 0.0), (4185, 0.0), (4212, 0.0), (4215, 0.0), (4224, 0.0), (4238, 0.0), (4250, 0.0), (4253, 0.0), (4270, 0.0), (4276, 0.0), (4278, 0.0), (4302, 0.0), (4316, 0.0), (4364, 0.0), (4393, 0.0), (4405, 0.0), (4410, 0.0), (4415, 0.0), (4417, 0.0), (4424, 0.0), (4425, 0.0), (4439, 0.0), (4455, 0.0), (4456, 0.0), (4485, 0.0), (4491, 0.0), (4500, 0.0), (4509, 0.0), (4526, 0.0), (4532, 0.0), (4538, 0.0), (4547, 0.0), (4559, 0.0), (4561, 0.0), (4578, 0.0), (4597, 0.0), (4644, 0.0), (4651, 0.0), (4654, 0.0), (4671, 0.0), (4672, 0.0), (4681, 0.0), (4683, 0.0), (4714, 0.0), (4716, 0.0), (4728, 0.0), (4736, 0.0), (4740, 0.0), (4745, 0.0), (4750, 0.0), (4751, 0.0), (4754, 0.0), (4758, 0.0), (4759, 0.0)]\n"
          ]
        }
      ]
    },
    {
      "cell_type": "code",
      "source": [
        "#print the name of similar movies based on the index\n",
        "print('Top 30 movies suggested for you:\\n')\n",
        "i=1\n",
        "for movie in sorted_similar_movies:\n",
        "  index=movie[0]\n",
        "  title_from_index=df[df.index==index]['Movie_Title'].values[0]\n",
        "  if(i<31):\n",
        "    print(i,'.',title_from_index)\n",
        "    i+=1"
      ],
      "metadata": {
        "colab": {
          "base_uri": "https://localhost:8080/"
        },
        "id": "6DE_10f7kw7X",
        "outputId": "bfb5c6f8-934e-4730-ab03-e50646ef7715"
      },
      "execution_count": 322,
      "outputs": [
        {
          "output_type": "stream",
          "name": "stdout",
          "text": [
            "Top 30 movies suggested for you:\n",
            "\n",
            "1 . Legal Eagles\n",
            "2 . The Rainmaker\n",
            "3 . A Few Good Men\n",
            "4 . The Man from Snowy River\n",
            "5 . Four Rooms\n",
            "6 . Philadelphia\n",
            "7 . The Firm\n",
            "8 . The Client\n",
            "9 . Stripes\n",
            "10 . Laws of Attraction\n",
            "11 . The Verdict\n",
            "12 . The Juror\n",
            "13 . Draft Day\n",
            "14 . Don Juan DeMarco\n",
            "15 . Wanted\n",
            "16 . My Favorite Martian\n",
            "17 . 10th & Wolf\n",
            "18 . Training Day\n",
            "19 . Find Me Guilty\n",
            "20 . Lions for Lambs\n",
            "21 . Get Smart\n",
            "22 . Harper\n",
            "23 . The Dead Zone\n",
            "24 . Deadfall\n",
            "25 . The Raven\n",
            "26 . Takers\n",
            "27 . Judgment at Nuremberg\n",
            "28 . Gossip\n",
            "29 . The Horse Whisperer\n",
            "30 . Radio\n"
          ]
        }
      ]
    },
    {
      "cell_type": "code",
      "source": [
        "Movie_name=input('Enter your favorite movie name:')\n",
        "list_of_all_titles=df['Movie_Title'].tolist()\n",
        "\n",
        "find_close_match=difflib.get_close_matches(Favorite_movie_name,list_of_all_titles)\n",
        "\n",
        "close_match=find_close_match[0]\n",
        "\n",
        "index_of_movie=df[df.Movie_Title==close_match]['Movie_ID'].values[0]\n",
        "\n",
        "Recommendation_score=list(enumerate(similarity_score[index_of_movie]))\n",
        "\n",
        "sorted_similar_movies=sorted(Recommendation_score,key=lambda x:x[1],reverse=True)\n",
        "\n",
        "print('Top 10 Movies suggested for you :  \\n')\n",
        "\n",
        "i=1\n",
        "for movie in sorted_similar_movies:\n",
        "  index=movie[0]\n",
        "  title_from_index=df[df.Movie_ID==index]['Movie_Title'].values\n",
        "  if(i<11):\n",
        "    print(i,'.',title_from_index)\n",
        "    i+=1"
      ],
      "metadata": {
        "colab": {
          "base_uri": "https://localhost:8080/"
        },
        "id": "FbqrRn0umb9U",
        "outputId": "99d429b5-e431-47c0-c5d2-a8942094c306"
      },
      "execution_count": 323,
      "outputs": [
        {
          "output_type": "stream",
          "name": "stdout",
          "text": [
            "Enter your favorite movie name:3 idiots\n",
            "Top 10 Movies suggested for you :  \n",
            "\n",
            "1 . ['Robots']\n",
            "2 . ['Thirteen Days']\n",
            "3 . ['Hook']\n",
            "4 . ['Sheena']\n",
            "5 . []\n",
            "6 . ['The Fast and the Furious']\n",
            "7 . ['Travellers and Magicians']\n",
            "8 . ['Darkness Falls']\n",
            "9 . ['Shutter']\n",
            "10 . ['The Prince & Me']\n"
          ]
        }
      ]
    }
  ]
}